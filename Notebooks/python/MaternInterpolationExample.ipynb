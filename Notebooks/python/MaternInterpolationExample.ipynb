{
 "cells": [
  {
   "cell_type": "markdown",
   "metadata": {},
   "source": [
    "# Molybdenum doped Vanadium Dioxide Data\n",
    "\n",
    "We will be comparing the result of standard punch and fill to that of the technique involving watershed segmentation of the Bragg peaks followed by Laplacian and Matern fill. \n",
    "\n",
    "The data can be found on nxrs:\n",
    "`/data3/GUP-53547/movo2_40/md_54_4b/movo2_40_120K.nxs`\n",
    "\n",
    "From Matt: the most relevant scattering is found half-integer L planes, with only weak size-effect scattering close to the Bragg peaks; a 3D-deltaPDF should show a clear 2D 'X' pattern."
   ]
  },
  {
   "cell_type": "code",
   "execution_count": 1,
   "metadata": {},
   "outputs": [],
   "source": [
    "# Set up directories for {Charlotte,Vishwas}'s machine.\n",
    "# The repo_dir and base_dir are customized for Charlotte's and Vishwas' laptops.\n",
    "# repo_dir corresponds to the directory where the git repo 'laplaceinterpolation' is saved.\n",
    "from   pathlib import Path\n",
    "import socket\n",
    "home = str(Path.home())\n",
    "hostname = str(socket.gethostname())\n",
    "\n",
    "# If not Charlotte's home, Vishwas's home\n",
    "if home == '/Users/charlottehaley':\n",
    "    base_dir = home + '/Documents/Data/Xray/md_54_4b/'\n",
    "    repo_dir = home + '/Documents/Repos/LaplaceInterpolation.jl/'\n",
    "if home == '/Users/vishwasrao':\n",
    "    base_dir = home +'/Research/BES_Project/Data/'\n",
    "    #repo_dir = home + '/Research/BES_Project/Repo/LaplaceInterpolation.jl/'\n",
    "    repo_dir = home + '/Github/LaplaceInterpolation.jl/'\n",
    "\n",
    "save_data_dir = base_dir\n",
    "\n",
    "# filename and filename_background customized to work on Charlotte's and Vishwas's laptops and on nxrs.\n",
    "if \"nxrs\" in hostname and \"nxrs0\" not in hostname:\n",
    "    filename = '/data3/GUP-53547/movo2_40/md_54_4b/movo2_40_120K.nxs'\n",
    "    filename_background = '/data3/GUP-53547/movo2_40/md_54_4b/movo2_40_background.nxs'\n",
    "    save_data_dir = home\n",
    "else:\n",
    "    filename = base_dir + 'movo2_40_120K.nxs'\n",
    "    filename_background = base_dir + 'movo2_40_background.nxs'"
   ]
  },
  {
   "cell_type": "code",
   "execution_count": 2,
   "metadata": {
    "ExecuteTime": {
     "end_time": "2020-08-06T02:46:10.438983Z",
     "start_time": "2020-08-06T02:45:46.546478Z"
    }
   },
   "outputs": [],
   "source": [
    "import sys\n",
    "sys.path.insert(1, repo_dir)\n",
    "\n",
    "import numpy as np\n",
    "import matplotlib.pyplot as plt\n",
    "from   scipy.interpolate import Rbf\n",
    "from   nexusformat.nexus import *\n",
    "from scipy.interpolate import RBFInterpolator\n",
    "\n",
    "import scipy.signal\n",
    "from   astropy.convolution import convolve, Kernel, Gaussian1DKernel\n",
    "import math\n",
    "import scipy.ndimage\n",
    "\n",
    "from scipy.interpolate import RBFInterpolator\n",
    "from scipy.stats.qmc import Halton\n",
    "\n",
    "import math, timeit\n",
    "\n",
    "# This may work differently for you, note that julia v 1.5.4 should be used (v 1.6.0 is incompatible)\n",
    "from julia import Julia\n",
    "julia = Julia(compiled_modules=False)\n",
    "from julia import Main\n",
    "# This line requires that https://bitbucket.org/vishwasrao/LaplaceInterpolation.jl be added to \n",
    "# your julia installation (>julia using Pkg; Pkg.add(\"https://bitbucket.org/vishwasrao/LaplaceInterpolation.jl\"))\n",
    "from julia import LaplaceInterpolation\n",
    "#julia.include(repo_dir+\"/MaternKernelApproximation.jl\")\n",
    "\n",
    "def flipaxis(A,i):\n",
    "    Aprime=np.swapaxes(np.swapaxes(A,0,i)[::-1],0,i)\n",
    "    return Aprime"
   ]
  },
  {
   "cell_type": "code",
   "execution_count": 3,
   "metadata": {
    "ExecuteTime": {
     "end_time": "2020-08-06T02:46:12.030433Z",
     "start_time": "2020-08-06T02:46:10.442322Z"
    }
   },
   "outputs": [],
   "source": [
    "# Load data, print tree.\n",
    "data = nxload(filename)\n",
    "data.unlock()\n",
    "\n",
    "movo2_40_background = nxload(filename_background)\n",
    "movo2_40_background.unlock()"
   ]
  },
  {
   "cell_type": "markdown",
   "metadata": {},
   "source": [
    "## Load the symmetric transform data"
   ]
  },
  {
   "cell_type": "code",
   "execution_count": 4,
   "metadata": {
    "ExecuteTime": {
     "end_time": "2020-08-06T02:46:16.012909Z",
     "start_time": "2020-08-06T02:46:13.735010Z"
    }
   },
   "outputs": [],
   "source": [
    "z3d = data.entry.symm_transform[-0.2:6.2,-0.2:8.2,-0.2:8.2].data.nxvalue "
   ]
  },
  {
   "cell_type": "markdown",
   "metadata": {},
   "source": [
    "## Initialize X, Y, Z and dX, dY, and dZ"
   ]
  },
  {
   "cell_type": "code",
   "execution_count": 5,
   "metadata": {
    "ExecuteTime": {
     "end_time": "2020-08-06T02:46:23.950815Z",
     "start_time": "2020-08-06T02:46:19.188956Z"
    }
   },
   "outputs": [],
   "source": [
    "# The markers should be the Bragg locations\n",
    "x = data.entry.symm_transform[-0.2:6.2,-0.2:8.2,-0.2:8.2].Ql.nxvalue\n",
    "x2 = data.entry.symm_transform[-0.2:6.2,-0.2:8.2,-0.2:8.2].Qk.nxvalue\n",
    "x3 = data.entry.symm_transform[-0.2:6.2,-0.2:8.2,-0.2:8.2].Qh.nxvalue\n",
    "\n",
    "dx = x[1] - x[0]\n",
    "dx2 = x2[1] - x2[0]\n",
    "dx3 = x3[1] - x3[0]"
   ]
  },
  {
   "cell_type": "markdown",
   "metadata": {},
   "source": [
    "## Define the symmetrizing operation and the standard punch"
   ]
  },
  {
   "cell_type": "code",
   "execution_count": 6,
   "metadata": {
    "ExecuteTime": {
     "end_time": "2020-08-06T02:51:11.217214Z",
     "start_time": "2020-08-06T02:51:11.207505Z"
    }
   },
   "outputs": [],
   "source": [
    "Qh_lim=8\n",
    "Qk_lim=8\n",
    "Ql_lim=6\n",
    "\n",
    "kmin=50*(6-Ql_lim)\n",
    "kmax=50*(6+Ql_lim)\n",
    "jmin=50*(8-Qk_lim)\n",
    "jmax=50*(8+Qk_lim)\n",
    "imin=50*(8-Qh_lim)\n",
    "imax=50*(8+Qh_lim)\n",
    "\n",
    "def symmetrize(res):\n",
    "    # This is a bit ad-hoc as the indices are hard-coded.\n",
    "    vvals=np.zeros((601,801,801))\n",
    "    vvals[290:601,390:801,390:801] = res\n",
    "    vvals[300:601,400:801,0:401] = flipaxis(vvals[300:601,400:801,400:801],2)\n",
    "    vvals[300:601,0:401,0:801] = flipaxis(vvals[300:601,400:801,0:801],1)\n",
    "    vvals[0:301,0:801,0:801] = flipaxis(vvals[300:601,0:801,0:801],0)\n",
    "    return vvals[0:600,0:800,0:800]"
   ]
  },
  {
   "cell_type": "code",
   "execution_count": 7,
   "metadata": {},
   "outputs": [],
   "source": [
    "# Matern Interpolation happens here. \n",
    "epsilon = 0.0 # Regularization parameter\n",
    "m = 2 # Matern parameter\n",
    "#radius = 0.0 # Punch radius\n",
    "radius = 0.2\n",
    "h = 0.02 # grid spacing. For MoVO2, the grid spacing along all directions are the same.\n",
    "# For other crystals, this might not be so. In that case, we have separate values of h,k,l.\n",
    "\n",
    "xmin = 0.0\n",
    "xmax = 7\n",
    "ymin = 0.0\n",
    "ymax = 9\n",
    "zmin = 0.0\n",
    "zmax = 9\n",
    "\n",
    "# Here I've implemented the rule where depending on the symmetry group, some Bragg peaks are not punched\n",
    "# centers = LaplaceInterpolation.center_list('G', xmin, xmax, ymin, ymax, zmin, zmax)\n",
    "# LaplaceInterpolation.P(1,2,3)"
   ]
  },
  {
   "cell_type": "code",
   "execution_count": 8,
   "metadata": {},
   "outputs": [],
   "source": [
    "xbegin = ybegin = zbegin = -0.2\n",
    "z3d_copy = np.copy(z3d) #Creating a copy to ensure the original is not overwritten.\n",
    "z3d_punched = np.copy(z3d)\n",
    "z3d_restored = np.copy(z3d) \n",
    "parallel_laplace_restored = np.copy(z3d)\n",
    "\n",
    "# stride = 10 \n",
    "# discard = LaplaceInterpolation.punch_3D_cart(centers[1], (radius, radius, radius), x, x2, x3)"
   ]
  },
  {
   "cell_type": "code",
   "execution_count": 9,
   "metadata": {},
   "outputs": [
    {
     "ename": "RuntimeError",
     "evalue": "<PyCall.jlwrap (in a Julia function called from Python)\nJULIA: iteration is deliberately unsupported for CartesianIndex. Use `I` rather than `I...`, or use `Tuple(I)...`\nStacktrace:\n [1] error(::String) at ./error.jl:33\n [2] iterate(::CartesianIndex{3}) at ./multidimensional.jl:166\n [3] copyto!(::Array{Int64,1}, ::CartesianIndex{3}) at ./abstractarray.jl:733\n [4] _collect(::UnitRange{Int64}, ::CartesianIndex{3}, ::Base.HasEltype, ::Base.HasLength) at ./array.jl:630\n [5] collect(::CartesianIndex{3}) at ./array.jl:624\n [6] broadcastable(::CartesianIndex{3}) at ./broadcast.jl:682\n [7] broadcasted at ./broadcast.jl:1261 [inlined]\n [8] parallel_mat(::Array{Float32,3}, ::Float64, ::Int64, ::Float64, ::Int64, ::Float64, ::Int64, ::Tuple{Float64,Float64,Float64}, ::Array{Float64,1}, ::Array{Float64,1}, ::Array{Float64,1}, ::Int64, ::Float64, ::Float64, ::Float64, ::Float64, ::String) at /Users/charlottehaley/.julia/packages/LaplaceInterpolation/IXmtl/src/GeneralMK3D.jl:151\n [9] invokelatest(::Any, ::Any, ::Vararg{Any,N} where N; kwargs::Base.Iterators.Pairs{Union{},Union{},Tuple{},NamedTuple{(),Tuple{}}}) at ./essentials.jl:710\n [10] invokelatest(::Any, ::Any, ::Vararg{Any,N} where N) at ./essentials.jl:709\n [11] _pyjlwrap_call(::Function, ::Ptr{PyCall.PyObject_struct}, ::Ptr{PyCall.PyObject_struct}) at /Users/charlottehaley/.julia/packages/PyCall/BD546/src/callback.jl:28\n [12] pyjlwrap_call(::Ptr{PyCall.PyObject_struct}, ::Ptr{PyCall.PyObject_struct}, ::Ptr{PyCall.PyObject_struct}) at /Users/charlottehaley/.julia/packages/PyCall/BD546/src/callback.jl:44>",
     "output_type": "error",
     "traceback": [
      "\u001b[0;31m---------------------------------------------------------------------------\u001b[0m",
      "\u001b[0;31mRuntimeError\u001b[0m                              Traceback (most recent call last)",
      "\u001b[0;32m/var/folders/2w/cq08bvmn7nxgm5w0bn0pdyg40000gn/T/ipykernel_3351/3173043481.py\u001b[0m in \u001b[0;36m<module>\u001b[0;34m\u001b[0m\n\u001b[0;32m----> 1\u001b[0;31m \u001b[0mLaplaceInterpolation\u001b[0m\u001b[0;34m.\u001b[0m\u001b[0mparallel_mat\u001b[0m\u001b[0;34m(\u001b[0m\u001b[0mz3d\u001b[0m\u001b[0;34m,\u001b[0m \u001b[0mxmin\u001b[0m\u001b[0;34m,\u001b[0m \u001b[0mxmax\u001b[0m\u001b[0;34m,\u001b[0m \u001b[0mymin\u001b[0m\u001b[0;34m,\u001b[0m \u001b[0mymax\u001b[0m\u001b[0;34m,\u001b[0m \u001b[0mzmin\u001b[0m\u001b[0;34m,\u001b[0m \u001b[0mzmax\u001b[0m\u001b[0;34m,\u001b[0m \u001b[0;34m(\u001b[0m\u001b[0mradius\u001b[0m\u001b[0;34m,\u001b[0m \u001b[0mradius\u001b[0m\u001b[0;34m,\u001b[0m \u001b[0mradius\u001b[0m\u001b[0;34m)\u001b[0m\u001b[0;34m,\u001b[0m \u001b[0mx\u001b[0m\u001b[0;34m,\u001b[0m \u001b[0mx2\u001b[0m\u001b[0;34m,\u001b[0m \u001b[0mx3\u001b[0m\u001b[0;34m,\u001b[0m \u001b[0;36m1\u001b[0m\u001b[0;34m,\u001b[0m \u001b[0;36m0.0\u001b[0m\u001b[0;34m,\u001b[0m \u001b[0;36m1.0\u001b[0m\u001b[0;34m,\u001b[0m \u001b[0;36m1.0\u001b[0m\u001b[0;34m,\u001b[0m \u001b[0;36m1.0\u001b[0m\u001b[0;34m,\u001b[0m \u001b[0;34m'A'\u001b[0m\u001b[0;34m)\u001b[0m\u001b[0;34m\u001b[0m\u001b[0;34m\u001b[0m\u001b[0m\n\u001b[0m",
      "\u001b[0;31mRuntimeError\u001b[0m: <PyCall.jlwrap (in a Julia function called from Python)\nJULIA: iteration is deliberately unsupported for CartesianIndex. Use `I` rather than `I...`, or use `Tuple(I)...`\nStacktrace:\n [1] error(::String) at ./error.jl:33\n [2] iterate(::CartesianIndex{3}) at ./multidimensional.jl:166\n [3] copyto!(::Array{Int64,1}, ::CartesianIndex{3}) at ./abstractarray.jl:733\n [4] _collect(::UnitRange{Int64}, ::CartesianIndex{3}, ::Base.HasEltype, ::Base.HasLength) at ./array.jl:630\n [5] collect(::CartesianIndex{3}) at ./array.jl:624\n [6] broadcastable(::CartesianIndex{3}) at ./broadcast.jl:682\n [7] broadcasted at ./broadcast.jl:1261 [inlined]\n [8] parallel_mat(::Array{Float32,3}, ::Float64, ::Int64, ::Float64, ::Int64, ::Float64, ::Int64, ::Tuple{Float64,Float64,Float64}, ::Array{Float64,1}, ::Array{Float64,1}, ::Array{Float64,1}, ::Int64, ::Float64, ::Float64, ::Float64, ::Float64, ::String) at /Users/charlottehaley/.julia/packages/LaplaceInterpolation/IXmtl/src/GeneralMK3D.jl:151\n [9] invokelatest(::Any, ::Any, ::Vararg{Any,N} where N; kwargs::Base.Iterators.Pairs{Union{},Union{},Tuple{},NamedTuple{(),Tuple{}}}) at ./essentials.jl:710\n [10] invokelatest(::Any, ::Any, ::Vararg{Any,N} where N) at ./essentials.jl:709\n [11] _pyjlwrap_call(::Function, ::Ptr{PyCall.PyObject_struct}, ::Ptr{PyCall.PyObject_struct}) at /Users/charlottehaley/.julia/packages/PyCall/BD546/src/callback.jl:28\n [12] pyjlwrap_call(::Ptr{PyCall.PyObject_struct}, ::Ptr{PyCall.PyObject_struct}, ::Ptr{PyCall.PyObject_struct}) at /Users/charlottehaley/.julia/packages/PyCall/BD546/src/callback.jl:44>"
     ]
    }
   ],
   "source": [
    "LaplaceInterpolation.parallel_mat(z3d, xmin, xmax, ymin, ymax, zmin, zmax, (radius, radius, radius), x, x2, x3, 1, 0.0, 1.0, 1.0, 1.0, 'A')"
   ]
  },
  {
   "cell_type": "code",
   "execution_count": null,
   "metadata": {
    "scrolled": true
   },
   "outputs": [],
   "source": [
    "starttime = timeit.default_timer()\n",
    "for i in range(zmin, zmax):\n",
    "    i1 = int((i - zbegin) / h) - stride \n",
    "    i2 = i1 + 2 * stride + 1 \n",
    "    for j in range(ymin, ymax):\n",
    "        j1 = int((j - ybegin) / h) - stride\n",
    "        j2 = j1 + 2 * stride + 1 \n",
    "        for k in range(xmin, xmax):\n",
    "            k1 = int((k - xbegin) / h) - stride\n",
    "            k2 = k1 + 2 * stride + 1 \n",
    "            z3temp = z3d_copy[k1:k2, j1:j2, i1:i2] \n",
    "            absolute_indices = LaplaceInterpolation.punch_3D_cart([k,j,i], radius, x[k1:k2], x2[j1:j2], x3[i1:i2])\n",
    "            restored_img = LaplaceInterpolation.matern_3d_grid(z3temp, absolute_indices,\n",
    "                                                              m, epsilon, h, h, h) #h=k=l here\n",
    "            z3d_restored[k1:k2, j1:j2, i1:i2] = restored_img \n",
    "            \n",
    "            \n",
    "print(\"Time taken for Matern interpolation with m = 2 and epsilon = 0, punch radius 0.2:\", timeit.default_timer() - starttime)"
   ]
  },
  {
   "cell_type": "code",
   "execution_count": null,
   "metadata": {
    "scrolled": true
   },
   "outputs": [],
   "source": [
    "starttime = timeit.default_timer()\n",
    "for i in range(zmin, zmax):\n",
    "    i1 = int((i - zbegin) / h) - stride\n",
    "    i2 = i1 + 2 * stride + 1 \n",
    "    for j in range(ymin, ymax):\n",
    "        j1 = int((j - ybegin) / h) - stride\n",
    "        j2 = j1 + 2 * stride + 1 \n",
    "        for k in range(xmin, xmax):\n",
    "            k1 = int((k - xbegin) / h) - stride\n",
    "            k2 = k1 + 2 * stride + 1 \n",
    "            z3temp = z3d_copy[k1:k2, j1:j2, i1:i2] \n",
    "            absolute_indices = LaplaceInterpolation.punch_3D_cart([k,j,i], radius, x[k1:k2], x2[j1:j2], x3[i1:i2], linear = True)\n",
    "            restored_img = LaplaceInterpolation.matern_3d_grid(z3temp, absolute_indices,\n",
    "                                                              1, 0.0, h, h, h) #h=k=l here\n",
    "            parallel_laplace_restored[k1:k2, j1:j2, i1:i2] = restored_img \n",
    "            \n",
    "            \n",
    "print(\"Time taken for Laplace interpolation with m = 1 and epsilon = 0, punch radius 0.2:\", timeit.default_timer() - starttime)\n"
   ]
  },
  {
   "cell_type": "code",
   "execution_count": null,
   "metadata": {
    "scrolled": true
   },
   "outputs": [],
   "source": [
    "# Taking a 1D slice\n",
    "\n",
    "# Index in x and y\n",
    "idx = 60\n",
    "idy = 60\n",
    "\n",
    "# Find the maximum of the data on the slice common to both z3d_copy and z3d (are these different?) and add 10 for good measure\n",
    "max1 = np.max(z3d_copy[idy,idx,:])\n",
    "max2 = np.max(z3d[idy,idx,:])\n",
    "max_y = np.max([max1, max2])+10\n",
    "\n",
    "# Plot original data, matern and laplace interpolations\n",
    "font = {'family' : 'normal',\n",
    "        'weight' : 'normal',\n",
    "        'size'   : 22}\n",
    "\n",
    "plt.rc('font', **font)\n",
    "plt.figure(figsize=(8, 8))\n",
    "plt.semilogy(x3, (z3d[idy, idx, :]), 'tab:red', lw=3)\n",
    "plt.semilogy(x3, (z3d[idy, idx, :]), 'o', markersize=5, color='tab:blue')\n",
    "plt.semilogy(x3, (z3d_restored[idy, idx, :]), lw=3, color='tab:green')\n",
    "plt.semilogy(x3, (parallel_laplace_restored[idy, idx, :]), lw=3, color='tab:orange')\n",
    "plt.ylim(1e-1, 1e4)\n",
    "plt.yticks([1, 10, 100, 1000])\n",
    "#ax[0].set_title(\"Punch and fill using Laplace and Matern Interpolation\")\n",
    "plt.legend([\"Original Data\", \"Original Data -- dotted\",\"Matern Interpolation\", \"Laplace Interpolation\"])\n",
    "plt.xlabel('Qh (l.u.)')\n",
    "plt.ylabel('Intensity')\n",
    "plt.savefig('Matern_3D_Interpolation.png')\n",
    "\n",
    "plt.rc('font', **font)\n",
    "fig = plt.figure(figsize=(8, 8))\n",
    "plt.plot(x3, (z3d[idy, idx, :]), 'tab:red', lw=3)\n",
    "plt.plot(x3, (z3d[idy, idx, :]), 'o', markersize=5, color='tab:blue')\n",
    "plt.plot(x3, (z3d_restored[idy, idx, :]), lw=3, color='tab:green')\n",
    "plt.plot(x3, (parallel_laplace_restored[idy, idx, :]), lw=3, color='tab:orange')\n",
    "plt.ylim(5, 12)\n",
    "plt.xlim(3.5, 6)\n",
    "plt.xlabel('Qh (l.u.)')\n",
    "plt.ylabel('Intensity')\n",
    "#ax[0].set_title(\"Punch and fill using Laplace and Matern Interpolation\")\n",
    "#plt.legend([\"Original Data\", \"Original Data -- dotted\",\"Matern Interpolation\", \"Laplace Interpolation\"])\n",
    "plt.savefig('Matern_3D_Interpolation_Zoomed.png')\n"
   ]
  },
  {
   "cell_type": "markdown",
   "metadata": {},
   "source": [
    "## Save the Matern and Laplace Interpolated data to an .nxs file "
   ]
  },
  {
   "cell_type": "code",
   "execution_count": null,
   "metadata": {
    "ExecuteTime": {
     "end_time": "2020-08-06T02:51:28.819663Z",
     "start_time": "2020-08-06T02:51:27.989952Z"
    }
   },
   "outputs": [],
   "source": [
    "expt_data = nxload(save_data_dir + 'movo2_40_120K.nxs')['entry'] # or root['entry/masked_transform']"
   ]
  },
  {
   "cell_type": "code",
   "execution_count": null,
   "metadata": {},
   "outputs": [],
   "source": [
    "root = NXroot(NXentry())\n",
    "stdinterp = NXfield(symmetrize(z3d_restored[0:311,0:411,0:411]), name='sphere_punch_matern_interp_data')\n",
    "root.entry.sphere_matern_data = NXdata(stdinterp, expt_data.symm_transform[-6.:5.98,-8.:7.98,-8.:7.98].nxaxes)\n",
    "\n",
    "#root.save(save_data_dir + 'aux/movo2_40_sphere_matern_data.nxs')"
   ]
  },
  {
   "cell_type": "code",
   "execution_count": null,
   "metadata": {},
   "outputs": [],
   "source": [
    "root = NXroot(NXentry())\n",
    "stdinterp = NXfield(symmetrize(z3d_restored_laplace[0:311,0:411,0:411]), name='sphere_punch_laplace_interp_data')\n",
    "root.entry.sphere_laplace_data = NXdata(stdinterp, expt_data.symm_transform[-6.:5.98,-8.:7.98,-8.:7.98].nxaxes)\n",
    "\n",
    "#root.save(save_data_dir + 'aux/movo2_40_sphere_laplace_data.nxs')"
   ]
  },
  {
   "cell_type": "code",
   "execution_count": null,
   "metadata": {},
   "outputs": [],
   "source": [
    "root = NXroot(NXentry())\n",
    "stdinterp = NXfield(symmetrize(z3d_copy[0:311,0:411,0:411]), name='original_data')\n",
    "root.entry.sphere_laplace_data = NXdata(stdinterp, expt_data.symm_transform[-6.:5.98,-8.:7.98,-8.:7.98].nxaxes)\n",
    "\n",
    "#root.save(save_data_dir + 'aux/movo2_40_original_data.nxs')"
   ]
  },
  {
   "cell_type": "code",
   "execution_count": null,
   "metadata": {},
   "outputs": [],
   "source": []
  },
  {
   "cell_type": "code",
   "execution_count": null,
   "metadata": {},
   "outputs": [],
   "source": []
  }
 ],
 "metadata": {
  "@webio": {
   "lastCommId": null,
   "lastKernelId": null
  },
  "kernelspec": {
   "display_name": "Python 3 (ipykernel)",
   "language": "python",
   "name": "python3"
  },
  "language_info": {
   "codemirror_mode": {
    "name": "ipython",
    "version": 3
   },
   "file_extension": ".py",
   "mimetype": "text/x-python",
   "name": "python",
   "nbconvert_exporter": "python",
   "pygments_lexer": "ipython3",
   "version": "3.8.10"
  },
  "notify_time": "10",
  "toc": {
   "base_numbering": 1,
   "nav_menu": {},
   "number_sections": true,
   "sideBar": true,
   "skip_h1_title": false,
   "title_cell": "Table of Contents",
   "title_sidebar": "Contents",
   "toc_cell": false,
   "toc_position": {},
   "toc_section_display": true,
   "toc_window_display": false
  }
 },
 "nbformat": 4,
 "nbformat_minor": 2
}
