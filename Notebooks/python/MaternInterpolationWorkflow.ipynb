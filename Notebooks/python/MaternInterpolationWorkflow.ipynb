{
 "cells": [
  {
   "cell_type": "markdown",
   "metadata": {},
   "source": [
    "# Molybdenum doped Vanadium Dioxide Data\n",
    "\n",
    "We will be comparing the result of standard punch and fill to that of the technique involving watershed segmentation of the Bragg peaks followed by Laplacian and Matern fill. \n",
    "\n",
    "The data can be found on nxrs:\n",
    "`/data3/GUP-53547/movo2_40/md_54_4b/movo2_40_120K.nxs`\n",
    "\n",
    "From Matt: the most relevant scattering is found half-integer L planes, with only weak size-effect scattering close to the Bragg peaks; a 3D-deltaPDF should show a clear 2D 'X' pattern."
   ]
  },
  {
   "cell_type": "code",
   "execution_count": 1,
   "metadata": {},
   "outputs": [],
   "source": [
    "# Set up directories for {Charlotte,Vishwas}'s machine.\n",
    "#The repo_dir and base_dir is customized for Charlotte's and Vishwas' laptops.\n",
    "#It needs to be changed appropriately for other machines. repo_dir corresponds to\n",
    "#the directory where the git repo 'laplaceinterpolation' is saved.\n",
    "from   pathlib import Path\n",
    "import socket\n",
    "home = str(Path.home())\n",
    "hostname = str(socket.gethostname())\n",
    "\n",
    "# If not Charlotte's home, Vishwas's home\n",
    "if home == '/Users/charlottehaley':\n",
    "    base_dir = home + '/Documents/Data/Xray/md_54_4b/'\n",
    "    repo_dir = home + '/Documents/Repos/laplaceinterpolation/'\n",
    "if home == '/Users/vishwasrao':\n",
    "    base_dir = home +'/Research/BES_Project/Data/'\n",
    "    repo_dir = home + '/Research/BES_Project/Repo/laplaceinterpolation/'\n",
    "\n",
    "save_data_dir = base_dir\n",
    "\n",
    "# filename and filename_background customized to work on Charlotte's and Vishwas's laptops and on nxrs.\n",
    "# For other machines, may need some edits.\n",
    "if \"nxrs\" in hostname and \"nxrs0\" not in hostname:\n",
    "    filename = '/data3/GUP-53547/movo2_40/md_54_4b/movo2_40_120K.nxs'\n",
    "    filename_background = '/data3/GUP-53547/movo2_40/md_54_4b/movo2_40_background.nxs'\n",
    "    save_data_dir = home\n",
    "else:\n",
    "    filename = base_dir + 'movo2_40_120K.nxs'\n",
    "    filename_background = base_dir + 'movo2_40_background.nxs'"
   ]
  },
  {
   "cell_type": "code",
   "execution_count": 2,
   "metadata": {
    "ExecuteTime": {
     "end_time": "2020-08-06T02:46:10.438983Z",
     "start_time": "2020-08-06T02:45:46.546478Z"
    }
   },
   "outputs": [],
   "source": [
    "# loads libraries and functions that are usually used\n",
    "# functions included: flipaxis, getbraggs, getstencil, peel, \n",
    "# standard_punch, laplacian_fill & matern_fill (using Laplacians.jl, not Vishwas's code, YET)\n",
    "import sys\n",
    "sys.path.insert(1, repo_dir)\n",
    "\n",
    "import numpy as np\n",
    "import matplotlib.pyplot as plt\n",
    "from   scipy.interpolate import Rbf\n",
    "from   nexusformat.nexus import *\n",
    "\n",
    "import scipy.signal\n",
    "from   astropy.convolution import convolve, Kernel, Gaussian1DKernel\n",
    "import math\n",
    "import scipy.ndimage\n",
    "\n",
    "import math, timeit\n",
    "\n",
    "# This may work differently for you on the server, note that julia v 1.5.4 should be used (v 1.6.0 is incompatible)\n",
    "from julia import Julia\n",
    "julia = Julia(compiled_modules=False)\n",
    "from julia import Main\n",
    "julia.include(repo_dir+\"/MaternKernelApproximation.jl\")\n",
    "\n",
    "def flipaxis(A,i):\n",
    "    Aprime=np.swapaxes(np.swapaxes(A,0,i)[::-1],0,i)\n",
    "    return Aprime"
   ]
  },
  {
   "cell_type": "code",
   "execution_count": 3,
   "metadata": {
    "ExecuteTime": {
     "end_time": "2020-08-06T02:46:12.030433Z",
     "start_time": "2020-08-06T02:46:10.442322Z"
    }
   },
   "outputs": [],
   "source": [
    "# Load data, print tree.\n",
    "data = nxload(filename)\n",
    "data.unlock()\n",
    "\n",
    "movo2_40_background = nxload(filename_background)\n",
    "movo2_40_background.unlock()\n",
    "\n",
    "#print(data.tree)"
   ]
  },
  {
   "cell_type": "markdown",
   "metadata": {},
   "source": [
    "## Generate the symmetric transform data"
   ]
  },
  {
   "cell_type": "code",
   "execution_count": 4,
   "metadata": {
    "ExecuteTime": {
     "end_time": "2020-08-06T02:46:16.012909Z",
     "start_time": "2020-08-06T02:46:13.735010Z"
    }
   },
   "outputs": [],
   "source": [
    "z3d = data.entry.symm_transform[-0.2:6.2,-0.2:8.2,-0.2:8.2].data.nxvalue \n",
    "# - movo2_40_background.entry.symm_transform[-0.2:6.2,-0.2:8.2,-0.2:8.2].data.nxdata Extending the data to\n",
    "# 6.2, 8.2, 8.2 for convenience during the interpolation step."
   ]
  },
  {
   "cell_type": "markdown",
   "metadata": {},
   "source": [
    "## Initialize X, Y, Z and dX, dY, and dZ"
   ]
  },
  {
   "cell_type": "code",
   "execution_count": 6,
   "metadata": {
    "ExecuteTime": {
     "end_time": "2020-08-06T02:46:23.950815Z",
     "start_time": "2020-08-06T02:46:19.188956Z"
    }
   },
   "outputs": [],
   "source": [
    "# The markers should be the Bragg locations\n",
    "x = data.entry.symm_transform[-0.2:6.2,-0.2:8.2,-0.2:8.2].Ql.nxvalue\n",
    "x2 = data.entry.symm_transform[-0.2:6.,-0.2:8.2,-0.2:8.2].Qk.nxvalue\n",
    "x3 = data.entry.symm_transform[-0.2:6.,-0.2:8.2,-0.2:8.2].Qh.nxvalue\n",
    "\n",
    "dx = x[1] - x[0]\n",
    "dx2 = x2[1] - x2[0]\n",
    "dx3 = x3[1] - x3[0]"
   ]
  },
  {
   "cell_type": "markdown",
   "metadata": {},
   "source": [
    "## Define the symmetrizing operation and the standard punch"
   ]
  },
  {
   "cell_type": "code",
   "execution_count": 7,
   "metadata": {
    "ExecuteTime": {
     "end_time": "2020-08-06T02:51:11.217214Z",
     "start_time": "2020-08-06T02:51:11.207505Z"
    }
   },
   "outputs": [],
   "source": [
    "Qh_lim=8\n",
    "Qk_lim=8\n",
    "Ql_lim=6\n",
    "\n",
    "kmin=50*(6-Ql_lim)\n",
    "kmax=50*(6+Ql_lim)\n",
    "jmin=50*(8-Qk_lim)\n",
    "jmax=50*(8+Qk_lim)\n",
    "imin=50*(8-Qh_lim)\n",
    "imax=50*(8+Qh_lim)\n",
    "\n",
    "def symmetrize(res):\n",
    "    # Convolultion happens over a single octant of the dataset\n",
    "    # This is a bit ad-hoc as the indices are hard-coded.\n",
    "    vvals=np.zeros((601,801,801))\n",
    "    vvals[290:601,390:801,390:801] = res\n",
    "    vvals[300:601,400:801,0:401] = flipaxis(vvals[300:601,400:801,400:801],2)\n",
    "    vvals[300:601,0:401,0:801] = flipaxis(vvals[300:601,400:801,0:801],1)\n",
    "    vvals[0:301,0:801,0:801] = flipaxis(vvals[300:601,0:801,0:801],0)\n",
    "    # background subtraction - what is the minimum spherically symmetric background - not\n",
    "    # rigorously based on anything\n",
    "    # vvals=vvals[kmin:kmax,jmin:jmax,imin:imax]-movo2_40_background.entry.symm_transform[-6.:5.98,-8.:7.98,-8.:7.98].data.nxdata-2\n",
    "    # Anything less than zero is set to zero. No intensity should be less than zero\n",
    "    # vvals[vvals < 0] = 0\n",
    "    return vvals[0:600,0:800,0:800]"
   ]
  },
  {
   "cell_type": "code",
   "execution_count": 8,
   "metadata": {
    "scrolled": true
   },
   "outputs": [
    {
     "name": "stdout",
     "output_type": "stream",
     "text": [
      "Time taken for Matern interpolation with m = 2 and epsilon = 0, punch radius 0.02: 210.866343615\n"
     ]
    }
   ],
   "source": [
    "# Matern Interpolation happens here. \n",
    "epsilon = 0. #Regularization parameter\n",
    "m = 2 #Matern parameter\n",
    "radius = 0.200; # Punch radius\n",
    "h = 0.02; # approximate grid spacing. For MoVO2, the grid spacing along all directions are the same.\n",
    "#For other Crystals, this might not be so. In that case, we have separate values of h,k,l.\n",
    "# including the boundaries to see how things work\n",
    "xmin = 0\n",
    "xmax = 7\n",
    "ymin = 0\n",
    "ymax = 9\n",
    "zmin = 0\n",
    "zmax = 9\n",
    "xbegin = ybegin = zbegin =-0.2\n",
    "z3d_copy =np.copy(z3d) #Creating a copy to ensure the original is not overwritten.\n",
    "z3d_restored = np.copy(z3d) #Creating a copy to ensure the original is not overwritten.\n",
    "stride = 10; # This is used to send chunks of the volume data for processing.\n",
    "#Interpolating across entire data can be time consuming. Instead, dividing into small chunks\n",
    "#results in smaller but a large number of linear systems. Currently, \"stride\" is chosen adhoc. \n",
    "#For MoVO2, I chose 10 to ensure that the length of the cube of the data that is sent is slightly\n",
    "#larger than the diameter of the punch. In case of Matern, different \"stride\" values will result \n",
    "#in different interpolation results.  Larger stride values might result in \"better\" interpolation\n",
    "#but this comes at a cost. For Laplace, however, interpolation results are independent of the value\n",
    "#of stride as long as length of the cube of the data that is sent is slightly larger than the\n",
    "#diameter of the punch. In summary, value of \"stride\" depends somewhat on the problem. \n",
    "\n",
    "starttime = timeit.default_timer()\n",
    "for i in range(zmin, zmax):\n",
    "    i1 = int((i-zbegin) /h)-stride #(i2-i1)*h will be the length of the cube\n",
    "    i2 = i1+2*stride+1 #Here we are sending only the cube surrounding the punch\n",
    "    #for interpolation.\n",
    "    #print(i1,i2)\n",
    "    for j in range(ymin, ymax):\n",
    "        j1 = int((j-ybegin)/h)-stride;\n",
    "        j2 = j1+2*stride+1 #(j2-j1)*h will be the length of the cube. For some crystals\n",
    "        # (j2-j1)*h != (i2-i1)*h because of different aspect ratios.\n",
    "        #print(j1,j2)\n",
    "        for k in range(xmin, xmax):\n",
    "            k1 = int((k-ybegin)/h) - stride\n",
    "            k2 = k1+2*stride+1 #(k2-k1)*h will be the length of the cube. \n",
    "            z3temp = z3d_copy[k1:k2,j1:j2,i1:i2] #Instead of sending the entire z3d, We are just sending a \n",
    "    #small section of it for interpolation.\n",
    "            restored_img, punched_image = julia.Matern3D_Grid(x[k1:k2], x2[j1:j2], x3[i1:i2], z3temp,\n",
    "                                                              epsilon, radius, h, h, h, m) #h=k=l here\n",
    "#             print(np.shape(restored_img))\n",
    "            \n",
    "            restored_img_reshape = np.reshape(restored_img, (2*stride+1,2*stride+1,2*stride+1))\n",
    "            z3d_restored[k1:k2, j1:j2, i1:i2] = restored_img_reshape.T #Image needs to be transposed because\n",
    "            #of a different ordering in Julia\n",
    "print(\"Time taken for Matern interpolation with m = 2 and epsilon = 0, punch radius 0.02:\", timeit.default_timer() - starttime)\n",
    "\n",
    "# The result of the Matern interpolation is in z3d_restored"
   ]
  },
  {
   "cell_type": "code",
   "execution_count": null,
   "metadata": {},
   "outputs": [],
   "source": [
    "# Laplace interpolation happens here.\n",
    "# Interpolated data is in z3d_restored_laplace. Original in z3d.\n",
    "\n",
    "z3d_copy =np.copy(z3d)\n",
    "z3d_restored_laplace = np.copy(z3d)\n",
    "starttime = timeit.default_timer()\n",
    "for i in range(zmin, zmax):\n",
    "    i1 = int((i-zbegin) /h)-stride #Please see the comments in the Matern interpolation cell.\n",
    "    i2 = i1+2*stride+1\n",
    "    for j in range(ymin, ymax):\n",
    "        j1 = int((j-ybegin)/h)-stride;\n",
    "        j2 = j1+2*stride+1\n",
    "        for k in range(xmin, xmax):\n",
    "            k1 = int((k-ybegin)/h) - stride\n",
    "            k2 = k1+2*stride+1\n",
    "            z3temp = z3d_copy[k1:k2,j1:j2,i1:i2] #Instead of sending the entire z3d, We are just passing a \n",
    "    #small section of it for interpolation.\n",
    "            restored_img, punched_image = julia.Laplace3D_Grid(x[k1:k2], x2[j1:j2], x3[i1:i2], z3temp, radius, h,\n",
    "                                                              h, h)\n",
    "            restored_img_reshape = np.reshape(restored_img, (2*stride+1,2*stride+1,2*stride+1))\n",
    "            z3d_restored_laplace[k1:k2, j1:j2, i1:i2] = restored_img_reshape.T\n",
    "print(\"Time taken for Laplace interpolation with punch radius 0.02:\", timeit.default_timer() - starttime)"
   ]
  },
  {
   "cell_type": "code",
   "execution_count": null,
   "metadata": {
    "scrolled": true
   },
   "outputs": [],
   "source": [
    "# Taking a 1D slice\n",
    "\n",
    "# Index in x and y\n",
    "idx = 60;\n",
    "idy = 10;\n",
    "\n",
    "# Find the maximum of the data on the slice common to both z3d_copy and z3d (are these different?) and add 10 for good measure\n",
    "max1 = np.max(z3d_copy[:,idy,idx])\n",
    "max2 = np.max(z3d[:,idy,idx])\n",
    "max_y = np.max([max1, max2])+10\n",
    "\n",
    "# Plot original data, matern and laplace interpolations\n",
    "fig,ax=plt.subplots(1,3, figsize=(15,5))\n",
    "ax[0].semilogy((z3d[:,idy, idx]))\n",
    "ax[0].set_ylim([0.00001, max_y])\n",
    "ax[0].set_title(\"Original data\")\n",
    "ax[1].semilogy((z3d_restored[:, idy,idx]))\n",
    "ax[1].set_title(\"Matern interpolated\")\n",
    "ax[1].set_ylim([0.00001, max_y])\n",
    "ax[2].semilogy((z3d_restored_laplace[:, idy,idx]))\n",
    "ax[2].set_title(\"Laplace interpolated\")\n",
    "ax[2].set_ylim([0.00001, max_y])"
   ]
  },
  {
   "cell_type": "markdown",
   "metadata": {},
   "source": [
    "## Save the Matern and Laplace Interpolated data to an .nxs file "
   ]
  },
  {
   "cell_type": "code",
   "execution_count": null,
   "metadata": {
    "ExecuteTime": {
     "end_time": "2020-08-06T02:51:28.819663Z",
     "start_time": "2020-08-06T02:51:27.989952Z"
    }
   },
   "outputs": [],
   "source": [
    "expt_data = nxload(save_data_dir + 'movo2_40_120K.nxs')['entry'] # or root['entry/masked_transform']"
   ]
  },
  {
   "cell_type": "code",
   "execution_count": null,
   "metadata": {},
   "outputs": [],
   "source": [
    "root = NXroot(NXentry())\n",
    "stdinterp = NXfield(symmetrize(z3d_restored[0:311,0:411,0:411]), name='sphere_punch_matern_interp_data')\n",
    "root.entry.sphere_matern_data = NXdata(stdinterp, expt_data.symm_transform[-6.:5.98,-8.:7.98,-8.:7.98].nxaxes)\n",
    "\n",
    "#root.save(save_data_dir + 'aux/movo2_40_sphere_matern_data.nxs')"
   ]
  },
  {
   "cell_type": "code",
   "execution_count": null,
   "metadata": {},
   "outputs": [],
   "source": [
    "root = NXroot(NXentry())\n",
    "stdinterp = NXfield(symmetrize(z3d_restored_laplace[0:311,0:411,0:411]), name='sphere_punch_laplace_interp_data')\n",
    "root.entry.sphere_laplace_data = NXdata(stdinterp, expt_data.symm_transform[-6.:5.98,-8.:7.98,-8.:7.98].nxaxes)\n",
    "\n",
    "#root.save(save_data_dir + 'aux/movo2_40_sphere_laplace_data.nxs')"
   ]
  },
  {
   "cell_type": "code",
   "execution_count": null,
   "metadata": {},
   "outputs": [],
   "source": [
    "root = NXroot(NXentry())\n",
    "stdinterp = NXfield(symmetrize(z3d_copy[0:311,0:411,0:411]), name='original_data')\n",
    "root.entry.sphere_laplace_data = NXdata(stdinterp, expt_data.symm_transform[-6.:5.98,-8.:7.98,-8.:7.98].nxaxes)\n",
    "\n",
    "#root.save(save_data_dir + 'aux/movo2_40_original_data.nxs')"
   ]
  }
 ],
 "metadata": {
  "@webio": {
   "lastCommId": null,
   "lastKernelId": null
  },
  "kernelspec": {
   "display_name": "Python 3",
   "language": "python",
   "name": "python3"
  },
  "language_info": {
   "codemirror_mode": {
    "name": "ipython",
    "version": 3
   },
   "file_extension": ".py",
   "mimetype": "text/x-python",
   "name": "python",
   "nbconvert_exporter": "python",
   "pygments_lexer": "ipython3",
   "version": "3.8.5"
  },
  "notify_time": "10",
  "toc": {
   "base_numbering": 1,
   "nav_menu": {},
   "number_sections": true,
   "sideBar": true,
   "skip_h1_title": false,
   "title_cell": "Table of Contents",
   "title_sidebar": "Contents",
   "toc_cell": false,
   "toc_position": {},
   "toc_section_display": true,
   "toc_window_display": false
  }
 },
 "nbformat": 4,
 "nbformat_minor": 2
}
