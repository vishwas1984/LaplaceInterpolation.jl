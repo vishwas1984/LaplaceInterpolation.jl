{
 "cells": [
  {
   "cell_type": "code",
   "execution_count": 32,
   "metadata": {},
   "outputs": [
    {
     "data": {
      "text/plain": [
       "Laplace3D_Grid (generic function with 1 method)"
      ]
     },
     "execution_count": 32,
     "metadata": {},
     "output_type": "execute_result"
    }
   ],
   "source": [
    "if homedir() == \"/Users/charlottehaley\"\n",
    "    base_dir = homedir() * \"/Documents/Data/Xray/md_54_4b/\"\n",
    "    repo_dir = homedir() * \"/Documents/Repos/laplaceinterpolation/\"\n",
    "else\n",
    "    base_dir = homedir() * \"/Research/BES_Project/Data/\"\n",
    "    repo_dir = homedir() * \"/Research/BES_Project/Repo/laplaceinterpolation/\"\n",
    "end\n",
    "\n",
    "include(repo_dir*\"MaternKernelApproximation.jl\")"
   ]
  },
  {
   "cell_type": "code",
   "execution_count": 34,
   "metadata": {},
   "outputs": [],
   "source": [
    "using TestImages, Colors, Plots, FileIO, JLD, BenchmarkTools"
   ]
  },
  {
   "cell_type": "code",
   "execution_count": 54,
   "metadata": {},
   "outputs": [
    {
     "data": {
      "text/plain": [
       "BenchmarkTools.Trial: \n",
       "  memory estimate:  13.17 KiB\n",
       "  allocs estimate:  37\n",
       "  --------------\n",
       "  minimum time:     5.179 μs (0.00% GC)\n",
       "  median time:      6.202 μs (0.00% GC)\n",
       "  mean time:        7.708 μs (17.40% GC)\n",
       "  maximum time:     2.772 ms (99.75% GC)\n",
       "  --------------\n",
       "  samples:          10000\n",
       "  evals/sample:     6"
      ]
     },
     "execution_count": 54,
     "metadata": {},
     "output_type": "execute_result"
    }
   ],
   "source": [
    "n1 = 60\n",
    "n2 = 50\n",
    "n3 = 90\n",
    "\n",
    "b1 = @benchmark spdiagm_nonsquare(n1+1, n1, -1=>-ones(n1), 0=>ones(n1))\n",
    "\n",
    "b2 = @benchmark spdiagm(-1 => -ones(n1), 0 => ones(n2))[1:n2,1:n1]"
   ]
  },
  {
   "cell_type": "code",
   "execution_count": 60,
   "metadata": {},
   "outputs": [
    {
     "data": {
      "text/plain": [
       "BenchmarkTools.Trial: \n",
       "  memory estimate:  663.39 KiB\n",
       "  allocs estimate:  97\n",
       "  --------------\n",
       "  minimum time:     132.479 μs (0.00% GC)\n",
       "  median time:      162.847 μs (0.00% GC)\n",
       "  mean time:        179.850 μs (7.77% GC)\n",
       "  maximum time:     9.088 ms (98.18% GC)\n",
       "  --------------\n",
       "  samples:          10000\n",
       "  evals/sample:     1"
      ]
     },
     "execution_count": 60,
     "metadata": {},
     "output_type": "execute_result"
    }
   ],
   "source": [
    "@benchmark ∇²(n1,n2)"
   ]
  },
  {
   "cell_type": "code",
   "execution_count": 59,
   "metadata": {},
   "outputs": [
    {
     "data": {
      "text/plain": [
       "BenchmarkTools.Trial: \n",
       "  memory estimate:  1.63 MiB\n",
       "  allocs estimate:  149\n",
       "  --------------\n",
       "  minimum time:     255.617 μs (0.00% GC)\n",
       "  median time:      283.349 μs (0.00% GC)\n",
       "  mean time:        333.368 μs (13.39% GC)\n",
       "  maximum time:     8.178 ms (96.48% GC)\n",
       "  --------------\n",
       "  samples:          10000\n",
       "  evals/sample:     1"
      ]
     },
     "execution_count": 59,
     "metadata": {},
     "output_type": "execute_result"
    }
   ],
   "source": [
    "using Laplacians\n",
    "@benchmark lap(grid2(n1,n2))"
   ]
  },
  {
   "cell_type": "code",
   "execution_count": 56,
   "metadata": {},
   "outputs": [
    {
     "data": {
      "text/plain": [
       "BenchmarkTools.Trial: \n",
       "  memory estimate:  104.59 MiB\n",
       "  allocs estimate:  174\n",
       "  --------------\n",
       "  minimum time:     24.648 ms (0.00% GC)\n",
       "  median time:      32.916 ms (4.76% GC)\n",
       "  mean time:        43.257 ms (30.74% GC)\n",
       "  maximum time:     108.742 ms (69.41% GC)\n",
       "  --------------\n",
       "  samples:          116\n",
       "  evals/sample:     1"
      ]
     },
     "execution_count": 56,
     "metadata": {},
     "output_type": "execute_result"
    }
   ],
   "source": [
    "@benchmark a_v = ∇²3d(n1,n2,n3)"
   ]
  },
  {
   "cell_type": "code",
   "execution_count": 58,
   "metadata": {},
   "outputs": [
    {
     "data": {
      "text/plain": [
       "BenchmarkTools.Trial: \n",
       "  memory estimate:  122.78 MiB\n",
       "  allocs estimate:  128\n",
       "  --------------\n",
       "  minimum time:     32.626 ms (0.00% GC)\n",
       "  median time:      50.516 ms (31.55% GC)\n",
       "  mean time:        52.742 ms (32.62% GC)\n",
       "  maximum time:     96.988 ms (61.37% GC)\n",
       "  --------------\n",
       "  samples:          95\n",
       "  evals/sample:     1"
      ]
     },
     "execution_count": 58,
     "metadata": {},
     "output_type": "execute_result"
    }
   ],
   "source": [
    "# Uh oh, the Laplacians.jl package outruns Vishwas's code, and we have yet to fix the boundaries.  \n",
    "@benchmark a_sp = lap(grid3(n1,n2,n3))"
   ]
  },
  {
   "cell_type": "code",
   "execution_count": null,
   "metadata": {},
   "outputs": [],
   "source": [
    "punch_holes_3D(centers, radius, xpoints, ypoints, zpoints)"
   ]
  }
 ],
 "metadata": {
  "@webio": {
   "lastCommId": null,
   "lastKernelId": null
  },
  "kernelspec": {
   "display_name": "Julia 1.5.4",
   "language": "julia",
   "name": "julia-1.5"
  },
  "language_info": {
   "file_extension": ".jl",
   "mimetype": "application/julia",
   "name": "julia",
   "version": "1.5.4"
  }
 },
 "nbformat": 4,
 "nbformat_minor": 4
}
