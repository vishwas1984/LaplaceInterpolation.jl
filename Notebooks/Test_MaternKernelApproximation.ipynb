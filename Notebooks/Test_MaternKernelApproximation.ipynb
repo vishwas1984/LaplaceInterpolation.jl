{
 "cells": [
  {
   "cell_type": "code",
   "execution_count": 1,
   "metadata": {},
   "outputs": [
    {
     "name": "stderr",
     "output_type": "stream",
     "text": [
      "┌ Info: Precompiling LaplaceInterpolation [afb1b68e-e51f-4e49-a799-0e085170423d]\n",
      "└ @ Base loading.jl:1278\n",
      "ERROR: LoadError: could not open file /Users/charlottehaley/.julia/packages/LaplaceInterpolation/a2yYF/src/Matern1D2D\n",
      "Stacktrace:\n",
      " [1] include(::Function, ::Module, ::String) at ./Base.jl:380\n",
      " [2] include at ./Base.jl:368 [inlined]\n",
      " [3] include(::String) at /Users/charlottehaley/.julia/packages/LaplaceInterpolation/a2yYF/src/LaplaceInterpolation.jl:1\n",
      " [4] top-level scope at /Users/charlottehaley/.julia/packages/LaplaceInterpolation/a2yYF/src/LaplaceInterpolation.jl:5\n",
      " [5] include(::Function, ::Module, ::String) at ./Base.jl:380\n",
      " [6] include(::Module, ::String) at ./Base.jl:368\n",
      " [7] top-level scope at none:2\n",
      " [8] eval at ./boot.jl:347 [inlined]\n",
      " [9] eval(::Expr) at ./client.jl:467\n",
      " [10] top-level scope at ./none:3\n",
      "in expression starting at /Users/charlottehaley/.julia/packages/LaplaceInterpolation/a2yYF/src/LaplaceInterpolation.jl:5\n"
     ]
    },
    {
     "ename": "LoadError",
     "evalue": "\u001b[91mFailed to precompile LaplaceInterpolation [afb1b68e-e51f-4e49-a799-0e085170423d] to /Users/charlottehaley/.julia/compiled/v1.5/LaplaceInterpolation/0zvkA_CtSfZ.ji.\u001b[39m",
     "output_type": "error",
     "traceback": [
      "\u001b[91mFailed to precompile LaplaceInterpolation [afb1b68e-e51f-4e49-a799-0e085170423d] to /Users/charlottehaley/.julia/compiled/v1.5/LaplaceInterpolation/0zvkA_CtSfZ.ji.\u001b[39m",
      "",
      "Stacktrace:",
      " [1] error(::String) at ./error.jl:33",
      " [2] compilecache(::Base.PkgId, ::String) at ./loading.jl:1305",
      " [3] _require(::Base.PkgId) at ./loading.jl:1030",
      " [4] require(::Base.PkgId) at ./loading.jl:928",
      " [5] require(::Module, ::Symbol) at ./loading.jl:923",
      " [6] include_string(::Function, ::Module, ::String, ::String) at ./loading.jl:1091"
     ]
    }
   ],
   "source": [
    "if homedir() == \"/Users/charlottehaley\"\n",
    "    base_dir = homedir() * \"/Documents/Data/Xray/md_54_4b/\"\n",
    "    repo_dir = homedir() * \"/Documents/Repos/laplaceinterpolation/\"\n",
    "else\n",
    "    base_dir = homedir() * \"/Research/BES_Project/Data/\"\n",
    "    repo_dir = homedir() * \"/Research/BES_Project/Repo/laplaceinterpolation/\"\n",
    "end\n",
    "\n",
    "using LaplaceInterpolation"
   ]
  },
  {
   "cell_type": "code",
   "execution_count": 34,
   "metadata": {},
   "outputs": [],
   "source": [
    "using TestImages, Colors, Plots, FileIO, JLD, BenchmarkTools"
   ]
  },
  {
   "cell_type": "code",
   "execution_count": 54,
   "metadata": {},
   "outputs": [
    {
     "data": {
      "text/plain": [
       "BenchmarkTools.Trial: \n",
       "  memory estimate:  13.17 KiB\n",
       "  allocs estimate:  37\n",
       "  --------------\n",
       "  minimum time:     5.179 μs (0.00% GC)\n",
       "  median time:      6.202 μs (0.00% GC)\n",
       "  mean time:        7.708 μs (17.40% GC)\n",
       "  maximum time:     2.772 ms (99.75% GC)\n",
       "  --------------\n",
       "  samples:          10000\n",
       "  evals/sample:     6"
      ]
     },
     "execution_count": 54,
     "metadata": {},
     "output_type": "execute_result"
    }
   ],
   "source": [
    "n1 = 60\n",
    "n2 = 50\n",
    "n3 = 90\n",
    "\n",
    "b1 = @benchmark spdiagm_nonsquare(n1+1, n1, -1=>-ones(n1), 0=>ones(n1))\n",
    "\n",
    "b2 = @benchmark spdiagm(-1 => -ones(n1), 0 => ones(n2))[1:n2,1:n1]"
   ]
  },
  {
   "cell_type": "code",
   "execution_count": 67,
   "metadata": {},
   "outputs": [
    {
     "ename": "MethodError",
     "evalue": "MethodError: no method matching zero(::Type{Any})\nClosest candidates are:\n  zero(::Type{Union{Missing, T}}) where T at missing.jl:104\n  zero(!Matched::Type{Missing}) at missing.jl:103\n  zero(!Matched::Type{Dates.DateTime}) at /Users/julia/buildbot/worker/package_macos64/build/usr/share/julia/stdlib/v1.5/Dates/src/types.jl:404\n  ...",
     "output_type": "error",
     "traceback": [
      "MethodError: no method matching zero(::Type{Any})\nClosest candidates are:\n  zero(::Type{Union{Missing, T}}) where T at missing.jl:104\n  zero(!Matched::Type{Missing}) at missing.jl:103\n  zero(!Matched::Type{Dates.DateTime}) at /Users/julia/buildbot/worker/package_macos64/build/usr/share/julia/stdlib/v1.5/Dates/src/types.jl:404\n  ...",
      "",
      "Stacktrace:",
      " [1] zero(::Type{Any}) at ./missing.jl:105",
      " [2] _zeros_eltypes at /Users/julia/buildbot/worker/package_macos64/build/usr/share/julia/stdlib/v1.5/SparseArrays/src/higherorderfns.jl:203 [inlined]",
      " [3] _noshapecheck_map(::SparseArrays.HigherOrderFns.var\"#3#4\"{typeof(plot_color),SparseArrays.HigherOrderFns.var\"#15#18\"{SparseArrays.HigherOrderFns.var\"#22#25\"{Base.RefValue{Nothing}}}}, ::SparseMatrixCSC{Any,Int64}) at /Users/julia/buildbot/worker/package_macos64/build/usr/share/julia/stdlib/v1.5/SparseArrays/src/higherorderfns.jl:159",
      " [4] _shapecheckbc(::Function, ::SparseMatrixCSC{Any,Int64}) at /Users/julia/buildbot/worker/package_macos64/build/usr/share/julia/stdlib/v1.5/SparseArrays/src/higherorderfns.jl:1025",
      " [5] _copy(::Function, ::SparseMatrixCSC{Any,Int64}) at /Users/julia/buildbot/worker/package_macos64/build/usr/share/julia/stdlib/v1.5/SparseArrays/src/higherorderfns.jl:1015",
      " [6] _copy(::Function, ::SparseMatrixCSC{Any,Int64}, ::Base.RefValue{Nothing}) at /Users/julia/buildbot/worker/package_macos64/build/usr/share/julia/stdlib/v1.5/SparseArrays/src/higherorderfns.jl:1020",
      " [7] copy at /Users/julia/buildbot/worker/package_macos64/build/usr/share/julia/stdlib/v1.5/SparseArrays/src/higherorderfns.jl:1011 [inlined]",
      " [8] materialize(::Base.Broadcast.Broadcasted{SparseArrays.HigherOrderFns.SparseMatStyle,Nothing,typeof(plot_color),Tuple{SparseMatrixCSC{Any,Int64},Base.RefValue{Nothing}}}) at ./broadcast.jl:837",
      " [9] gr_draw_heatmap(::Plots.Series, ::Array{Float64,1}, ::Array{Float64,1}, ::SparseMatrixCSC{Float64,Int64}, ::Tuple{Float64,Float64}) at /Users/charlottehaley/.julia/packages/Plots/lmp2A/src/backends/gr.jl:1765",
      " [10] gr_add_series(::Plots.Subplot{Plots.GRBackend}, ::Plots.Series) at /Users/charlottehaley/.julia/packages/Plots/lmp2A/src/backends/gr.jl:1586",
      " [11] gr_display(::Plots.Subplot{Plots.GRBackend}, ::Measures.Length{:mm,Float64}, ::Measures.Length{:mm,Float64}, ::Array{Float64,1}) at /Users/charlottehaley/.julia/packages/Plots/lmp2A/src/backends/gr.jl:935",
      " [12] gr_display(::Plots.Plot{Plots.GRBackend}, ::String) at /Users/charlottehaley/.julia/packages/Plots/lmp2A/src/backends/gr.jl:626",
      " [13] _show(::Base.GenericIOBuffer{Array{UInt8,1}}, ::MIME{Symbol(\"image/svg+xml\")}, ::Plots.Plot{Plots.GRBackend}) at /Users/charlottehaley/.julia/packages/Plots/lmp2A/src/backends/gr.jl:1819",
      " [14] show(::Base.GenericIOBuffer{Array{UInt8,1}}, ::MIME{Symbol(\"image/svg+xml\")}, ::Plots.Plot{Plots.GRBackend}) at /Users/charlottehaley/.julia/packages/Plots/lmp2A/src/output.jl:215",
      " [15] sprint(::Function, ::MIME{Symbol(\"image/svg+xml\")}, ::Vararg{Any,N} where N; context::Nothing, sizehint::Int64) at ./strings/io.jl:105",
      " [16] sprint at ./strings/io.jl:101 [inlined]",
      " [17] _ijulia_display_dict(::Plots.Plot{Plots.GRBackend}) at /Users/charlottehaley/.julia/packages/Plots/lmp2A/src/ijulia.jl:53",
      " [18] display_dict(::Plots.Plot{Plots.GRBackend}) at /Users/charlottehaley/.julia/packages/Plots/lmp2A/src/init.jl:77",
      " [19] #invokelatest#1 at ./essentials.jl:710 [inlined]",
      " [20] invokelatest at ./essentials.jl:709 [inlined]",
      " [21] execute_request(::ZMQ.Socket, ::IJulia.Msg) at /Users/charlottehaley/.julia/packages/IJulia/IDNmS/src/execute_request.jl:112",
      " [22] #invokelatest#1 at ./essentials.jl:710 [inlined]",
      " [23] invokelatest at ./essentials.jl:709 [inlined]",
      " [24] eventloop(::ZMQ.Socket) at /Users/charlottehaley/.julia/packages/IJulia/IDNmS/src/eventloop.jl:8",
      " [25] (::IJulia.var\"#15#18\")() at ./task.jl:356"
     ]
    }
   ],
   "source": [
    "using Plots\n",
    "res = ∇²(3,4)\n"
   ]
  },
  {
   "cell_type": "code",
   "execution_count": 62,
   "metadata": {},
   "outputs": [
    {
     "data": {
      "text/plain": [
       "12×12 SparseMatrixCSC{Float64,Int64} with 46 stored entries:\n",
       "  [1 ,  1]  =  2.0\n",
       "  [2 ,  1]  =  -1.0\n",
       "  [5 ,  1]  =  -1.0\n",
       "  [1 ,  2]  =  -1.0\n",
       "  [2 ,  2]  =  3.0\n",
       "  [3 ,  2]  =  -1.0\n",
       "  [6 ,  2]  =  -1.0\n",
       "  [2 ,  3]  =  -1.0\n",
       "  [3 ,  3]  =  3.0\n",
       "  [4 ,  3]  =  -1.0\n",
       "  [7 ,  3]  =  -1.0\n",
       "  [3 ,  4]  =  -1.0\n",
       "  ⋮\n",
       "  [9 ,  9]  =  2.0\n",
       "  [10,  9]  =  -1.0\n",
       "  [6 , 10]  =  -1.0\n",
       "  [9 , 10]  =  -1.0\n",
       "  [10, 10]  =  3.0\n",
       "  [11, 10]  =  -1.0\n",
       "  [7 , 11]  =  -1.0\n",
       "  [10, 11]  =  -1.0\n",
       "  [11, 11]  =  3.0\n",
       "  [12, 11]  =  -1.0\n",
       "  [8 , 12]  =  -1.0\n",
       "  [11, 12]  =  -1.0\n",
       "  [12, 12]  =  2.0"
      ]
     },
     "execution_count": 62,
     "metadata": {},
     "output_type": "execute_result"
    }
   ],
   "source": [
    "using Laplacians\n",
    "lap(grid2(3,4))"
   ]
  },
  {
   "cell_type": "code",
   "execution_count": 56,
   "metadata": {},
   "outputs": [
    {
     "data": {
      "text/plain": [
       "BenchmarkTools.Trial: \n",
       "  memory estimate:  104.59 MiB\n",
       "  allocs estimate:  174\n",
       "  --------------\n",
       "  minimum time:     24.648 ms (0.00% GC)\n",
       "  median time:      32.916 ms (4.76% GC)\n",
       "  mean time:        43.257 ms (30.74% GC)\n",
       "  maximum time:     108.742 ms (69.41% GC)\n",
       "  --------------\n",
       "  samples:          116\n",
       "  evals/sample:     1"
      ]
     },
     "execution_count": 56,
     "metadata": {},
     "output_type": "execute_result"
    }
   ],
   "source": [
    "@benchmark a_v = ∇²3d(n1,n2,n3)"
   ]
  },
  {
   "cell_type": "code",
   "execution_count": 58,
   "metadata": {},
   "outputs": [
    {
     "data": {
      "text/plain": [
       "BenchmarkTools.Trial: \n",
       "  memory estimate:  122.78 MiB\n",
       "  allocs estimate:  128\n",
       "  --------------\n",
       "  minimum time:     32.626 ms (0.00% GC)\n",
       "  median time:      50.516 ms (31.55% GC)\n",
       "  mean time:        52.742 ms (32.62% GC)\n",
       "  maximum time:     96.988 ms (61.37% GC)\n",
       "  --------------\n",
       "  samples:          95\n",
       "  evals/sample:     1"
      ]
     },
     "execution_count": 58,
     "metadata": {},
     "output_type": "execute_result"
    }
   ],
   "source": [
    "# Uh oh, the Laplacians.jl package outruns Vishwas's code, and we have yet to fix the boundaries.  \n",
    "@benchmark a_sp = lap(grid3(n1,n2,n3))"
   ]
  },
  {
   "cell_type": "code",
   "execution_count": null,
   "metadata": {},
   "outputs": [],
   "source": [
    "punch_holes_3D(centers, radius, xpoints, ypoints, zpoints)"
   ]
  },
  {
   "cell_type": "markdown",
   "metadata": {},
   "source": [
    "- thin plate splines run slowly, does the mandrill case run on the cluster?\n",
    "- boundary conditions (i) write the laplace matrix for the entire domain with Neumann boundary conditions, find dirichlet points nad then make the change. \n",
    "- "
   ]
  }
 ],
 "metadata": {
  "@webio": {
   "lastCommId": null,
   "lastKernelId": null
  },
  "kernelspec": {
   "display_name": "Julia 1.5.4",
   "language": "julia",
   "name": "julia-1.5"
  },
  "language_info": {
   "file_extension": ".jl",
   "mimetype": "application/julia",
   "name": "julia",
   "version": "1.5.4"
  }
 },
 "nbformat": 4,
 "nbformat_minor": 4
}
