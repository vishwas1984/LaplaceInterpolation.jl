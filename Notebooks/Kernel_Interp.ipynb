{
 "cells": [
  {
   "cell_type": "markdown",
   "metadata": {},
   "source": [
    "![](files/Fasshauer.png)"
   ]
  },
  {
   "cell_type": "code",
   "execution_count": null,
   "metadata": {},
   "outputs": [
    {
     "name": "stderr",
     "output_type": "stream",
     "text": [
      "┌ Info: Precompiling Laplacians [6f8e5838-0efe-5de0-80a3-5fb4f8dbb1de]\n",
      "└ @ Base loading.jl:1278\n"
     ]
    }
   ],
   "source": [
    "using SpecialFunctions, Laplacians, KernelMatrices, LinearAlgebra, Plots\n",
    "\n",
    "function dist(x, z, d = 2)\n",
    "    return (sum((x .- z).^d))^(1/d)\n",
    "end\n",
    "\n",
    "function matkern(dis::Number, epsilon::Number, m::Number, d::Int = 2)\n",
    "    if dis == 0.0 \n",
    "        return 1.0\n",
    "    else\n",
    "        return besselk(m-d/2, epsilon*dis)*(epsilon*dis)^(m-d/2)\n",
    "    end\n",
    "end"
   ]
  },
  {
   "cell_type": "code",
   "execution_count": null,
   "metadata": {},
   "outputs": [],
   "source": [
    "L = 32\n",
    "K = 16\n",
    "a_num = (L,K) # length vectors for a 2D problem\n",
    "x1 = 1:a_num[1]\n",
    "x2 = 1:a_num[2]\n",
    "d = length(a_num)\n",
    "img = sin.(2*pi*x1/16)*sin.(2*pi*x2'/8) + randn(a_num)*0.1\n",
    "\n",
    "\n",
    "cent = [(7,6), (15,12), (22,10), (26, 8)]\n",
    "rad = 2.0\n",
    "\n",
    "function prod_dot(m)\n",
    "    mas = m[1]\n",
    "    for i = 2:length(m)\n",
    "        mas .*= m[i]\n",
    "    end\n",
    "    return mas\n",
    "end\n",
    "\n",
    "mask = map(c->broadcast(+, (x1 .- c[1]).^2, (x2 .- c[2])'.^2) .> rad^2, cent)\n",
    "mask = prod_dot(mask)\n",
    "\n",
    "# Find where the data are missing\n",
    "inds = sortperm(mask[:])\n",
    "S = L*K-sum(mask)\n",
    "missing_inds = inds[1:S]\n",
    "println(missing_inds)\n",
    "nonmissing_inds = inds[(S+1):end]\n",
    "\n",
    "println(\"There are $S missing.\")\n",
    "\n",
    "p1 = heatmap(img, title = \"image\")\n",
    "p2 = heatmap(mask, title = \"holes\")\n",
    "\n",
    "plot(p1,p2,layout=(1,2))"
   ]
  },
  {
   "cell_type": "markdown",
   "metadata": {},
   "source": [
    "From Rasmussen and Williams book:\n",
    "![](files/RW_GP_Pred.png)"
   ]
  },
  {
   "cell_type": "code",
   "execution_count": null,
   "metadata": {},
   "outputs": [],
   "source": [
    "# No noise is assumed, sigsq_n = 0\n",
    "\n",
    "xx = [[x,y] for x in x1 for y in x2]\n",
    "xxyy = [(x,y) for x in xx[inds] for y in xx[inds]]\n",
    "dis = reshape(map(x -> dist(x...), xxyy), (512, 512))\n",
    "\n",
    "epsilon = 0.22\n",
    "m = 2\n",
    "M = matkern.(dis, epsilon, m)\n",
    "\n",
    "chK = cholesky(M[nonmissing_inds, nonmissing_inds])\n",
    "alpha = chK.L'\\(chK.L\\img[nonmissing_inds])\n",
    "fbar = M[nonmissing_inds,missing_inds]'*alpha"
   ]
  },
  {
   "cell_type": "code",
   "execution_count": null,
   "metadata": {},
   "outputs": [],
   "source": [
    "img_int = copy(img)\n",
    "img_int[missing_inds] = fbar\n",
    "\n",
    "p3 = heatmap(img_int, title=\"interpolation\")\n",
    "\n",
    "plot(p1,p3,p2,layout=(1,3),size=(1000,300))"
   ]
  },
  {
   "cell_type": "code",
   "execution_count": null,
   "metadata": {},
   "outputs": [],
   "source": [
    "hcat(img[missing_inds], fbar)"
   ]
  },
  {
   "cell_type": "code",
   "execution_count": null,
   "metadata": {},
   "outputs": [],
   "source": []
  }
 ],
 "metadata": {
  "kernelspec": {
   "display_name": "Julia 1.5.1",
   "language": "julia",
   "name": "julia-1.5"
  },
  "language_info": {
   "file_extension": ".jl",
   "mimetype": "application/julia",
   "name": "julia",
   "version": "1.5.3"
  },
  "toc": {
   "base_numbering": 1,
   "nav_menu": {},
   "number_sections": true,
   "sideBar": true,
   "skip_h1_title": false,
   "title_cell": "Table of Contents",
   "title_sidebar": "Contents",
   "toc_cell": false,
   "toc_position": {},
   "toc_section_display": true,
   "toc_window_display": false
  }
 },
 "nbformat": 4,
 "nbformat_minor": 2
}
