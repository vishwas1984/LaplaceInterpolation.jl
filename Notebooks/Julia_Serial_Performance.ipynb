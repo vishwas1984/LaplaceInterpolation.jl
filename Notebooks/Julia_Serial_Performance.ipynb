{
 "cells": [
  {
   "cell_type": "code",
   "execution_count": 24,
   "metadata": {},
   "outputs": [
    {
     "ename": "LoadError",
     "evalue": "ArgumentError: Package JuliaAcademyData not found in current path:\n- Run `import Pkg; Pkg.add(\"JuliaAcademyData\")` to install the JuliaAcademyData package.\n",
     "output_type": "error",
     "traceback": [
      "ArgumentError: Package JuliaAcademyData not found in current path:\n- Run `import Pkg; Pkg.add(\"JuliaAcademyData\")` to install the JuliaAcademyData package.\n",
      "",
      "Stacktrace:",
      " [1] require(::Module, ::Symbol) at ./loading.jl:893",
      " [2] include_string(::Function, ::Module, ::String, ::String) at ./loading.jl:1091"
     ]
    }
   ],
   "source": [
    "#import Pkg; Pkg.add(Pkg.PackageSpec(url=\"https://github.com/JuliaComputing/JuliaAcademyData.jl\"))\n",
    "using JuliaAcademyData; activate(\"Parallel_Computing\")"
   ]
  },
  {
   "cell_type": "markdown",
   "metadata": {},
   "source": [
    "# Fast (serial) programming with Julia\n",
    "\n",
    "Yes, this is a parallel computing course — but to write efficient parallel\n",
    "programs we first must learn how to write fast serial Julia code. This is\n",
    "a rapid primer in high performance (serial) programming.\n",
    "\n",
    "I _highly_ recommend reviewing the [Performance Tips](https://docs.julialang.org/en/v1.1/manual/performance-tips/)\n",
    "in the manual. This is only going to briefly introduce some of the main concepts."
   ]
  },
  {
   "cell_type": "markdown",
   "metadata": {},
   "source": [
    "## Measure, measure, measure.\n",
    "\n",
    "It is very easy to experiment in Julia; you can rapidly try many options and\n",
    "see what is the fastest."
   ]
  },
  {
   "cell_type": "markdown",
   "metadata": {},
   "source": [
    "Use the [BenchmarkTools](https://github.com/JuliaCI/BenchmarkTools.jl) package:"
   ]
  },
  {
   "cell_type": "code",
   "execution_count": 25,
   "metadata": {},
   "outputs": [
    {
     "data": {
      "text/plain": [
       "0.4999157852134348"
      ]
     },
     "execution_count": 25,
     "metadata": {},
     "output_type": "execute_result"
    }
   ],
   "source": [
    "using BenchmarkTools\n",
    "\n",
    "\"\"\"\n",
    "    findclosest(data, point)\n",
    "\n",
    "A simple example that returns the element in `data` that is closest to `point`\n",
    "\"\"\"\n",
    "function findclosest(data, point)\n",
    "    _, index =  findmin(abs.(data .- point))\n",
    "    return data[index]\n",
    "end\n",
    "data = rand(5000)\n",
    "findclosest(data, 0.5)"
   ]
  },
  {
   "cell_type": "code",
   "execution_count": 26,
   "metadata": {},
   "outputs": [
    {
     "name": "stdout",
     "output_type": "stream",
     "text": [
      "  0.000022 seconds (3 allocations: 39.156 KiB)\n"
     ]
    },
    {
     "data": {
      "text/plain": [
       "0.4999157852134348"
      ]
     },
     "execution_count": 26,
     "metadata": {},
     "output_type": "execute_result"
    }
   ],
   "source": [
    "@time findclosest(data, 0.5)"
   ]
  },
  {
   "cell_type": "code",
   "execution_count": 27,
   "metadata": {},
   "outputs": [
    {
     "data": {
      "text/plain": [
       "BenchmarkTools.Trial: \n",
       "  memory estimate:  39.14 KiB\n",
       "  allocs estimate:  2\n",
       "  --------------\n",
       "  minimum time:     11.938 μs (0.00% GC)\n",
       "  median time:      14.547 μs (0.00% GC)\n",
       "  mean time:        15.215 μs (3.70% GC)\n",
       "  maximum time:     774.624 μs (97.02% GC)\n",
       "  --------------\n",
       "  samples:          10000\n",
       "  evals/sample:     1"
      ]
     },
     "execution_count": 27,
     "metadata": {},
     "output_type": "execute_result"
    }
   ],
   "source": [
    "@benchmark findclosest($data, $0.5)"
   ]
  },
  {
   "cell_type": "markdown",
   "metadata": {},
   "source": [
    "### Profile!"
   ]
  },
  {
   "cell_type": "code",
   "execution_count": 28,
   "metadata": {},
   "outputs": [
    {
     "name": "stdout",
     "output_type": "stream",
     "text": [
      "Overhead ╎ [+additional indent] Count File:Line; Function\n",
      "=========================================================\n",
      "   ╎1355 @Base/task.jl:356; (::IJulia.var\"#15#18\")()\n",
      "   ╎ 1355 ...lia/src/eventloop.jl:8; eventloop(::ZMQ.Socket)\n",
      "   ╎  1355 @Base/essentials.jl:709; invokelatest\n",
      "   ╎   1355 @Base/essentials.jl:710; #invokelatest#1\n",
      "   ╎    1355 .../execute_request.jl:67; execute_request(::ZMQ.Socket, ...\n",
      "   ╎     1355 ...SoftGlobalScope.jl:65; softscope_include_string(::Mo...\n",
      "   ╎    ╎ 1355 @Base/loading.jl:1091; include_string(::Function, ...\n",
      "   ╎    ╎  1355 ...le/src/Profile.jl:28; top-level scope\n",
      "  9╎    ╎   1354 In[28]:4; macro expansion\n",
      "   ╎    ╎    1339 In[25]:9; findclosest(::Array{Float64...\n",
      "   ╎    ╎     333  @Base/broadcast.jl:837; materialize\n",
      "   ╎    ╎    ╎ 333  @Base/broadcast.jl:862; copy\n",
      "   ╎    ╎     1006 @Base/reducedim.jl:838; findmin\n",
      "   ╎    ╎    ╎ 1006 @Base/reducedim.jl:838; #findmin#652\n",
      "  1╎    ╎    6    In[25]:10; findclosest(::Array{Float64...\n",
      "  5╎    ╎     5    @Base/array.jl:809; getindex\n",
      "   ╎    ╎   1    @Base/range.jl:624; iterate\n",
      "  1╎    ╎    1    @Base/promotion.jl:398; ==\n",
      "Total snapshots: 1365\n"
     ]
    }
   ],
   "source": [
    "using Profile\n",
    "\n",
    "Profile.clear()\n",
    "@profile for _ in 1:100000; findclosest(data, 0.5); end\n",
    "\n",
    "Profile.print(maxdepth=11)"
   ]
  },
  {
   "cell_type": "markdown",
   "metadata": {},
   "source": [
    "### Iterate!\n",
    "\n",
    "Before we had:\n",
    "```julia\n",
    "function findclosest(data, point)\n",
    "    _, index =  findmin(abs.(data .- point))\n",
    "    return data[index]\n",
    "end\n",
    "```\n",
    "\n",
    "Let's come up with a new definition that can combine the two operations:"
   ]
  },
  {
   "cell_type": "code",
   "execution_count": 29,
   "metadata": {},
   "outputs": [
    {
     "data": {
      "text/plain": [
       "true"
      ]
     },
     "execution_count": 29,
     "metadata": {},
     "output_type": "execute_result"
    }
   ],
   "source": [
    "function findclosest2(data, point)\n",
    "    bestval = first(data)\n",
    "    bestdist = abs(bestval - point)\n",
    "    for elt in data\n",
    "        dist = abs(elt - point)\n",
    "        if dist < bestdist\n",
    "            bestval = elt\n",
    "            bestdist = dist\n",
    "        end\n",
    "    end\n",
    "    return bestval\n",
    "end\n",
    "\n",
    "# And do a spot-check to make sure we did the optimization correctly:\n",
    "findclosest2(data, 0.5) == findclosest(data, .5)"
   ]
  },
  {
   "cell_type": "code",
   "execution_count": 30,
   "metadata": {},
   "outputs": [
    {
     "data": {
      "text/plain": [
       "BenchmarkTools.Trial: \n",
       "  memory estimate:  0 bytes\n",
       "  allocs estimate:  0\n",
       "  --------------\n",
       "  minimum time:     6.186 μs (0.00% GC)\n",
       "  median time:      6.697 μs (0.00% GC)\n",
       "  mean time:        6.963 μs (0.00% GC)\n",
       "  maximum time:     31.217 μs (0.00% GC)\n",
       "  --------------\n",
       "  samples:          10000\n",
       "  evals/sample:     5"
      ]
     },
     "execution_count": 30,
     "metadata": {},
     "output_type": "execute_result"
    }
   ],
   "source": [
    "@benchmark findclosest2($data, $0.5)"
   ]
  },
  {
   "cell_type": "markdown",
   "metadata": {},
   "source": [
    "## A quick word on macros\n",
    "\n",
    "Macros are those funny things starting with `@`. They can reinterpret what\n",
    "you write and do something different — essentially introducing a new keyword.\n",
    "\n",
    "For example, the `@assert` macro simply takes an expression and throws an\n",
    "exception if it returns `false`."
   ]
  },
  {
   "cell_type": "code",
   "execution_count": 31,
   "metadata": {},
   "outputs": [],
   "source": [
    "@assert 2+2 == 4"
   ]
  },
  {
   "cell_type": "markdown",
   "metadata": {},
   "source": [
    "It does this by literally re-writing what you wrote. You can see it in action\n",
    "with `@macroexpand`"
   ]
  },
  {
   "cell_type": "code",
   "execution_count": 32,
   "metadata": {},
   "outputs": [
    {
     "data": {
      "text/plain": [
       ":(if 2 + 2 == 4\n",
       "      nothing\n",
       "  else\n",
       "      Base.throw(Base.AssertionError(\"2 + 2 == 4\"))\n",
       "  end)"
      ]
     },
     "execution_count": 32,
     "metadata": {},
     "output_type": "execute_result"
    }
   ],
   "source": [
    "@macroexpand @assert 2+2 == 4"
   ]
  },
  {
   "cell_type": "markdown",
   "metadata": {},
   "source": [
    "Each macro can define its own special syntax, and this is used extensively for\n",
    "code introspection, serial performance improvements, and — perhaps most\n",
    "importantly — parallelization perimitives!"
   ]
  },
  {
   "cell_type": "markdown",
   "metadata": {},
   "source": [
    "## How is Julia fast?\n",
    "\n",
    "By understanding the basics of how Julia _can_ be fast, you can get a better\n",
    "sense for how to write fast Julia code.\n",
    "\n",
    "Perhaps most importantly, Julia can reason about types. Recall: this is the definition of `findclosest2`:\n",
    "\n",
    "```julia\n",
    "function findclosest2(data, point)\n",
    "    bestval = first(data)\n",
    "    bestdist = abs(bestval - point)\n",
    "    for elt in data\n",
    "        dist = abs(elt - point)\n",
    "        if dist < bestdist\n",
    "            bestval = elt\n",
    "            bestdist = dist\n",
    "        end\n",
    "    end\n",
    "    return bestval\n",
    "end\n",
    "```"
   ]
  },
  {
   "cell_type": "code",
   "execution_count": 33,
   "metadata": {},
   "outputs": [
    {
     "data": {
      "text/plain": [
       "CodeInfo(\n",
       "\u001b[90m1 ─\u001b[39m       (bestval = Main.first(data))\u001b[90m::Float64\u001b[39m\n",
       "\u001b[90m│  \u001b[39m %2  = (bestval - point)\u001b[36m::Float64\u001b[39m\n",
       "\u001b[90m│  \u001b[39m       (bestdist = Main.abs(%2))\u001b[90m::Float64\u001b[39m\n",
       "\u001b[90m│  \u001b[39m %4  = data\u001b[36m::Array{Float64,1}\u001b[39m\n",
       "\u001b[90m│  \u001b[39m       (@_6 = Base.iterate(%4))\u001b[90m::Union{Nothing, Tuple{Float64,Int64}}\u001b[39m\n",
       "\u001b[90m│  \u001b[39m %6  = (@_6 === nothing)\u001b[36m::Bool\u001b[39m\n",
       "\u001b[90m│  \u001b[39m %7  = Base.not_int(%6)\u001b[36m::Bool\u001b[39m\n",
       "\u001b[90m└──\u001b[39m       goto #6 if not %7\n",
       "\u001b[90m2 ┄\u001b[39m %9  = @_6::Tuple{Float64,Int64}\u001b[36m::Tuple{Float64,Int64}\u001b[39m\n",
       "\u001b[90m│  \u001b[39m       (elt = Core.getfield(%9, 1))\u001b[90m::Float64\u001b[39m\n",
       "\u001b[90m│  \u001b[39m %11 = Core.getfield(%9, 2)\u001b[36m::Int64\u001b[39m\n",
       "\u001b[90m│  \u001b[39m %12 = (elt - point)\u001b[36m::Float64\u001b[39m\n",
       "\u001b[90m│  \u001b[39m       (dist = Main.abs(%12))\u001b[90m::Float64\u001b[39m\n",
       "\u001b[90m│  \u001b[39m %14 = (dist < bestdist)\u001b[36m::Bool\u001b[39m\n",
       "\u001b[90m└──\u001b[39m       goto #4 if not %14\n",
       "\u001b[90m3 ─\u001b[39m       (bestval = elt)\u001b[90m::Float64\u001b[39m\n",
       "\u001b[90m└──\u001b[39m       (bestdist = dist)\u001b[90m::Float64\u001b[39m\n",
       "\u001b[90m4 ┄\u001b[39m       (@_6 = Base.iterate(%4, %11))\u001b[90m::Union{Nothing, Tuple{Float64,Int64}}\u001b[39m\n",
       "\u001b[90m│  \u001b[39m %19 = (@_6 === nothing)\u001b[36m::Bool\u001b[39m\n",
       "\u001b[90m│  \u001b[39m %20 = Base.not_int(%19)\u001b[36m::Bool\u001b[39m\n",
       "\u001b[90m└──\u001b[39m       goto #6 if not %20\n",
       "\u001b[90m5 ─\u001b[39m       goto #2\n",
       "\u001b[90m6 ┄\u001b[39m       return bestval\n",
       ") => Float64"
      ]
     },
     "execution_count": 33,
     "metadata": {},
     "output_type": "execute_result"
    }
   ],
   "source": [
    "@code_typed optimize=false findclosest2(data, 0.5)"
   ]
  },
  {
   "cell_type": "code",
   "execution_count": 34,
   "metadata": {},
   "outputs": [
    {
     "data": {
      "text/plain": [
       "Array{Float64,1}"
      ]
     },
     "execution_count": 34,
     "metadata": {},
     "output_type": "execute_result"
    }
   ],
   "source": [
    "typeof(data)"
   ]
  },
  {
   "cell_type": "code",
   "execution_count": 35,
   "metadata": {},
   "outputs": [
    {
     "data": {
      "text/plain": [
       "Array{Real,1}"
      ]
     },
     "execution_count": 35,
     "metadata": {},
     "output_type": "execute_result"
    }
   ],
   "source": [
    "newdata = Real[data...]\n",
    "typeof(newdata)"
   ]
  },
  {
   "cell_type": "code",
   "execution_count": 36,
   "metadata": {},
   "outputs": [
    {
     "data": {
      "text/plain": [
       "CodeInfo(\n",
       "\u001b[90m1 ─\u001b[39m       (bestval = Main.first(data))\u001b[90m::Real\u001b[39m\n",
       "\u001b[90m│  \u001b[39m %2  = (bestval - point)\u001b[36m::Any\u001b[39m\n",
       "\u001b[90m│  \u001b[39m       (bestdist = Main.abs(%2))\u001b[90m::Any\u001b[39m\n",
       "\u001b[90m│  \u001b[39m %4  = data\u001b[36m::Array{Real,1}\u001b[39m\n",
       "\u001b[90m│  \u001b[39m       (@_6 = Base.iterate(%4))\u001b[90m::Union{Nothing, Tuple{Real,Int64}}\u001b[39m\n",
       "\u001b[90m│  \u001b[39m %6  = (@_6 === nothing)\u001b[36m::Bool\u001b[39m\n",
       "\u001b[90m│  \u001b[39m %7  = Base.not_int(%6)\u001b[36m::Bool\u001b[39m\n",
       "\u001b[90m└──\u001b[39m       goto #6 if not %7\n",
       "\u001b[90m2 ┄\u001b[39m %9  = @_6::Tuple{Real,Int64}\u001b[36m::Tuple{Real,Int64}\u001b[39m\n",
       "\u001b[90m│  \u001b[39m       (elt = Core.getfield(%9, 1))\u001b[90m::Real\u001b[39m\n",
       "\u001b[90m│  \u001b[39m %11 = Core.getfield(%9, 2)\u001b[36m::Int64\u001b[39m\n",
       "\u001b[90m│  \u001b[39m %12 = (elt - point)\u001b[36m::Any\u001b[39m\n",
       "\u001b[90m│  \u001b[39m       (dist = Main.abs(%12))\u001b[90m::Any\u001b[39m\n",
       "\u001b[90m│  \u001b[39m %14 = (dist < bestdist)\u001b[36m::Any\u001b[39m\n",
       "\u001b[90m└──\u001b[39m       goto #4 if not %14\n",
       "\u001b[90m3 ─\u001b[39m       (bestval = elt)\u001b[90m::Real\u001b[39m\n",
       "\u001b[90m└──\u001b[39m       (bestdist = dist)\u001b[90m::Any\u001b[39m\n",
       "\u001b[90m4 ┄\u001b[39m       (@_6 = Base.iterate(%4, %11))\u001b[90m::Union{Nothing, Tuple{Real,Int64}}\u001b[39m\n",
       "\u001b[90m│  \u001b[39m %19 = (@_6 === nothing)\u001b[36m::Bool\u001b[39m\n",
       "\u001b[90m│  \u001b[39m %20 = Base.not_int(%19)\u001b[36m::Bool\u001b[39m\n",
       "\u001b[90m└──\u001b[39m       goto #6 if not %20\n",
       "\u001b[90m5 ─\u001b[39m       goto #2\n",
       "\u001b[90m6 ┄\u001b[39m       return bestval\n",
       ") => Real"
      ]
     },
     "execution_count": 36,
     "metadata": {},
     "output_type": "execute_result"
    }
   ],
   "source": [
    "@code_typed optimize=false findclosest2(newdata, 0.5)"
   ]
  },
  {
   "cell_type": "code",
   "execution_count": 37,
   "metadata": {},
   "outputs": [
    {
     "data": {
      "text/plain": [
       "BenchmarkTools.Trial: \n",
       "  memory estimate:  156.28 KiB\n",
       "  allocs estimate:  10002\n",
       "  --------------\n",
       "  minimum time:     182.375 μs (0.00% GC)\n",
       "  median time:      231.333 μs (0.00% GC)\n",
       "  mean time:        236.051 μs (1.70% GC)\n",
       "  maximum time:     1.919 ms (85.80% GC)\n",
       "  --------------\n",
       "  samples:          10000\n",
       "  evals/sample:     1"
      ]
     },
     "execution_count": 37,
     "metadata": {},
     "output_type": "execute_result"
    }
   ],
   "source": [
    "@benchmark findclosest2(newdata, 0.5)"
   ]
  },
  {
   "cell_type": "code",
   "execution_count": 38,
   "metadata": {},
   "outputs": [
    {
     "name": "stdout",
     "output_type": "stream",
     "text": [
      "Variables\n",
      "  #self#\u001b[36m::Core.Compiler.Const(findclosest2, false)\u001b[39m\n",
      "  data\u001b[36m::Array{Real,1}\u001b[39m\n",
      "  point\u001b[36m::Float64\u001b[39m\n",
      "  bestval\u001b[91m\u001b[1m::Real\u001b[22m\u001b[39m\n",
      "  bestdist\u001b[91m\u001b[1m::Any\u001b[22m\u001b[39m\n",
      "  @_6\u001b[33m\u001b[1m::Union{Nothing, Tuple{Real,Int64}}\u001b[22m\u001b[39m\n",
      "  elt\u001b[91m\u001b[1m::Real\u001b[22m\u001b[39m\n",
      "  dist\u001b[91m\u001b[1m::Any\u001b[22m\u001b[39m\n",
      "\n",
      "Body\u001b[91m\u001b[1m::Real\u001b[22m\u001b[39m\n",
      "\u001b[90m1 ─\u001b[39m       (bestval = Main.first(data))\n",
      "\u001b[90m│  \u001b[39m %2  = (bestval - point)\u001b[91m\u001b[1m::Any\u001b[22m\u001b[39m\n",
      "\u001b[90m│  \u001b[39m       (bestdist = Main.abs(%2))\n",
      "\u001b[90m│  \u001b[39m %4  = data\u001b[36m::Array{Real,1}\u001b[39m\n",
      "\u001b[90m│  \u001b[39m       (@_6 = Base.iterate(%4))\n",
      "\u001b[90m│  \u001b[39m %6  = (@_6 === nothing)\u001b[36m::Bool\u001b[39m\n",
      "\u001b[90m│  \u001b[39m %7  = Base.not_int(%6)\u001b[36m::Bool\u001b[39m\n",
      "\u001b[90m└──\u001b[39m       goto #6 if not %7\n",
      "\u001b[90m2 ┄\u001b[39m %9  = @_6::Tuple{Real,Int64}\u001b[91m\u001b[1m::Tuple{Real,Int64}\u001b[22m\u001b[39m\n",
      "\u001b[90m│  \u001b[39m       (elt = Core.getfield(%9, 1))\n",
      "\u001b[90m│  \u001b[39m %11 = Core.getfield(%9, 2)\u001b[36m::Int64\u001b[39m\n",
      "\u001b[90m│  \u001b[39m %12 = (elt - point)\u001b[91m\u001b[1m::Any\u001b[22m\u001b[39m\n",
      "\u001b[90m│  \u001b[39m       (dist = Main.abs(%12))\n",
      "\u001b[90m│  \u001b[39m %14 = (dist < bestdist)\u001b[91m\u001b[1m::Any\u001b[22m\u001b[39m\n",
      "\u001b[90m└──\u001b[39m       goto #4 if not %14\n",
      "\u001b[90m3 ─\u001b[39m       (bestval = elt)\n",
      "\u001b[90m└──\u001b[39m       (bestdist = dist)\n",
      "\u001b[90m4 ┄\u001b[39m       (@_6 = Base.iterate(%4, %11))\n",
      "\u001b[90m│  \u001b[39m %19 = (@_6 === nothing)\u001b[36m::Bool\u001b[39m\n",
      "\u001b[90m│  \u001b[39m %20 = Base.not_int(%19)\u001b[36m::Bool\u001b[39m\n",
      "\u001b[90m└──\u001b[39m       goto #6 if not %20\n",
      "\u001b[90m5 ─\u001b[39m       goto #2\n",
      "\u001b[90m6 ┄\u001b[39m       return bestval\n"
     ]
    }
   ],
   "source": [
    "@code_warntype findclosest2(newdata, 0.5)"
   ]
  },
  {
   "cell_type": "markdown",
   "metadata": {},
   "source": [
    "### Type stability\n",
    "\n",
    "A function is called type-stable if Julia is able to infer what the output\n",
    "type will be based purely on the types of the inputs.\n",
    "\n",
    "Things that thwart type stability:\n",
    "* Running things in global scope: create functions instead!\n",
    "* Non-concretely typed containers\n",
    "* Structs with abstractly-typed fields\n",
    "* Non-constant globals (they might change!)\n",
    "* Functions that change what they return based on the _values_:"
   ]
  },
  {
   "cell_type": "markdown",
   "metadata": {},
   "source": [
    "#### More on macros\n",
    "\n",
    "Each and every macro can define its own syntax. The `@benchmark` macro uses `$` in a special way.\n",
    "The goal behind `@benchmark` is to evaluate the performance of a code snippet\n",
    "as though it were written in a function. Use `$` to flag what will be an argument\n",
    "or local variable in the function. Forgetting to use `$`s may result in faster\n",
    "or slower timings than real-world performance."
   ]
  },
  {
   "cell_type": "code",
   "execution_count": 39,
   "metadata": {},
   "outputs": [
    {
     "name": "stdout",
     "output_type": "stream",
     "text": [
      "  19.159 ns (1 allocation: 16 bytes)\n",
      "  4.038 ns (0 allocations: 0 bytes)\n"
     ]
    },
    {
     "data": {
      "text/plain": [
       "0.479425538604203"
      ]
     },
     "execution_count": 39,
     "metadata": {},
     "output_type": "execute_result"
    }
   ],
   "source": [
    "x = 0.5 # non-constant global\n",
    "@btime sin(x)\n",
    "@btime sin($x)"
   ]
  },
  {
   "cell_type": "code",
   "execution_count": 40,
   "metadata": {},
   "outputs": [
    {
     "name": "stdout",
     "output_type": "stream",
     "text": [
      "  1.504 ns (0 allocations: 0 bytes)\n",
      "  3.655 ns (0 allocations: 0 bytes)\n"
     ]
    },
    {
     "data": {
      "text/plain": [
       "0.479425538604203"
      ]
     },
     "execution_count": 40,
     "metadata": {},
     "output_type": "execute_result"
    }
   ],
   "source": [
    "@btime sin(0.5) # constant literal!\n",
    "@btime sin($0.5)"
   ]
  },
  {
   "cell_type": "markdown",
   "metadata": {},
   "source": [
    "### Specializations\n",
    "\n",
    "Julia's reasoning about types is particularly important since it generates\n",
    "specialized machine code specifically for the given arguments."
   ]
  },
  {
   "cell_type": "code",
   "execution_count": 41,
   "metadata": {},
   "outputs": [
    {
     "name": "stdout",
     "output_type": "stream",
     "text": [
      "\n",
      ";  @ int.jl:86 within `+'\n",
      "define i64 @\"julia_+_3407\"(i64, i64) {\n",
      "top:\n",
      "  %2 = add i64 %1, %0\n",
      "  ret i64 %2\n",
      "}\n"
     ]
    }
   ],
   "source": [
    "@code_llvm 1 + 2"
   ]
  },
  {
   "cell_type": "markdown",
   "metadata": {},
   "source": [
    "This applies just the same to any functions we write — even the more complicated ones:"
   ]
  },
  {
   "cell_type": "code",
   "execution_count": 42,
   "metadata": {},
   "outputs": [
    {
     "name": "stdout",
     "output_type": "stream",
     "text": [
      "\n",
      ";  @ In[29]:1 within `findclosest2'\n",
      "define float @julia_findclosest2_3408(%jl_value_t* nonnull align 16 dereferenceable(40), float) {\n",
      "top:\n",
      ";  @ In[29]:2 within `findclosest2'\n",
      "; ┌ @ abstractarray.jl:323 within `first'\n",
      "; │┌ @ array.jl:809 within `getindex'\n",
      "    %2 = bitcast %jl_value_t* %0 to %jl_array_t*\n",
      "    %3 = getelementptr inbounds %jl_array_t, %jl_array_t* %2, i64 0, i32 1\n",
      "    %4 = load i64, i64* %3, align 8\n",
      "    %5 = icmp eq i64 %4, 0\n",
      "    br i1 %5, label %oob, label %idxend\n",
      "\n",
      "L48:                                              ; preds = %L48.preheader, %L48\n",
      "    %6 = phi i64 [ %value_phi623, %L48 ], [ 1, %L48.preheader ]\n",
      "    %value_phi4.25 = phi float [ %value_phi4., %L48 ], [ %20, %L48.preheader ]\n",
      "    %value_phi3.value_phi524 = phi float [ %value_phi3.value_phi5, %L48 ], [ %17, %L48.preheader ]\n",
      "    %value_phi623 = phi i64 [ %9, %L48 ], [ 2, %L48.preheader ]\n",
      "; └└\n",
      ";  @ In[29]:8 within `findclosest2'\n",
      "; ┌ @ array.jl:785 within `iterate'\n",
      "; │┌ @ array.jl:809 within `getindex'\n",
      "    %7 = getelementptr inbounds float, float* %16, i64 %6\n",
      "    %8 = load float, float* %7, align 4\n",
      "; │└\n",
      "; │┌ @ int.jl:86 within `+'\n",
      "    %9 = add i64 %value_phi623, 1\n",
      "; └└\n",
      ";  @ In[29]:5 within `findclosest2'\n",
      "; ┌ @ float.jl:402 within `-'\n",
      "   %10 = fsub float %8, %1\n",
      "; └\n",
      "; ┌ @ float.jl:527 within `abs'\n",
      "   %11 = call float @llvm.fabs.f32(float %10)\n",
      "; └\n",
      ";  @ In[29]:6 within `findclosest2'\n",
      "; ┌ @ float.jl:457 within `<'\n",
      "   %12 = fcmp uge float %11, %value_phi4.25\n",
      "; └\n",
      ";  @ In[29]:4 within `findclosest2'\n",
      "; ┌ @ array.jl:785 within `iterate' @ array.jl:785\n",
      "   %value_phi3.value_phi5 = select i1 %12, float %value_phi3.value_phi524, float %8\n",
      "   %value_phi4. = select i1 %12, float %value_phi4.25, float %11\n",
      "; └\n",
      ";  @ In[29]:8 within `findclosest2'\n",
      "; ┌ @ array.jl:785 within `iterate'\n",
      "; │┌ @ int.jl:447 within `<' @ int.jl:440\n",
      "    %13 = icmp ult i64 %value_phi623, %4\n",
      "; │└\n",
      "   br i1 %13, label %L48, label %L54\n",
      "\n",
      "L54:                                              ; preds = %idxend, %L48\n",
      "   %value_phi12 = phi float [ %17, %idxend ], [ %value_phi3.value_phi5, %L48 ]\n",
      "; └\n",
      ";  @ In[29]:11 within `findclosest2'\n",
      "  ret float %value_phi12\n",
      "\n",
      "oob:                                              ; preds = %top\n",
      ";  @ In[29]:2 within `findclosest2'\n",
      "; ┌ @ abstractarray.jl:323 within `first'\n",
      "; │┌ @ array.jl:809 within `getindex'\n",
      "    %14 = alloca i64, align 8\n",
      "    store i64 1, i64* %14, align 8\n",
      "    call void @jl_bounds_error_ints(%jl_value_t* %0, i64* nonnull %14, i64 1)\n",
      "    unreachable\n",
      "\n",
      "idxend:                                           ; preds = %top\n",
      "    %15 = bitcast %jl_value_t* %0 to float**\n",
      "    %16 = load float*, float** %15, align 8\n",
      "    %17 = load float, float* %16, align 4\n",
      "; └└\n",
      ";  @ In[29]:4 within `findclosest2'\n",
      "; ┌ @ array.jl:785 within `iterate' @ array.jl:785\n",
      "   %18 = icmp slt i64 %4, 2\n",
      "   br i1 %18, label %L54, label %L48.preheader\n",
      "\n",
      "L48.preheader:                                    ; preds = %idxend\n",
      "; └\n",
      ";  @ In[29]:3 within `findclosest2'\n",
      "; ┌ @ float.jl:402 within `-'\n",
      "   %19 = fsub float %17, %1\n",
      "; └\n",
      "; ┌ @ float.jl:527 within `abs'\n",
      "   %20 = call float @llvm.fabs.f32(float %19)\n",
      "; └\n",
      ";  @ In[29]:8 within `findclosest2'\n",
      "; ┌ @ array.jl:785 within `iterate'\n",
      "   br label %L48\n",
      "; └\n",
      "}\n"
     ]
    }
   ],
   "source": [
    "@code_llvm findclosest2(Float32[2.2,3.4,4.5],Float32(3.2))"
   ]
  },
  {
   "cell_type": "markdown",
   "metadata": {},
   "source": [
    "This applies just the same to any functions we write — even the more complicated ones:"
   ]
  },
  {
   "cell_type": "code",
   "execution_count": 43,
   "metadata": {},
   "outputs": [
    {
     "name": "stdout",
     "output_type": "stream",
     "text": [
      "\n",
      "define float @julia_findclosest2_3409(%jl_value_t* nonnull align 16 dereferenceable(40), i64) {\n",
      "top:\n",
      "    %2 = bitcast %jl_value_t* %0 to %jl_array_t*\n",
      "    %3 = getelementptr inbounds %jl_array_t, %jl_array_t* %2, i64 0, i32 1\n",
      "    %4 = load i64, i64* %3, align 8\n",
      "    %5 = icmp eq i64 %4, 0\n",
      "    br i1 %5, label %oob, label %idxend\n",
      "\n",
      "L50:                                              ; preds = %L50.preheader, %L50\n",
      "    %6 = phi i64 [ %value_phi623, %L50 ], [ 1, %L50.preheader ]\n",
      "    %value_phi4.25 = phi float [ %value_phi4., %L50 ], [ %21, %L50.preheader ]\n",
      "    %value_phi3.value_phi524 = phi float [ %value_phi3.value_phi5, %L50 ], [ %17, %L50.preheader ]\n",
      "    %value_phi623 = phi i64 [ %9, %L50 ], [ 2, %L50.preheader ]\n",
      "    %7 = getelementptr inbounds float, float* %16, i64 %6\n",
      "    %8 = load float, float* %7, align 4\n",
      "    %9 = add i64 %value_phi623, 1\n",
      "   %10 = fsub float %8, %18\n",
      "   %11 = call float @llvm.fabs.f32(float %10)\n",
      "   %12 = fcmp uge float %11, %value_phi4.25\n",
      "   %value_phi3.value_phi5 = select i1 %12, float %value_phi3.value_phi524, float %8\n",
      "   %value_phi4. = select i1 %12, float %value_phi4.25, float %11\n",
      "    %13 = icmp ult i64 %value_phi623, %4\n",
      "   br i1 %13, label %L50, label %L56\n",
      "\n",
      "L56:                                              ; preds = %idxend, %L50\n",
      "   %value_phi12 = phi float [ %17, %idxend ], [ %value_phi3.value_phi5, %L50 ]\n",
      "  ret float %value_phi12\n",
      "\n",
      "oob:                                              ; preds = %top\n",
      "    %14 = alloca i64, align 8\n",
      "    store i64 1, i64* %14, align 8\n",
      "    call void @jl_bounds_error_ints(%jl_value_t* %0, i64* nonnull %14, i64 1)\n",
      "    unreachable\n",
      "\n",
      "idxend:                                           ; preds = %top\n",
      "    %15 = bitcast %jl_value_t* %0 to float**\n",
      "    %16 = load float*, float** %15, align 8\n",
      "    %17 = load float, float* %16, align 4\n",
      "       %18 = sitofp i64 %1 to float\n",
      "   %19 = icmp slt i64 %4, 2\n",
      "   br i1 %19, label %L56, label %L50.preheader\n",
      "\n",
      "L50.preheader:                                    ; preds = %idxend\n",
      "   %20 = fsub float %17, %18\n",
      "   %21 = call float @llvm.fabs.f32(float %20)\n",
      "   br label %L50\n",
      "}\n"
     ]
    }
   ],
   "source": [
    "remove_comments(s) = join(filter(x->!startswith(x, \";\"), split(s, \"\\n\")), \"\\n\")\n",
    "sprint(code_llvm, findclosest2, Tuple{Vector{Float32}, Int}) |> remove_comments |> print"
   ]
  },
  {
   "cell_type": "markdown",
   "metadata": {},
   "source": [
    "## Modern hardware effects\n",
    "\n",
    "There are lots of little performance quirks in modern computers; I'll just\n",
    "cover two interesting ones here:"
   ]
  },
  {
   "cell_type": "code",
   "execution_count": 44,
   "metadata": {},
   "outputs": [
    {
     "data": {
      "text/plain": [
       "BenchmarkTools.Trial: \n",
       "  memory estimate:  0 bytes\n",
       "  allocs estimate:  0\n",
       "  --------------\n",
       "  minimum time:     9.269 μs (0.00% GC)\n",
       "  median time:      9.346 μs (0.00% GC)\n",
       "  mean time:        9.561 μs (0.00% GC)\n",
       "  maximum time:     28.398 μs (0.00% GC)\n",
       "  --------------\n",
       "  samples:          10000\n",
       "  evals/sample:     5"
      ]
     },
     "execution_count": 44,
     "metadata": {},
     "output_type": "execute_result"
    }
   ],
   "source": [
    "@benchmark findclosest2($data, $0.5)"
   ]
  },
  {
   "cell_type": "code",
   "execution_count": 45,
   "metadata": {},
   "outputs": [
    {
     "data": {
      "text/plain": [
       "BenchmarkTools.Trial: \n",
       "  memory estimate:  0 bytes\n",
       "  allocs estimate:  0\n",
       "  --------------\n",
       "  minimum time:     8.148 μs (0.00% GC)\n",
       "  median time:      9.377 μs (0.00% GC)\n",
       "  mean time:        9.577 μs (0.00% GC)\n",
       "  maximum time:     27.746 μs (0.00% GC)\n",
       "  --------------\n",
       "  samples:          10000\n",
       "  evals/sample:     4"
      ]
     },
     "execution_count": 45,
     "metadata": {},
     "output_type": "execute_result"
    }
   ],
   "source": [
    "sorteddata = sort(data)\n",
    "@benchmark findclosest2($sorteddata, $0.5)"
   ]
  },
  {
   "cell_type": "markdown",
   "metadata": {},
   "source": [
    "Unfortunately, this isn't demonstrable on a hardened cloud platform... because\n",
    "it's a huge security risk!\n",
    "\n",
    "* https://meltdownattack.com\n",
    "* https://discourse.julialang.org/t/psa-microbenchmarks-remember-branch-history/17436"
   ]
  },
  {
   "cell_type": "code",
   "execution_count": 46,
   "metadata": {},
   "outputs": [
    {
     "data": {
      "text/plain": [
       "BenchmarkTools.Trial: \n",
       "  memory estimate:  0 bytes\n",
       "  allocs estimate:  0\n",
       "  --------------\n",
       "  minimum time:     8.258 μs (0.00% GC)\n",
       "  median time:      8.359 μs (0.00% GC)\n",
       "  mean time:        8.807 μs (0.00% GC)\n",
       "  maximum time:     36.639 μs (0.00% GC)\n",
       "  --------------\n",
       "  samples:          10000\n",
       "  evals/sample:     5"
      ]
     },
     "execution_count": 46,
     "metadata": {},
     "output_type": "execute_result"
    }
   ],
   "source": [
    "idxs = sortperm(data)\n",
    "sortedview = @view data[idxs]\n",
    "@benchmark findclosest2($sortedview, $0.5)"
   ]
  },
  {
   "cell_type": "markdown",
   "metadata": {},
   "source": [
    "### Memory latencies\n",
    "\n",
    "| System Event                   | Actual Latency | Scaled Latency |\n",
    "| ------------------------------ | -------------- | -------------- |\n",
    "| One CPU cycle                  |     0.4 ns     |     1 s        |\n",
    "| Level 1 cache access           |     0.9 ns     |     2 s        |\n",
    "| Level 2 cache access           |     2.8 ns     |     7 s        |\n",
    "| Level 3 cache access           |      28 ns     |     1 min      |\n",
    "| Main memory access (DDR DIMM)  |    ~100 ns     |     4 min      |\n",
    "| Intel Optane memory access     |     <10 μs     |     7 hrs      |\n",
    "| NVMe SSD I/O                   |     ~25 μs     |    17 hrs      |\n",
    "| SSD I/O                        |  50–150 μs     | 1.5–4 days     |\n",
    "| Rotational disk I/O            |    1–10 ms     |   1–9 months   |\n",
    "| Internet call: SF to NYC       |      65 ms     |     5 years    |\n",
    "| Internet call: SF to Hong Kong |     141 ms     |    11 years    |\n",
    "\n",
    " (from https://www.prowesscorp.com/computer-latency-at-a-human-scale/)"
   ]
  },
  {
   "cell_type": "markdown",
   "metadata": {},
   "source": [
    "# Key Takeaways\n",
    "\n",
    "* Measure, measure, measure!\n",
    "* Get familiar with the [Performance Tips](https://docs.julialang.org/en/v1/manual/performance-tips/)\n",
    "* Don't be scared of `@code_typed`/`@code_warntype` and `@code_llvm`"
   ]
  }
 ],
 "metadata": {
  "kernelspec": {
   "display_name": "Julia 1.5.3",
   "language": "julia",
   "name": "julia-1.5"
  },
  "language_info": {
   "file_extension": ".jl",
   "mimetype": "application/julia",
   "name": "julia",
   "version": "1.5.3"
  }
 },
 "nbformat": 4,
 "nbformat_minor": 3
}
