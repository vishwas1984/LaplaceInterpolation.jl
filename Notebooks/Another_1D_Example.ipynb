{
 "cells": [
  {
   "cell_type": "markdown",
   "metadata": {},
   "source": [
    "# Another 1D GP Example\n",
    "\n",
    "We generate realizations of a simple one dimensional Gaussian Process with zero mean and Matern covariance. Then we use the LaplaceInterpolation procedure to produce the interpolation."
   ]
  },
  {
   "cell_type": "code",
   "execution_count": null,
   "metadata": {},
   "outputs": [],
   "source": [
    "using GaussianProcesses, LaplaceInterpolation, Random, LinearAlgebra, Plots\n",
    "Random.seed!(20140430);"
   ]
  },
  {
   "cell_type": "code",
   "execution_count": null,
   "metadata": {},
   "outputs": [],
   "source": [
    "function get_gp(ν, ll, lσ)\n",
    "    kern = Matern(ν, ll, lσ)                   \n",
    "    # We will use no observation noise here for the purposes of generating data\n",
    "    return GP(x, y, MeanZero(), kern)\n",
    "end\n",
    "\n",
    "function gprealiz(x, y, ν, ll, lσ, nrealiz = 1)\n",
    "    kern = Matern(ν, ll, lσ)                   \n",
    "    # We will use no observation noise here for the purposes of generating data\n",
    "    gp = GP(x, y, MeanZero(), kern)\n",
    "    # Generate realizations of the data. It is given as μ + σLV, where L is the Cholesky factor of K\n",
    "    # and V is drawn from an iid N(0,1) distribution\n",
    "    μ, Σ = predict_f(gp, collect(1.0:m), full_cov = true)\n",
    "    L = cholesky(Σ)\n",
    "    realiz = zeros(m, nrealiz)\n",
    "    for i in 1:nrealiz\n",
    "        realiz[:, i] = μ + L.L * randn(m)\n",
    "    end\n",
    "    return realiz\n",
    "end"
   ]
  },
  {
   "cell_type": "code",
   "execution_count": null,
   "metadata": {},
   "outputs": [],
   "source": [
    "# Training data\n",
    "n = 10\n",
    "m = 2 * n\n",
    "v = Float64.(randperm(m))\n",
    "x = sort(v[1:n])\n",
    "y = sin.(2π * x * 0.1) + 0.05*randn(n)\n",
    "\n",
    "# The Matern parameters are set on a log scale\n",
    "ν = 1.5\n",
    "ll = 0.5\n",
    "lσ = 0.0 #0.05\n",
    "nrealiz = 100\n",
    "\n",
    "realiz = gprealiz(x, y, ν, ll, lσ, nrealiz)"
   ]
  },
  {
   "cell_type": "code",
   "execution_count": null,
   "metadata": {},
   "outputs": [],
   "source": [
    "gp = get_gp(ν, ll, lσ)\n",
    "plot(gp; xlabel=\"x\", ylabel=\"y\", title=\"Gaussian process\", legend=true, label = [\"μ\" \"y\"],\n",
    "        xlim = [0,21]) \n",
    "plot!(realiz, c = RGBA(0,0,0,0.1), label = \"\")"
   ]
  },
  {
   "cell_type": "code",
   "execution_count": null,
   "metadata": {},
   "outputs": [],
   "source": [
    "h = k = 1.0\n",
    "discard = Int64.(v[(n+1):m])\n",
    "\n",
    "y_lap = matern_1d_grid(y, discard, 1, 0.0, h)\n",
    "d = 1\n",
    "m = 2 # nu + d/2\n",
    "# m = dimension/2+nu\n",
    "# epsilon = sqrt(2*nu)/length_scale\n",
    "epsilon = sqrt(3)/exp(ll)\n",
    "\n",
    "y_mat = matern_1d_grid(y, discard, m, epsilon, h, k)"
   ]
  },
  {
   "cell_type": "code",
   "execution_count": null,
   "metadata": {},
   "outputs": [],
   "source": []
  },
  {
   "cell_type": "code",
   "execution_count": null,
   "metadata": {},
   "outputs": [],
   "source": []
  }
 ],
 "metadata": {
  "@webio": {
   "lastCommId": null,
   "lastKernelId": null
  },
  "kernelspec": {
   "display_name": "Julia 1.5.4",
   "language": "julia",
   "name": "julia-1.5"
  },
  "language_info": {
   "file_extension": ".jl",
   "mimetype": "application/julia",
   "name": "julia",
   "version": "1.5.4"
  }
 },
 "nbformat": 4,
 "nbformat_minor": 4
}
