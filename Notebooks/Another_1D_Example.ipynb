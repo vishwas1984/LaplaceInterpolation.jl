{
 "cells": [
  {
   "cell_type": "markdown",
   "metadata": {},
   "source": [
    "# Another 1D GP Example\n",
    "\n",
    "We generate realizations of a simple one dimensional Gaussian Process with zero mean and Matern covariance. Then we use the LaplaceInterpolation procedure to produce the interpolation."
   ]
  },
  {
   "cell_type": "code",
   "execution_count": null,
   "metadata": {},
   "outputs": [],
   "source": [
    "using GaussianProcesses, LaplaceInterpolation, Random, LinearAlgebra, Plots, Statistics, StatsPlots\n",
    "Random.seed!(20140430);"
   ]
  },
  {
   "cell_type": "code",
   "execution_count": null,
   "metadata": {},
   "outputs": [],
   "source": [
    "function get_gp(ν, ll, lσ)\n",
    "    kern = Matern(ν, ll, lσ)                   \n",
    "    # We will use no observation noise here for the purposes of generating data\n",
    "    return GP(x, y, MeanZero(), kern)\n",
    "end\n",
    "\n",
    "function gprealiz(x, y, ν, ll, lσ, n2, nrealiz = 1)\n",
    "    kern = Matern(ν, ll, lσ)                   \n",
    "    # We will use no observation noise here for the purposes of generating data\n",
    "    gp = GP(x, y, MeanZero(), kern)\n",
    "    # Generate realizations of the data. It is given as μ + σLV, where L is the Cholesky factor of K\n",
    "    # and V is drawn from an iid N(0,1) distribution\n",
    "    μ, Σ = predict_f(gp, collect(1.0:n2), full_cov = true)\n",
    "    L = cholesky(Σ)\n",
    "    realiz = zeros(n2, nrealiz)\n",
    "    for i in 1:nrealiz\n",
    "        realiz[:, i] = μ + L.L * randn(n2)\n",
    "    end\n",
    "    return realiz\n",
    "end"
   ]
  },
  {
   "cell_type": "markdown",
   "metadata": {},
   "source": [
    "## Generate some data with Matèrn covariance \n",
    "\n",
    "We use the GaussianProcesses.jl package to first make up a GP and then generate realizations from it. The parameters given to this package are on a log scale. "
   ]
  },
  {
   "cell_type": "code",
   "execution_count": null,
   "metadata": {},
   "outputs": [],
   "source": [
    "# Training data\n",
    "n = 10\n",
    "n2 = 2 * n\n",
    "v = Float64.(randperm(n2))\n",
    "x = sort(v[1:n])\n",
    "y = sin.(2π * x * 0.1) + 0.05*randn(n)\n",
    "\n",
    "keep = Int64.(x)\n",
    "discard = sort(Int64.(v[(n+1):n2]))\n",
    "\n",
    "# The Matern parameters are set on a log scale\n",
    "ν = 1.5\n",
    "ll = 0.5\n",
    "lσ = 0.0 #0.05\n",
    "nrealiz = 100\n",
    "\n",
    "realiz = gprealiz(x, y, ν, ll, lσ, n2, nrealiz)"
   ]
  },
  {
   "cell_type": "markdown",
   "metadata": {},
   "source": [
    "Plotting the realizations atop the simple 1D GP."
   ]
  },
  {
   "cell_type": "code",
   "execution_count": null,
   "metadata": {},
   "outputs": [],
   "source": [
    "gp = get_gp(ν, ll, lσ)\n",
    "plot(gp; xlabel=\"x\", ylabel=\"y\", title=\"Gaussian process\", legend=true, label = [\"μ\" \"y\"],\n",
    "        xlim = [0,21]) \n",
    "plot!(realiz, c = RGBA(0,0,0,0.1), label = \"\")"
   ]
  },
  {
   "cell_type": "markdown",
   "metadata": {},
   "source": [
    "## Interpolate using Matérn and Laplace interpolation\n",
    "\n",
    "Here we assume the Matérn parameters are known and interpolate using them. We need to convert between the log-parameters given to the GP function above and the notation we've used, m, and $\\epsilon$. "
   ]
  },
  {
   "cell_type": "code",
   "execution_count": null,
   "metadata": {},
   "outputs": [],
   "source": [
    "h = 1.0\n",
    "\n",
    "d = 1\n",
    "# m = nu + d/2\n",
    "m = 2 \n",
    "# epsilon = sqrt(2*nu)/length_scale\n",
    "epsilon = sqrt(3)/exp(ll)\n",
    "\n",
    "y_lap = mapslices(z -> matern_1d_grid(z, discard, 1, 1.0, h), realiz, dims = 1)\n",
    "y_mat = mapslices(z -> matern_1d_grid(z, discard, m, epsilon, h), realiz, dims = 1)\n"
   ]
  },
  {
   "cell_type": "markdown",
   "metadata": {},
   "source": [
    "Looking at one of the realizations and the interpolation we get, we see that the squared distance between the interpolation and the truth is smaller for the Matérn."
   ]
  },
  {
   "cell_type": "code",
   "execution_count": null,
   "metadata": {},
   "outputs": [],
   "source": [
    "function sqdist(r, interp, discard)\n",
    "    return sum(abs2, r[discard] .- interp[discard])\n",
    "end\n",
    "\n",
    "i = 1\n",
    "\n",
    "println(\"Squared distance between Laplace interpolation and the truth: $(sqdist(realiz[:,i], y_lap[:,i], discard))\")\n",
    "println(\"Squared distance between Matern interpolation and the truth: $(sqdist(realiz[:,i], y_mat[:,i], discard))\")\n",
    "\n",
    "plot(gp, label = \"GP\", alpha = 0.05, legend = :outertopright)\n",
    "scatter!(keep, realiz[keep, i], label=\"Known\")\n",
    "plot!(realiz[:, i], label = \"Realiz. $i\")\n",
    "scatter!(discard, y_lap[discard, i], label = \"∇² Interp.\")\n",
    "scatter!(discard, y_mat[discard, i], label = \"Mat($m, $(round(epsilon, sigdigits = 3))) Interp.\")\n"
   ]
  },
  {
   "cell_type": "code",
   "execution_count": null,
   "metadata": {},
   "outputs": [],
   "source": [
    "# Compute the squared distance for all the interpolations\n",
    "lap_dist = map(i -> sqdist(realiz[:, i], y_lap[:, i], discard), 1:nrealiz)\n",
    "mat_dist = map(i -> sqdist(realiz[:, i], y_mat[:, i], discard), 1:nrealiz)\n",
    "\n",
    "println(\"Mean squared distance between the Laplacian interpolation and the truth: $(mean(lap_dist)).\")\n",
    "println(\"Mean squared distance between the Matern interpolation and the truth: $(mean(mat_dist)).\")\n",
    "\n",
    "boxplot(lap_dist)"
   ]
  },
  {
   "cell_type": "markdown",
   "metadata": {},
   "source": []
  }
 ],
 "metadata": {
  "@webio": {
   "lastCommId": null,
   "lastKernelId": null
  },
  "kernelspec": {
   "display_name": "Julia 1.5.4",
   "language": "julia",
   "name": "julia-1.5"
  },
  "language_info": {
   "file_extension": ".jl",
   "mimetype": "application/julia",
   "name": "julia",
   "version": "1.5.4"
  }
 },
 "nbformat": 4,
 "nbformat_minor": 4
}
