{
 "cells": [
  {
   "cell_type": "markdown",
   "id": "dc5e447f",
   "metadata": {},
   "source": [
    "# Matern Interpolation on a one dimensional example"
   ]
  },
  {
   "cell_type": "code",
   "execution_count": 1,
   "id": "e6b5f4b7",
   "metadata": {},
   "outputs": [
    {
     "name": "stderr",
     "output_type": "stream",
     "text": [
      "┌ Info: Precompiling LaplaceInterpolation [afb1b68e-e51f-4e49-a799-0e085170423d]\n",
      "└ @ Base loading.jl:1278\n",
      "ERROR: LoadError: LoadError: syntax: incomplete: unterminated multi-line comment #= ... =#\n",
      "Stacktrace:\n",
      " [1] top-level scope at /Users/charlottehaley/.julia/packages/LaplaceInterpolation/178Ul/src/Matern1D2D.jl:319\n",
      " [2] include(::Function, ::Module, ::String) at ./Base.jl:380\n",
      " [3] include at ./Base.jl:368 [inlined]\n",
      " [4] include(::String) at /Users/charlottehaley/.julia/packages/LaplaceInterpolation/178Ul/src/LaplaceInterpolation.jl:1\n",
      " [5] top-level scope at /Users/charlottehaley/.julia/packages/LaplaceInterpolation/178Ul/src/LaplaceInterpolation.jl:5\n",
      " [6] include(::Function, ::Module, ::String) at ./Base.jl:380\n",
      " [7] include(::Module, ::String) at ./Base.jl:368\n",
      " [8] top-level scope at none:2\n",
      " [9] eval at ./boot.jl:347 [inlined]\n",
      " [10] eval(::Expr) at ./client.jl:467\n",
      " [11] top-level scope at ./none:3\n",
      "in expression starting at /Users/charlottehaley/.julia/packages/LaplaceInterpolation/178Ul/src/Matern1D2D.jl:319\n",
      "in expression starting at /Users/charlottehaley/.julia/packages/LaplaceInterpolation/178Ul/src/LaplaceInterpolation.jl:5\n"
     ]
    },
    {
     "ename": "LoadError",
     "evalue": "\u001b[91mFailed to precompile LaplaceInterpolation [afb1b68e-e51f-4e49-a799-0e085170423d] to /Users/charlottehaley/.julia/compiled/v1.5/LaplaceInterpolation/0zvkA_CtSfZ.ji.\u001b[39m",
     "output_type": "error",
     "traceback": [
      "\u001b[91mFailed to precompile LaplaceInterpolation [afb1b68e-e51f-4e49-a799-0e085170423d] to /Users/charlottehaley/.julia/compiled/v1.5/LaplaceInterpolation/0zvkA_CtSfZ.ji.\u001b[39m",
      "",
      "Stacktrace:",
      " [1] error(::String) at ./error.jl:33",
      " [2] compilecache(::Base.PkgId, ::String) at ./loading.jl:1305",
      " [3] _require(::Base.PkgId) at ./loading.jl:1030",
      " [4] require(::Base.PkgId) at ./loading.jl:928",
      " [5] require(::Module, ::Symbol) at ./loading.jl:923",
      " [6] include_string(::Function, ::Module, ::String, ::String) at ./loading.jl:1091"
     ]
    }
   ],
   "source": [
    "using PyCall\n",
    "using LaplaceInterpolation\n",
    "using SparseArrays, LinearAlgebra\n",
    "using Plots, Random"
   ]
  },
  {
   "cell_type": "markdown",
   "id": "46d9bffe",
   "metadata": {},
   "source": [
    "This next cell assumes your python installation has [`scikit-learn`](https://scikit-learn.org/stable/install.html) available.  "
   ]
  },
  {
   "cell_type": "code",
   "execution_count": 2,
   "id": "9291a7ae",
   "metadata": {},
   "outputs": [
    {
     "ename": "LoadError",
     "evalue": "\u001b[91mPyError ($(Expr(:escape, :(ccall(#= /Users/charlottehaley/.julia/packages/PyCall/BD546/src/pyeval.jl:38 =# @pysym(:PyEval_EvalCode), PyPtr, (PyPtr, PyPtr, PyPtr), o, globals, locals))))) <class 'ModuleNotFoundError'>\u001b[39m\n\u001b[91mModuleNotFoundError(\"No module named 'sklearn'\")\u001b[39m\n\u001b[91m  File \"/Users/charlottehaley/.julia/packages/PyCall/BD546/src/pyeval.jl\", line 4, in <module>\u001b[39m\n",
     "output_type": "error",
     "traceback": [
      "\u001b[91mPyError ($(Expr(:escape, :(ccall(#= /Users/charlottehaley/.julia/packages/PyCall/BD546/src/pyeval.jl:38 =# @pysym(:PyEval_EvalCode), PyPtr, (PyPtr, PyPtr, PyPtr), o, globals, locals))))) <class 'ModuleNotFoundError'>\u001b[39m\n\u001b[91mModuleNotFoundError(\"No module named 'sklearn'\")\u001b[39m\n\u001b[91m  File \"/Users/charlottehaley/.julia/packages/PyCall/BD546/src/pyeval.jl\", line 4, in <module>\u001b[39m\n",
      "",
      "Stacktrace:",
      " [1] pyerr_check at /Users/charlottehaley/.julia/packages/PyCall/BD546/src/exception.jl:62 [inlined]",
      " [2] pyerr_check at /Users/charlottehaley/.julia/packages/PyCall/BD546/src/exception.jl:66 [inlined]",
      " [3] _handle_error(::String) at /Users/charlottehaley/.julia/packages/PyCall/BD546/src/exception.jl:83",
      " [4] macro expansion at /Users/charlottehaley/.julia/packages/PyCall/BD546/src/exception.jl:97 [inlined]",
      " [5] #117 at /Users/charlottehaley/.julia/packages/PyCall/BD546/src/pyeval.jl:38 [inlined]",
      " [6] disable_sigint at ./c.jl:446 [inlined]",
      " [7] pyeval_(::String, ::PyDict{String,PyObject,true}, ::PyDict{String,PyObject,true}, ::Int64, ::String) at /Users/charlottehaley/.julia/packages/PyCall/BD546/src/pyeval.jl:37",
      " [8] top-level scope at /Users/charlottehaley/.julia/packages/PyCall/BD546/src/pyeval.jl:230",
      " [9] include_string(::Function, ::Module, ::String, ::String) at ./loading.jl:1091"
     ]
    }
   ],
   "source": [
    "py\"\"\"\n",
    "import numpy as np\n",
    "from matplotlib import pyplot as plt\n",
    "\n",
    "from sklearn.gaussian_process import GaussianProcessRegressor\n",
    "from sklearn.gaussian_process.kernels import RBF, ConstantKernel as C, Matern\n",
    "\n",
    "np.random.seed(1)\n",
    "\n",
    "def f(x):\n",
    "    return x * np.sin(x)\n",
    "    \n",
    "\n",
    "def matern_data_1d():\n",
    "    X = np.atleast_2d([1.,2., 3., 4.,5., 6., 7., 8.]).T\n",
    "    y = f(X).ravel()\n",
    "    kernel = 1.0 * Matern(length_scale=1.0, nu=1.5)\n",
    "    gp = GaussianProcessRegressor(kernel=kernel, n_restarts_optimizer=9)\n",
    "    gp.fit(X, y)\n",
    "    x = np.atleast_2d(np.linspace(0, 10, 1000)).T\n",
    "# Make the prediction on the meshed x-axis (ask for MSE as well)\n",
    "    y_pred, sigma = gp.predict(x, return_std=True)\n",
    "    return y_pred, sigma\n",
    "\"\"\"\n",
    "y_pred, sigma = py\"matern_data_1d\"()"
   ]
  },
  {
   "cell_type": "code",
   "execution_count": 4,
   "id": "32d37b03",
   "metadata": {},
   "outputs": [
    {
     "ename": "LoadError",
     "evalue": "\u001b[91mUndefVarError: y_pred not defined\u001b[39m",
     "output_type": "error",
     "traceback": [
      "\u001b[91mUndefVarError: y_pred not defined\u001b[39m",
      "",
      "Stacktrace:",
      " [1] top-level scope at In[4]:1",
      " [2] include_string(::Function, ::Module, ::String, ::String) at ./loading.jl:1091"
     ]
    }
   ],
   "source": [
    "plot(y_pred, ylim=[-10,20])"
   ]
  },
  {
   "cell_type": "code",
   "execution_count": 5,
   "id": "06d665fa",
   "metadata": {},
   "outputs": [
    {
     "ename": "LoadError",
     "evalue": "\u001b[91mUndefVarError: y_pred not defined\u001b[39m",
     "output_type": "error",
     "traceback": [
      "\u001b[91mUndefVarError: y_pred not defined\u001b[39m",
      "",
      "Stacktrace:",
      " [1] top-level scope at In[5]:7",
      " [2] include_string(::Function, ::Module, ::String, ::String) at ./loading.jl:1091"
     ]
    }
   ],
   "source": [
    "number_of_gridpoints = 1000\n",
    "No_of_nodes_discarded = 900\n",
    "random_permutation = randperm(MersenneTwister(1234), number_of_gridpoints)\n",
    "discard = random_permutation[1:No_of_nodes_discarded]\n",
    "# discard = rand(2:length(y_pred)-1, No_of_nodes_discarded);\n",
    "# discard = unique(discard);\n",
    "missing_data = copy(y_pred)\n",
    "missing_data[discard].=-100\n",
    "Plots.plot(missing_data, ylim=[-10,20])\n",
    "len = length(y_pred)\n",
    "h = 1e-2\n",
    "nu = 1.5\n",
    "length_scale = 1.0\n",
    "dimension = 1\n",
    "#=\n",
    "C = sparse(I, len, len)\n",
    "for i in discard\n",
    "    C[i,i] = 0;\n",
    "end\n",
    "f = C*y_pred;\n",
    "=#\n",
    "#To do -- random permutation of 1000 and remove the first 90% of the data.\n",
    "#Random permutation\n",
    "#Set the seed for consistent result"
   ]
  },
  {
   "cell_type": "code",
   "execution_count": 6,
   "id": "6f26ee3b",
   "metadata": {},
   "outputs": [
    {
     "ename": "LoadError",
     "evalue": "\u001b[91mUndefVarError: dimension not defined\u001b[39m",
     "output_type": "error",
     "traceback": [
      "\u001b[91mUndefVarError: dimension not defined\u001b[39m",
      "",
      "Stacktrace:",
      " [1] top-level scope at In[6]:1",
      " [2] include_string(::Function, ::Module, ::String, ::String) at ./loading.jl:1091"
     ]
    }
   ],
   "source": [
    "m = dimension/2+nu\n",
    "epsilon = sqrt(2*nu)/length_scale\n",
    "\n",
    "restored_data_laplace, restored_data_matern = Matern_1D_Grid(y_pred, h, discard, \n",
    "    m, epsilon)\n",
    "# f = y_pred[:];\n",
    "# u =((C-(Id -C)*A1D)) \\ (C*f);\n",
    "# restored_data_laplace = u;\n",
    "# A = ∇²1d_Grid(len, h);\n",
    "# epsilon = sqrt(2*nu)/length_scale\n",
    "# sizeA = size(A,1);\n",
    "# for i = 1:sizeA\n",
    "#     A[i,i] = A[i,i] + epsilon^2\n",
    "# end\n",
    "\n",
    "# A2DM = A*A;\n",
    "# u =((C-(Id -C)*A2DM)) \\ (C*f);\n",
    "# restored_data_matern = u"
   ]
  },
  {
   "cell_type": "code",
   "execution_count": 7,
   "id": "f41582fc",
   "metadata": {},
   "outputs": [
    {
     "ename": "LoadError",
     "evalue": "\u001b[91mUndefVarError: y_pred not defined\u001b[39m",
     "output_type": "error",
     "traceback": [
      "\u001b[91mUndefVarError: y_pred not defined\u001b[39m",
      "",
      "Stacktrace:",
      " [1] top-level scope at In[7]:2",
      " [2] include_string(::Function, ::Module, ::String, ::String) at ./loading.jl:1091"
     ]
    }
   ],
   "source": [
    "\n",
    "Plot_Matrix =[y_pred, restored_data_laplace, restored_data_matern]\n",
    "#plot(y_pred, label=\"Original Data\")\n",
    "# #plot!(missing_data, title=\"Data with missing points\");\n",
    "# Plots.plot(restored_data_laplace, label=\"Laplace interpolated data\");\n",
    "# Plots.plot!(restored_data_matern, label=\"Matern, m = 2, eps = 0.1\");\n",
    "# #Plots.plot(plot1, plot2, plot3, plot4, layout = (2, 2), legend = false)\n",
    "plot(discard, -5*ones(size(discard)), seriestype = :scatter, label = \"Missing Data\")\n",
    "plot!(Plot_Matrix, labels=[\"Original Data\" \"Laplace Interpolation\" \"Matern Interpolation\"], legend=:topleft, lw = 3)\n",
    "#png(\"1D_MaternInterpolation.png\")"
   ]
  },
  {
   "cell_type": "code",
   "execution_count": 8,
   "id": "afc63bff",
   "metadata": {},
   "outputs": [
    {
     "ename": "LoadError",
     "evalue": "\u001b[91mUndefVarError: restored_data_laplace not defined\u001b[39m",
     "output_type": "error",
     "traceback": [
      "\u001b[91mUndefVarError: restored_data_laplace not defined\u001b[39m",
      "",
      "Stacktrace:",
      " [1] top-level scope at In[8]:1",
      " [2] include_string(::Function, ::Module, ::String, ::String) at ./loading.jl:1091"
     ]
    }
   ],
   "source": [
    "error_laplace = abs.(restored_data_laplace - y_pred)./y_pred;\n",
    "error_matern = abs.(restored_data_matern - y_pred)./y_pred;\n",
    "Errors = [error_laplace, error_matern];"
   ]
  },
  {
   "cell_type": "code",
   "execution_count": 9,
   "id": "b46439ed",
   "metadata": {},
   "outputs": [
    {
     "ename": "LoadError",
     "evalue": "\u001b[91mUndefVarError: Errors not defined\u001b[39m",
     "output_type": "error",
     "traceback": [
      "\u001b[91mUndefVarError: Errors not defined\u001b[39m",
      "",
      "Stacktrace:",
      " [1] top-level scope at In[9]:1",
      " [2] include_string(::Function, ::Module, ::String, ::String) at ./loading.jl:1091"
     ]
    }
   ],
   "source": [
    "plot(Errors, labels=[\"Laplace Interpolation Error\" \"Matern Interpolation Error\"], legend=:topleft)\n",
    "#png(\"1D_InterpolationError.png\")"
   ]
  },
  {
   "cell_type": "code",
   "execution_count": 10,
   "id": "789e588c",
   "metadata": {},
   "outputs": [
    {
     "ename": "LoadError",
     "evalue": "\u001b[91mUndefVarError: error_matern not defined\u001b[39m",
     "output_type": "error",
     "traceback": [
      "\u001b[91mUndefVarError: error_matern not defined\u001b[39m",
      "",
      "Stacktrace:",
      " [1] top-level scope at In[10]:1",
      " [2] include_string(::Function, ::Module, ::String, ::String) at ./loading.jl:1091"
     ]
    }
   ],
   "source": [
    "print(error_matern)"
   ]
  },
  {
   "cell_type": "code",
   "execution_count": null,
   "id": "305bd047",
   "metadata": {},
   "outputs": [],
   "source": []
  }
 ],
 "metadata": {
  "@webio": {
   "lastCommId": null,
   "lastKernelId": null
  },
  "kernelspec": {
   "display_name": "Julia 1.5.4",
   "language": "julia",
   "name": "julia-1.5"
  },
  "language_info": {
   "file_extension": ".jl",
   "mimetype": "application/julia",
   "name": "julia",
   "version": "1.5.4"
  }
 },
 "nbformat": 4,
 "nbformat_minor": 5
}
