{
 "cells": [
  {
   "cell_type": "markdown",
   "metadata": {},
   "source": [
    "# Comparison of thin plate spline and its Laplacian approximation in 2D\n",
    "\n",
    "This notebook reproduces figures from the paper"
   ]
  },
  {
   "cell_type": "code",
   "execution_count": null,
   "metadata": {},
   "outputs": [],
   "source": [
    "using Laplacians, LinearAlgebra, SparseArrays, LaplaceInterpolation\n",
    "using TestImages, Colors, FileIO, JLD, BenchmarkTools\n",
    "using Plots, ThinPlateSplines"
   ]
  },
  {
   "cell_type": "markdown",
   "metadata": {},
   "source": [
    "## Mandrill 2D Example\n",
    "\n",
    "Here we load in the mandrill test image and discard roughly 75% of the data."
   ]
  },
  {
   "cell_type": "code",
   "execution_count": null,
   "metadata": {},
   "outputs": [],
   "source": [
    "# Example from TestImages package\n",
    "img = testimage(\"mandrill\")\n",
    "\n",
    "# Flatten the image to grayscale and select a subset of the image\n",
    "imgg = Gray.(img)\n",
    "rows, columns = (256, 512)\n",
    "N = rows*columns\n",
    "\n",
    "mat = convert(Array{Float64}, imgg)[1:rows,1:columns]\n",
    "\n",
    "println(\"There are $((rows - 2) * (columns - 2)) interior nodes, and $(2 * rows + 2 * columns - 2) boundary nodes.\")\n",
    "\n",
    "No_of_nodes_discarded = 100000\n",
    "\n",
    "println(\"We discard $(100.0 * No_of_nodes_discarded / N) percent of the data.\")\n",
    "\n",
    "discard = randperm(N)[1:No_of_nodes_discarded]\n",
    "\n",
    "holeyimage1 = copy(mat)\n",
    "holeyimage1[discard] .= 1\n",
    "\n",
    "p1 = heatmap(mat, title = \"Original Data\", yflip = true, \n",
    "              c = :bone, clims = (0.0, 1.0))\n",
    "p2 = heatmap(holeyimage1, title = \"Image with Missing data\", yflip = true, \n",
    "              c = :bone, clims = (0.0, 1.0))\n",
    "\n",
    "plot(p1, p2, layout = (1,2), size = (900, 250))"
   ]
  },
  {
   "cell_type": "markdown",
   "metadata": {},
   "source": [
    "# Reconstruction using Matern and Laplace interpolations"
   ]
  },
  {
   "cell_type": "code",
   "execution_count": null,
   "metadata": {},
   "outputs": [],
   "source": [
    "restored_img_laplace = Matern2D_Grid(mat, 0.0, 1, discard)\n",
    "restored_img_matern = Matern2D_Grid(mat, 0.0, 2, discard)"
   ]
  },
  {
   "cell_type": "markdown",
   "metadata": {},
   "source": [
    "# Reconstruction Errors"
   ]
  },
  {
   "cell_type": "code",
   "execution_count": null,
   "metadata": {},
   "outputs": [],
   "source": [
    "error_lap = abs.(restored_img_laplace .- mat)\n",
    "error_mat = abs.(restored_img_matern .- mat)\n",
    "\n",
    "rel_error_lap = abs.((restored_img_laplace .- mat) ./ mat)\n",
    "rel_error_mat = abs.((restored_img_matern .- mat) ./ mat)"
   ]
  },
  {
   "cell_type": "markdown",
   "metadata": {},
   "source": [
    "# Plotting and Saving"
   ]
  },
  {
   "cell_type": "code",
   "execution_count": null,
   "metadata": {},
   "outputs": [],
   "source": [
    "p3 = heatmap(restored_img_laplace, title = \"Laplace Interpolated Image\", yflip = true, \n",
    "              c = :bone, clims = (0.0, 1.0))\n",
    "p4 = heatmap(restored_img_matern, title = \"Matern, m = 2, eps = 0.0\", yflip = true, \n",
    "              c = :bone, clims = (0.0, 1.0))\n",
    "plot(p1, p2, p3, p4, layout = (2, 2), legend = false, size = (900, 520))\n",
    "\n",
    "# png(\"Mandrill_Random.png\")"
   ]
  },
  {
   "cell_type": "code",
   "execution_count": null,
   "metadata": {},
   "outputs": [],
   "source": [
    "plot1 = heatmap(error_lap, c = :binary, yflip = true, title = \"Laplace Error\", pointsize = 15)\n",
    "plot2 = heatmap(error_mat, c = :binary, yflip = true, title = \"Matern Error\", pointsize = 15)\n",
    "\n",
    "plot3 = heatmap(rel_error_lap, yflip = true, title = \"Laplace Rel. Error\", pointsize = 15,\n",
    "                c = :binary, clims = (0.0, 1.0))\n",
    "plot4 = heatmap(rel_error_mat, yflip = true, title = \"Matern Rel. Error\", pointsize = 15,\n",
    "                c = :binary, clims = (0.0, 1.0))\n",
    "\n",
    "plot(plot1, plot2, plot3, plot4, layout = (2, 2), legend = false, size = (900, 520))\n",
    "# png(\"Mandrill_Random_Errors.png\")"
   ]
  },
  {
   "cell_type": "markdown",
   "metadata": {},
   "source": [
    "# Remove islands of data"
   ]
  },
  {
   "cell_type": "code",
   "execution_count": null,
   "metadata": {},
   "outputs": [],
   "source": [
    "\n",
    "cent = [(100, 200), (200, 100)]\n",
    "rad = 20*ones(Int64, 3)\n",
    "\n",
    "discard2 = punch_holes_2D(cent, rad, rows, columns)"
   ]
  },
  {
   "cell_type": "code",
   "execution_count": null,
   "metadata": {},
   "outputs": [],
   "source": [
    "holeyimage = copy(mat)\n",
    "holeyimage[discard2] .= 1.0\n",
    "Plots.plot(Gray.(holeyimage))"
   ]
  },
  {
   "cell_type": "markdown",
   "metadata": {},
   "source": [
    "## Interpolate in small chunks around the punches\n",
    "\n",
    "The polyharmonic spline is so dense that it does not run. The only way it will run is if we break the problem down."
   ]
  },
  {
   "cell_type": "code",
   "execution_count": null,
   "metadata": {},
   "outputs": [],
   "source": [
    " # if you need\n",
    "# using PyPlot\n",
    "\n",
    "include(\"polyharmonic_splines.jl\") \n",
    "# contain all code from https://github.com/lstagner/PolyharmonicSplines.jl\n",
    "# and `interpolate()`definition from https://gist.github.com/lstagner/04a05b120e0be7de9915\n",
    "\n",
    "# x = floor.(keep/(size(mat,1)));\n",
    "# y = (keep.%(size(mat,1)));\n",
    "# z = holeyimage[S[keep]];\n",
    "# S2 = PolyharmonicSpline(2,[x y],z)\n",
    "\n",
    "# BenchmarkTools.DEFAULT_PARAMETERS.seconds = 1000;\n",
    "# BenchmarkTools.DEFAULT_PARAMETERS.samples = 50;\n",
    "\n",
    "function tps_interpolate(cent)\n",
    "    xarray = Float64[]\n",
    "    yarray = Float64[]\n",
    "    zarray = Float64[]\n",
    "    clen = length(cent)\n",
    "    for (i,c) in enumerate(cent)\n",
    "        for x in (c[1] .- rad[i]):(c[1] .- rad[i])\n",
    "            for y in (c[2] .- rad[i]):(c[2] .- rad[i])\n",
    "                if((x - c[1])^2 + (y - c[2])^2 > rad[i]^2)\n",
    "                    xarray = append!(xarray, x)\n",
    "                    yarray = append!(yarray, y)\n",
    "                    zarray = append!(zarray, mat[y,x])\n",
    "                end\n",
    "            end\n",
    "        end\n",
    "    end\n",
    "    #=\n",
    "for x in 380:420\n",
    "    for y in 180:220\n",
    "        if((x -400)^2 + (y-200)^2 > 20^2)\n",
    "            xarray = append!(xarray, x);\n",
    "            yarray = append!(yarray, y);\n",
    "            zarray = append!(zarray, mat[y,x]);\n",
    "        end\n",
    "    end\n",
    "end\n",
    "\n",
    "for x in 180:220\n",
    "    for y in 80:120\n",
    "        if((x -200)^2 + (y-100)^2 > 20^2)\n",
    "            xarray = append!(xarray, x);\n",
    "            yarray = append!(yarray, y);\n",
    "            zarray = append!(zarray, mat[y,x]);\n",
    "        end\n",
    "    end\n",
    "end\n",
    "    =#\n",
    "    S2 = PolyharmonicSpline(2, [xarray yarray], zarray)\n",
    "    holeyimage_copy = copy(holeyimage)\n",
    "    for (i,c) in enumerate(cent)\n",
    "        x = ones(2*rad[i] + 1)*((c[1]-rad[i]):(c[1]+rad[i]))'\n",
    "        xx = reshape(x,(2*rad[i] + 1)^2)\n",
    "        y = ((c[2]-rad[i]):(c[2]+rad[i]))*ones(2*rad[i] + 1)'\n",
    "        yy = reshape(y,(2*rad[i] + 1)^2)\n",
    "        zz = interpolate(S2,xx,yy)\n",
    "        zz_reshape = reshape(zz, (2*rad[i] + 1), (2*rad[i] + 1))\n",
    "        count = 1\n",
    "        for k in (c[1]-rad[i]):(c[1]+rad[i])\n",
    "            for j in (c[2] - rad[i]):(c[2] + rad[i])\n",
    "                holeyimage_copy[j,k] = zz[count]\n",
    "                count += 1\n",
    "            end\n",
    "        end\n",
    "    end\n",
    "    \n",
    "    #=\n",
    "x=ones(41)*(180:220)';\n",
    "xx = reshape(x,41*41);\n",
    "y = (80:120)*ones(41)';\n",
    "yy = reshape(y,41*41)\n",
    "zz = interpolate(S2,xx,yy)\n",
    "zz_reshape = reshape(zz, 41,41)\n",
    "#holeyimage_copy = copy(holeyimage)\n",
    "count =1;\n",
    "for i in 180:220\n",
    "    for j in 80:120\n",
    "        \n",
    "        holeyimage_copy[j,i] = zz[count]\n",
    "        count=count+1;\n",
    "        \n",
    "    end\n",
    "end\n",
    "\n",
    "x=ones(41)*(380:420)';\n",
    "xx = reshape(x,41*41);\n",
    "y = (180:220)*ones(41)';\n",
    "yy = reshape(y,41*41)\n",
    "zz = interpolate(S2,xx,yy)\n",
    "zz_reshape = reshape(zz, 41,41)\n",
    "# holeyimage_copy = copy(holeyimage)\n",
    "count =1;\n",
    "for i in 380:420\n",
    "    for j in 180:220\n",
    "        \n",
    "        holeyimage_copy[j,i] = zz[count]\n",
    "        count=count+1;\n",
    "        \n",
    "    end\n",
    "end\n",
    "    =#\n",
    "return holeyimage_copy\n",
    "end\n",
    "    \n",
    "\n",
    "#@btime tps_interpolate()\n",
    "holeyimage_copy = tps_interpolate(cent)\n"
   ]
  },
  {
   "cell_type": "code",
   "execution_count": null,
   "metadata": {},
   "outputs": [],
   "source": [
    "#@benchmark begin\n",
    "\n",
    "holeyimage_copy_m = copy(holeyimage)\n",
    "\n",
    "for i = 1:2 #:length(cent)\n",
    "    indx = (cent[i][1]-rad[i]):(cent[i][1]+rad[i])\n",
    "    indy = (cent[i][2]-rad[i]):(cent[i][2]+rad[i])\n",
    "    num = (2*rad[i] + 1)\n",
    "    holeyimage_copy_m[indx, indy] = Matern2D(num, num, \n",
    "                             mat[indx, indy], \n",
    "                             0, [(num, num)], 20.0)[1]\n",
    "end\n",
    "\n",
    "#end"
   ]
  },
  {
   "cell_type": "markdown",
   "metadata": {},
   "source": [
    "## Comparison of errors between Thin plate spline and Matern Interpolation"
   ]
  },
  {
   "cell_type": "code",
   "execution_count": null,
   "metadata": {},
   "outputs": [],
   "source": [
    "Error_TPS = abs.(mat - holeyimage)\n",
    "Error_Matern = abs.(mat - holeyimage_copy_m)\n",
    "\n",
    "plot1 = heatmap(Error_TPS, c= :binary, title = \"Error in TPS interpolation\");\n",
    "plot2 = heatmap(Error_Matern, c= :binary, title = \"Error in Matern interpolation\");\n",
    "\n",
    "plot(plot1, plot2, layout = (1, 2), legend = false, size = (900, 250))\n",
    "# png(\"Mandrill_Errors.png\")"
   ]
  },
  {
   "cell_type": "markdown",
   "metadata": {},
   "source": [
    "# An example where the polyharmonic spline is the solution"
   ]
  },
  {
   "cell_type": "code",
   "execution_count": null,
   "metadata": {},
   "outputs": [],
   "source": [
    "ENV[\"MPLBACKEND\"]=\"tkagg\" # if you need\n",
    "\n",
    "x,y = randn(500),randn(500)\n",
    "z = exp.(-(x.^2 .+ y.^2))\n",
    "S2 = PolyharmonicSpline(2,[x y],z)\n",
    "\n",
    "n=20\n",
    "xgrid = ones(n)*range(-3,stop=3,length=n)'\n",
    "ygrid = range(-3,stop=3,length=n)*ones(n)'\n",
    "\n",
    "xx = reshape(xgrid,n*n)\n",
    "yy = reshape(ygrid,n*n)\n",
    "\n",
    "zz = interpolate(S2,xx,yy)\n",
    "zgrid = reshape(zz,n,n);\n",
    "\n",
    "plot_surface(xgrid,ygrid,zgrid,alpha=0.5)\n",
    "scatter3D(x,y,z,color=\"r\")\n",
    "show()"
   ]
  },
  {
   "cell_type": "markdown",
   "metadata": {},
   "source": [
    "# Visualize the sparsity of the 2D Laplacian and Matern matrices\n",
    "\n",
    "Take the laplacian matrix and plot it as a heatmap\n",
    "Implement Dirichlet, Neumann, and Periodic BCs."
   ]
  },
  {
   "cell_type": "code",
   "execution_count": null,
   "metadata": {},
   "outputs": [],
   "source": [
    "using PyPlot\n",
    "\n",
    "L = 1:300\n",
    "K = 1:300\n",
    "xmax = 300\n",
    "ymax = 300\n",
    "length_array = length(L)*length(K)\n",
    "control_indices = 1:15:length_array\n",
    "number_of_control_points = length(control_indices)\n",
    "weights = ones(number_of_control_points)\n",
    "control_values = zeros(number_of_control_points)\n",
    "xcoordinate = zeros(number_of_control_points)\n",
    "ycoordinate = zeros(number_of_control_points)\n",
    "stdx = 50\n",
    "stdy = 50\n",
    "mux = 150\n",
    "muy = 150\n",
    "for i = 1:number_of_control_points\n",
    "    xcoor = mod(control_indices[i], xmax)\n",
    "    ycoor = floor(control_indices[i]/xmax) - 1\n",
    "    control_values[i] = exp(-((xcoor - mux)/stdx)^2 - ((ycoor - muy)/stdy)^2)\n",
    "    xcoordinate[i] = xcoor\n",
    "    ycoordinate[i] = ycoor\n",
    "end\n",
    "scatter3D(xcoordinate,ycoordinate,control_values,color=\"m\")\n"
   ]
  },
  {
   "cell_type": "code",
   "execution_count": null,
   "metadata": {},
   "outputs": [],
   "source": [
    "function evaluate_rbfkernel(r)\n",
    "    if(r <= 1e-13)\n",
    "        return 0\n",
    "    else\n",
    "        return r*r*log(r)*0.217147241\n",
    "    end\n",
    "end"
   ]
  },
  {
   "cell_type": "code",
   "execution_count": null,
   "metadata": {},
   "outputs": [],
   "source": [
    "# This cell runs slowly. \n",
    "fvalues = zeros(length_array)\n",
    "count =1\n",
    "\n",
    "for i = 1:ymax\n",
    "    for j = 1:xmax\n",
    "        xcoor = j-1\n",
    "        ycoor = i-1\n",
    "        for k = 1:number_of_control_points\n",
    "            r = sqrt((xcoordinate[k] - xcoor)^2 +  (ycoordinate[k] - ycoor)^2)\n",
    "            fvalues[count] = fvalues[count] + weights[k]*evaluate_rbfkernel(r/100)\n",
    "        end\n",
    "        count = count+1\n",
    "    end\n",
    "end\n",
    "        "
   ]
  },
  {
   "cell_type": "code",
   "execution_count": null,
   "metadata": {},
   "outputs": [],
   "source": [
    "n=300\n",
    "xgrid = ones(n)*range(1,stop=300,length=n)'\n",
    "ygrid = range(1,stop=300,length=n)*ones(n)'\n",
    "fvalues_mat = reshape(fvalues, xmax, ymax)\n",
    "plot_surface(xgrid,ygrid,fvalues_mat,alpha=0.5)"
   ]
  },
  {
   "cell_type": "code",
   "execution_count": null,
   "metadata": {},
   "outputs": [],
   "source": [
    "heatmap(fvalues_mat, c= :balance)"
   ]
  },
  {
   "cell_type": "code",
   "execution_count": null,
   "metadata": {},
   "outputs": [],
   "source": [
    "\n",
    "restored_img1, punched_img = Matern2D(300, 300, fvalues_mat[1:300,1:300], 0, [(100,100)], 50);"
   ]
  },
  {
   "cell_type": "code",
   "execution_count": null,
   "metadata": {},
   "outputs": [],
   "source": [
    "heatmap(restored_img1, c=:balance)"
   ]
  },
  {
   "cell_type": "code",
   "execution_count": null,
   "metadata": {},
   "outputs": [],
   "source": [
    "plot1 = heatmap(fvalues_mat, c= :balance, title=\"RBF Kernel Data\", pointsize=15);\n",
    "plot2 = heatmap(punched_img, c= :balance, title=\"Data with missing points\");\n",
    "plot3 = heatmap(restored_img1, c= :balance, title=\"Matern Interpolated Image\");\n",
    "plot4 = heatmap(abs.(restored_img1 - fvalues_mat), c= :balance, title=\"Error in Mat Interp\");\n",
    "Plots.plot(plot1, plot2, plot3, plot4, layout = (2, 2), legend = false)\n",
    "png(\"RBF_Errors_Matern.png\")"
   ]
  },
  {
   "cell_type": "markdown",
   "metadata": {},
   "source": [
    "# Verifying PolyharmonicSpline code"
   ]
  },
  {
   "cell_type": "code",
   "execution_count": null,
   "metadata": {},
   "outputs": [],
   "source": [
    "include(\"ThinPlateSplines.jl\")\n",
    "include(\"polyharmonic_splines.jl\") \n",
    "\n",
    "xarray = Float64[]\n",
    "yarray = Float64[]\n",
    "zarray = Float64[]\n",
    "for x in 1:xmax\n",
    "    for y in 1:ymax\n",
    "        if((x -100)^2 + (y-100)^2 > 50^2)\n",
    "            xarray = append!(xarray, x);\n",
    "            yarray = append!(yarray, y);\n",
    "            zarray = append!(zarray, fvalues_mat[y,x]);\n",
    "        end\n",
    "    end\n",
    "end\n",
    "\n",
    "S2 = PolyharmonicSpline(2,[xarray yarray],zarray);\n",
    "\n",
    "zz = interpolate(S2,xgrid,ygrid)\n",
    "zz_reshape = reshape(zz, xmax,ymax)"
   ]
  },
  {
   "cell_type": "markdown",
   "metadata": {},
   "source": [
    "# 3D Example"
   ]
  },
  {
   "cell_type": "code",
   "execution_count": null,
   "metadata": {},
   "outputs": [],
   "source": [
    "function evaluate_rbfkernel3D(r)\n",
    "    return r\n",
    "end"
   ]
  },
  {
   "cell_type": "code",
   "execution_count": null,
   "metadata": {},
   "outputs": [],
   "source": [
    "using PyPlot\n",
    "L = 1:50\n",
    "K = 1:50\n",
    "H = 1:50\n",
    "length_array = length(L)*length(K)*length(H)\n",
    "control_indices = 1:15:length_array\n",
    "number_of_control_points = length(control_indices)\n",
    "weights = ones(number_of_control_points)\n",
    "control_values = zeros(number_of_control_points)\n",
    "xcoordinate = zeros(number_of_control_points)\n",
    "ycoordinate = zeros(number_of_control_points)\n",
    "zcoordinate = zeros(number_of_control_points)\n",
    "\n",
    "stdx = 8\n",
    "stdy = 8\n",
    "mux = 25\n",
    "muy = 25\n",
    "for i = 1:number_of_control_points\n",
    "    xcoor = mod(control_indices[i], xmax)\n",
    "    ycoor = floor(control_indices[i]/xmax) - 1\n",
    "    control_values[i] = exp(-((xcoor - mux)/stdx)^2 - ((ycoor - muy)/stdy)^2)\n",
    "    xcoordinate[i] = xcoor\n",
    "    ycoordinate[i] = ycoor\n",
    "end\n",
    "scatter3D(xcoordinate,ycoordinate,control_values,color=\"m\")"
   ]
  },
  {
   "cell_type": "code",
   "execution_count": null,
   "metadata": {},
   "outputs": [],
   "source": []
  }
 ],
 "metadata": {
  "@webio": {
   "lastCommId": null,
   "lastKernelId": null
  },
  "kernelspec": {
   "display_name": "Julia 1.5.3",
   "language": "julia",
   "name": "julia-1.5"
  },
  "language_info": {
   "file_extension": ".jl",
   "mimetype": "application/julia",
   "name": "julia",
   "version": "1.5.3"
  }
 },
 "nbformat": 4,
 "nbformat_minor": 2
}
