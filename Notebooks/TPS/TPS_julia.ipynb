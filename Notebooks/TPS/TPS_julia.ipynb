{
 "cells": [
  {
   "cell_type": "markdown",
   "metadata": {},
   "source": [
    "# Comparison of thin plate spline and its Laplacian approximation in 2D\n",
    "\n",
    "This notebook reproduces figures from the paper"
   ]
  },
  {
   "cell_type": "code",
   "execution_count": 1,
   "metadata": {},
   "outputs": [
    {
     "name": "stderr",
     "output_type": "stream",
     "text": [
      "┌ Info: Precompiling LaplaceInterpolation [afb1b68e-e51f-4e49-a799-0e085170423d]\n",
      "└ @ Base loading.jl:1278\n",
      "ERROR: LoadError: LoadError: syntax: incomplete: unterminated multi-line comment #= ... =#\n",
      "Stacktrace:\n",
      " [1] top-level scope at /Users/charlottehaley/.julia/packages/LaplaceInterpolation/178Ul/src/Matern1D2D.jl:319\n",
      " [2] include(::Function, ::Module, ::String) at ./Base.jl:380\n",
      " [3] include at ./Base.jl:368 [inlined]\n",
      " [4] include(::String) at /Users/charlottehaley/.julia/packages/LaplaceInterpolation/178Ul/src/LaplaceInterpolation.jl:1\n",
      " [5] top-level scope at /Users/charlottehaley/.julia/packages/LaplaceInterpolation/178Ul/src/LaplaceInterpolation.jl:5\n",
      " [6] include(::Function, ::Module, ::String) at ./Base.jl:380\n",
      " [7] include(::Module, ::String) at ./Base.jl:368\n",
      " [8] top-level scope at none:2\n",
      " [9] eval at ./boot.jl:347 [inlined]\n",
      " [10] eval(::Expr) at ./client.jl:467\n",
      " [11] top-level scope at ./none:3\n",
      "in expression starting at /Users/charlottehaley/.julia/packages/LaplaceInterpolation/178Ul/src/Matern1D2D.jl:319\n",
      "in expression starting at /Users/charlottehaley/.julia/packages/LaplaceInterpolation/178Ul/src/LaplaceInterpolation.jl:5\n"
     ]
    },
    {
     "ename": "LoadError",
     "evalue": "\u001b[91mFailed to precompile LaplaceInterpolation [afb1b68e-e51f-4e49-a799-0e085170423d] to /Users/charlottehaley/.julia/compiled/v1.5/LaplaceInterpolation/0zvkA_CtSfZ.ji.\u001b[39m",
     "output_type": "error",
     "traceback": [
      "\u001b[91mFailed to precompile LaplaceInterpolation [afb1b68e-e51f-4e49-a799-0e085170423d] to /Users/charlottehaley/.julia/compiled/v1.5/LaplaceInterpolation/0zvkA_CtSfZ.ji.\u001b[39m",
      "",
      "Stacktrace:",
      " [1] error(::String) at ./error.jl:33",
      " [2] compilecache(::Base.PkgId, ::String) at ./loading.jl:1305",
      " [3] _require(::Base.PkgId) at ./loading.jl:1030",
      " [4] require(::Base.PkgId) at ./loading.jl:928",
      " [5] require(::Module, ::Symbol) at ./loading.jl:923",
      " [6] include_string(::Function, ::Module, ::String, ::String) at ./loading.jl:1091"
     ]
    }
   ],
   "source": [
    "using Laplacians, LinearAlgebra, SparseArrays, LaplaceInterpolation\n",
    "using TestImages, Colors, FileIO, JLD, BenchmarkTools\n",
    "using Plots, ThinPlateSplines"
   ]
  },
  {
   "cell_type": "code",
   "execution_count": 2,
   "metadata": {},
   "outputs": [],
   "source": [
    "# include(\"ThinPlateSplines.jl\")"
   ]
  },
  {
   "cell_type": "markdown",
   "metadata": {},
   "source": [
    "## Mandrill 2D Example\n",
    "\n",
    "Here we load in the mandrill test image and discard roughly 75% of the data."
   ]
  },
  {
   "cell_type": "code",
   "execution_count": 3,
   "metadata": {},
   "outputs": [
    {
     "ename": "LoadError",
     "evalue": "\u001b[91mUndefVarError: testimage not defined\u001b[39m",
     "output_type": "error",
     "traceback": [
      "\u001b[91mUndefVarError: testimage not defined\u001b[39m",
      "",
      "Stacktrace:",
      " [1] top-level scope at In[3]:2",
      " [2] include_string(::Function, ::Module, ::String, ::String) at ./loading.jl:1091"
     ]
    }
   ],
   "source": [
    "# Example from TestImages package\n",
    "img = testimage(\"mandrill\")\n",
    "\n",
    "# Flatten the image to grayscale and select a subset of the image\n",
    "imgg = Gray.(img)\n",
    "rows, columns = (256, 512)\n",
    "N = rows*columns\n",
    "\n",
    "mat = convert(Array{Float64}, imgg)[1:rows,1:columns]\n",
    "\n",
    "println(\"There are $((rows - 2) * (columns - 2)) interior nodes, and $(2 * rows + 2 * columns - 2) boundary nodes.\")\n",
    "\n",
    "No_of_nodes_discarded = 100000\n",
    "\n",
    "println(\"We discard $(100.0 * No_of_nodes_discarded / N) percent of the data.\")\n",
    "\n",
    "discard = randperm(N)[1:No_of_nodes_discarded]\n",
    "\n",
    "holeyimage1 = copy(mat)\n",
    "holeyimage1[discard] .= 1\n",
    "\n",
    "p1 = heatmap(mat, title = \"Mandrill Image\", yflip = true, \n",
    "              c = :bone, clims = (0.0, 1.0))\n",
    "p2 = heatmap(holeyimage1, title = \"Image with Missing data\", yflip = true, \n",
    "              c = :bone, clims = (0.0, 1.0))\n",
    "\n",
    "plot(p1, p2, layout = (1,2), size = (900, 250))"
   ]
  },
  {
   "cell_type": "markdown",
   "metadata": {},
   "source": [
    "# Reconstruction using Matern and Laplace interpolations"
   ]
  },
  {
   "cell_type": "code",
   "execution_count": 14,
   "metadata": {},
   "outputs": [
    {
     "data": {
      "text/plain": [
       "256×512 Array{Float64,2}:\n",
       " 0.189866  0.163547  0.166765  0.252671  …  0.560931  0.6       0.591903\n",
       " 0.230382  0.180862  0.156863  0.262745     0.471971  0.481151  0.489278\n",
       " 0.301961  0.22623   0.180392  0.271349     0.356836  0.345098  0.37174\n",
       " 0.326131  0.264284  0.224248  0.25367      0.286275  0.294614  0.324508\n",
       " 0.341176  0.28329   0.257763  0.232176     0.231373  0.285602  0.337255\n",
       " 0.321569  0.270268  0.329329  0.239216  …  0.265903  0.337257  0.385215\n",
       " 0.170174  0.2       0.52549   0.484544     0.443664  0.462619  0.483056\n",
       " 0.129412  0.253864  0.517309  0.6          0.598575  0.571216  0.573223\n",
       " 0.148861  0.263369  0.437871  0.506317     0.571388  0.571201  0.594433\n",
       " 0.148231  0.238962  0.356657  0.403381     0.435195  0.470176  0.533333\n",
       " 0.129412  0.210689  0.306399  0.340034  …  0.254902  0.306972  0.367327\n",
       " 0.129412  0.201773  0.303172  0.328156     0.204856  0.219396  0.251642\n",
       " 0.112804  0.190819  0.343324  0.354879     0.201474  0.201683  0.22225\n",
       " ⋮                                       ⋱            ⋮         \n",
       " 0.454902  0.452858  0.473868  0.537255     0.254748  0.226266  0.201586\n",
       " 0.438456  0.44664   0.466043  0.486877  …  0.286275  0.242378  0.22191\n",
       " 0.420067  0.422055  0.425952  0.427271     0.364706  0.270588  0.255912\n",
       " 0.408759  0.401601  0.390777  0.382738     0.27451   0.274991  0.294118\n",
       " 0.419536  0.404714  0.3837    0.372549     0.310602  0.309131  0.318311\n",
       " 0.460948  0.44177   0.420428  0.427376     0.368627  0.349083  0.343883\n",
       " 0.526298  0.502623  0.477358  0.47451   …  0.386463  0.364483  0.357535\n",
       " 0.592157  0.570579  0.563093  0.584314     0.376471  0.362366  0.362083\n",
       " 0.599819  0.59682   0.603513  0.617462     0.376686  0.360784  0.369083\n",
       " 0.580412  0.593747  0.614659  0.62507      0.367263  0.356863  0.380392\n",
       " 0.556863  0.584314  0.621357  0.630681     0.364706  0.365754  0.37866\n",
       " 0.562289  0.595535  0.639216  0.640328  …  0.359194  0.367832  0.376894"
      ]
     },
     "execution_count": 14,
     "metadata": {},
     "output_type": "execute_result"
    }
   ],
   "source": [
    "#=\n",
    "function Matern2D_Grid(mat, epsilon, m)\n",
    "    rows, columns = size(mat)\n",
    "    A2D = ∇²2d_Grid(rows, columns, 1, 1)\n",
    "    C = sparse(I, rows * columns, rows * columns)\n",
    "    for i in discard\n",
    "        C[i,i] = 0\n",
    "    end\n",
    "    Id = sparse(I, rows * columns, rows * columns)\n",
    "    f = mat[:]\n",
    "    if (m == 1)||(m == 1.0)\n",
    "        # Laplace interpolation\n",
    "        u = ((C - (Id - C) * A2D)) \\ (C*f)\n",
    "        return reshape(u, rows, columns)\n",
    "    else\n",
    "        sizeA = size(A2D, 1)\n",
    "        for i = 1:sizeA\n",
    "            A2D[i,i] = A2D[i,i] + epsilon^2\n",
    "        end\n",
    "        A2D = A2D^m\n",
    "        u = ((C - (Id - C) * A2D)) \\ (C * f)\n",
    "        restored_img_matern = reshape(u, rows, columns)   \n",
    "        return restored_img_matern\n",
    "    end\n",
    "end\n",
    "=#\n",
    "\n",
    "restored_img_laplace = Matern2D_Grid(mat, 0.0, 1)\n",
    "restored_img_matern = Matern2D_Grid(mat, 0.0, 2)\n",
    "\n",
    "#=\n",
    "A2D = ∇²2d_Grid(rows, columns, 1, 1)\n",
    "C = sparse(I, rows*columns, rows*columns)\n",
    "for i in discard\n",
    "    C[i,i] = 0;\n",
    "end\n",
    "Id = sparse(I, rows*columns,rows*columns);\n",
    "f = mat[:];\n",
    "u =((C-(Id -C)*A2D)) \\ (C*f);\n",
    "restored_img_laplace = reshape(u, size(mat,1), size(mat,2));\n",
    "A = ∇²2d_Grid(rows, columns, 1, 1);\n",
    "epsilon = 0.0\n",
    "sizeA = size(A,1);\n",
    "for i = 1:sizeA\n",
    "    A[i,i] = A[i,i] + epsilon^2\n",
    "end\n",
    "A2DM = A*A;\n",
    "u =((C-(Id -C)*A2DM)) \\ (C*f);\n",
    "restored_img_matern = reshape(u, size(mat,1), size(mat,2));\n",
    "=#\n"
   ]
  },
  {
   "cell_type": "markdown",
   "metadata": {},
   "source": [
    "# Reconstruction Errors"
   ]
  },
  {
   "cell_type": "code",
   "execution_count": 11,
   "metadata": {},
   "outputs": [],
   "source": [
    "error_laplace = abs.(restored_img_laplace - mat);\n",
    "error_matern = abs.(restored_img_matern - mat);"
   ]
  },
  {
   "cell_type": "markdown",
   "metadata": {},
   "source": [
    "# Plotting and Saving"
   ]
  },
  {
   "cell_type": "code",
   "execution_count": 12,
   "metadata": {},
   "outputs": [],
   "source": [
    "plot1 = Plots.plot(Gray.(mat), title=\"Original Data\", pointsize=15);\n",
    "plot2 = Plots.plot(Gray.(holeyimage1), title=\"Data with missing points\");\n",
    "plot3 = Plots.plot(Gray.(restored_img_laplace), title=\"Laplace Interpolated Image\");\n",
    "plot4 = Plots.plot(Gray.(restored_img_matern), title=\"Matern, m = 2, eps = 0.0\");\n",
    "Plots.plot(plot1, plot2, plot3, plot4, layout = (2, 2), legend = false)\n",
    "png(\"Mandrill_Random.png\")"
   ]
  },
  {
   "cell_type": "code",
   "execution_count": null,
   "metadata": {},
   "outputs": [],
   "source": [
    "plot1 = heatmap(error_laplace, c= :balance, title=\"Laplace Error\", pointsize=15);\n",
    "plot2 = heatmap(error_matern, c= :balance, title=\"Matern Error\", pointsize=15);\n",
    "Plots.plot(plot1, plot2, layout = (1, 2), legend = false)\n",
    "png(\"Mandrill_Random_Errors.png\")"
   ]
  },
  {
   "cell_type": "code",
   "execution_count": null,
   "metadata": {},
   "outputs": [],
   "source": [
    "cent = [(100, 200), (200, 100), (400, 200)]\n",
    "c = cent[1]\n",
    "rad = 20\n",
    "\n",
    "L = 1:size(mat,1)\n",
    "K = 1:size(mat,2)\n",
    "\n",
    "mask = ones(size(mat))\n",
    "mask = broadcast(+, (L .- c[1]).^2, (K .- c[2])'.^2) .> rad^2\n",
    "\n",
    "keep = collect(1:prod(size(mat)))\n",
    "\n",
    "fun(c, k) = filter(x -> (floor(x/size(mat,1)) .- c[1]).^2 + (x%size(mat,1) .- c[2])'.^2 > rad^2, k)\n",
    "\n",
    "keep = fun(cent[1], keep)\n",
    "keep = fun(cent[2], keep)\n",
    "keep = fun(cent[3], keep)\n",
    "\n",
    "prod(size(mask)) - sum(mask[keep]), 2*20^2*pi;"
   ]
  },
  {
   "cell_type": "code",
   "execution_count": null,
   "metadata": {},
   "outputs": [],
   "source": [
    "S = [i*size(mat,2)+j for i in 0:(size(mat,1)-1) for j in 1:size(mat,2)]\n",
    "vals = mat[:]\n",
    "holeyimage = ones(size(mat,1),size(mat,2))\n",
    "holeyimage[S[keep]] = vals[keep]\n",
    "Plots.plot(Gray.(holeyimage))"
   ]
  },
  {
   "cell_type": "code",
   "execution_count": null,
   "metadata": {},
   "outputs": [],
   "source": [
    " # if you need\n",
    "using PyPlot\n",
    "\n",
    "include(\"polyharmonic_splines.jl\") \n",
    "# contain all code from https://github.com/lstagner/OrbitTomography.jl/blob/master/src/polyharmonic.jl\n",
    "# and `interpolate()`definition from https://gist.github.com/lstagner/04a05b120e0be7de9915\n",
    "\n",
    "# x = floor.(keep/(size(mat,1)));\n",
    "# y = (keep.%(size(mat,1)));\n",
    "# z = holeyimage[S[keep]];\n",
    "# S2 = PolyharmonicSpline(2,[x y],z)\n",
    "\n",
    "# BenchmarkTools.DEFAULT_PARAMETERS.seconds = 1000;\n",
    "# BenchmarkTools.DEFAULT_PARAMETERS.samples = 50;\n",
    "\n",
    "function tps_interpolate()\n",
    "xarray = Float64[]\n",
    "yarray = Float64[]\n",
    "zarray = Float64[]\n",
    "for x in 80:120\n",
    "    for y in 180:220\n",
    "        if((x -100)^2 + (y-200)^2 > 20^2)\n",
    "            xarray = append!(xarray, x);\n",
    "            yarray = append!(yarray, y);\n",
    "            zarray = append!(zarray, mat[y,x]);\n",
    "        end\n",
    "    end\n",
    "end\n",
    "\n",
    "for x in 380:420\n",
    "    for y in 180:220\n",
    "        if((x -400)^2 + (y-200)^2 > 20^2)\n",
    "            xarray = append!(xarray, x);\n",
    "            yarray = append!(yarray, y);\n",
    "            zarray = append!(zarray, mat[y,x]);\n",
    "        end\n",
    "    end\n",
    "end\n",
    "\n",
    "for x in 180:220\n",
    "    for y in 80:120\n",
    "        if((x -200)^2 + (y-100)^2 > 20^2)\n",
    "            xarray = append!(xarray, x);\n",
    "            yarray = append!(yarray, y);\n",
    "            zarray = append!(zarray, mat[y,x]);\n",
    "        end\n",
    "    end\n",
    "end\n",
    "S2 = PolyharmonicSpline(2,[xarray yarray],zarray);\n",
    "\n",
    "x=ones(41)*(80:120)';\n",
    "xx = reshape(x,41*41);\n",
    "y = (180:220)*ones(41)';\n",
    "yy = reshape(y,41*41)\n",
    "zz = interpolate(S2,xx,yy)\n",
    "zz_reshape = reshape(zz, 41,41)\n",
    "holeyimage_copy = copy(holeyimage)\n",
    "count =1;\n",
    "for i in 80:120\n",
    "    for j in 180:220\n",
    "        \n",
    "        holeyimage_copy[j,i] = zz[count]\n",
    "        count=count+1;\n",
    "        \n",
    "    end\n",
    "end\n",
    "\n",
    "x=ones(41)*(180:220)';\n",
    "xx = reshape(x,41*41);\n",
    "y = (80:120)*ones(41)';\n",
    "yy = reshape(y,41*41)\n",
    "zz = interpolate(S2,xx,yy)\n",
    "zz_reshape = reshape(zz, 41,41)\n",
    "# holeyimage_copy = copy(holeyimage)\n",
    "count =1;\n",
    "for i in 180:220\n",
    "    for j in 80:120\n",
    "        \n",
    "        holeyimage_copy[j,i] = zz[count]\n",
    "        count=count+1;\n",
    "        \n",
    "    end\n",
    "end\n",
    "\n",
    "x=ones(41)*(380:420)';\n",
    "xx = reshape(x,41*41);\n",
    "y = (180:220)*ones(41)';\n",
    "yy = reshape(y,41*41)\n",
    "zz = interpolate(S2,xx,yy)\n",
    "zz_reshape = reshape(zz, 41,41)\n",
    "# holeyimage_copy = copy(holeyimage)\n",
    "count =1;\n",
    "for i in 380:420\n",
    "    for j in 180:220\n",
    "        \n",
    "        holeyimage_copy[j,i] = zz[count]\n",
    "        count=count+1;\n",
    "        \n",
    "    end\n",
    "end\n",
    "return holeyimage_copy\n",
    "end\n",
    "    \n",
    "\n",
    "#@btime tps_interpolate()\n",
    "holeyimage_copy = tps_interpolate()\n",
    "\n",
    "\n",
    "\n",
    "\n",
    "# xgrid = ones(K)*1:size(mat,1)'\n",
    "# ygrid = 1:size(mat,2)*ones(L)'\n",
    "\n",
    "# xx = reshape(xgrid,L*K)\n",
    "# yy = reshape(ygrid,L*K)\n",
    "\n",
    "# zz = interpolate(S2,xx,yy)\n",
    "# zgrid = reshape(zz,n,n);\n",
    "\n",
    "# plot_surface(xgrid,ygrid,zgrid,alpha=0.5)\n",
    "# scatter3D(x,y,z,color=\"r\")\n",
    "# show()\n",
    "\n",
    "\n"
   ]
  },
  {
   "cell_type": "code",
   "execution_count": null,
   "metadata": {},
   "outputs": [],
   "source": [
    "#@benchmark begin\n",
    "include(\"../Matern1D2D.jl\")\n",
    "holeyimage_copy_m = copy(holeyimage);\n",
    "restored_img1, punched_img = Matern2D(41, 41, mat[80:120,180:220], 0, [(21,21)], 20.0);\n",
    "count =1;\n",
    "\n",
    "holeyimage_copy_m[80:120,180:220] = restored_img1;\n",
    "\n",
    "\n",
    "restored_img, punched_img = Matern2D(41, 41, mat[180:220,80:120], 0, [(21,21)], 20);\n",
    "holeyimage_copy_m[180:220,80:120] = restored_img;\n",
    "\n",
    "\n",
    "restored_img, punched_img = Matern2D(41, 41, mat[180:220,380:420], 0, [(21,21)], 20);\n",
    "holeyimage_copy_m[180:220,380:420] = restored_img;\n",
    "\n",
    "#end"
   ]
  },
  {
   "cell_type": "markdown",
   "metadata": {},
   "source": [
    "## Comparison of errors between TPS and Matern Interpolation"
   ]
  },
  {
   "cell_type": "code",
   "execution_count": null,
   "metadata": {},
   "outputs": [],
   "source": [
    "Error_TPS = abs.(mat - holeyimage_copy)\n",
    "Error_Matern = abs.(mat - holeyimage_copy_m)\n",
    "plot1 = heatmap(Error_TPS, c= :balance, title=\"Error in TPS interpolation\");\n",
    "plot2 = heatmap(Error_Matern, c= :balance, title=\"Error in Matern interpolation\");\n",
    "Plots.plot(plot1, plot2, layout = (1, 2), legend = false)\n",
    "png(\"Mandrill_Errors.png\")"
   ]
  },
  {
   "cell_type": "code",
   "execution_count": null,
   "metadata": {},
   "outputs": [],
   "source": [
    "ENV[\"MPLBACKEND\"]=\"tkagg\" # if you need\n",
    "\n",
    "x,y = randn(500),randn(500)\n",
    "z = exp.(-(x.^2 .+ y.^2))\n",
    "S2 = PolyharmonicSpline(2,[x y],z)\n",
    "\n",
    "n=20\n",
    "xgrid = ones(n)*range(-3,stop=3,length=n)'\n",
    "ygrid = range(-3,stop=3,length=n)*ones(n)'\n",
    "\n",
    "xx = reshape(xgrid,n*n)\n",
    "yy = reshape(ygrid,n*n)\n",
    "\n",
    "zz = interpolate(S2,xx,yy)\n",
    "zgrid = reshape(zz,n,n);\n",
    "\n",
    "plot_surface(xgrid,ygrid,zgrid,alpha=0.5)\n",
    "scatter3D(x,y,z,color=\"r\")\n",
    "show()"
   ]
  },
  {
   "cell_type": "markdown",
   "metadata": {},
   "source": [
    "Take the laplacian matrix and plot it as a heatmap\n",
    "Implement Dirichlet, Neumann, and Periodic BCs."
   ]
  },
  {
   "cell_type": "code",
   "execution_count": null,
   "metadata": {},
   "outputs": [],
   "source": [
    "\n",
    "L = 1:300\n",
    "K = 1:300\n",
    "xmax = 300\n",
    "ymax = 300\n",
    "length_array = length(L)*length(K)\n",
    "control_indices = 1:15:length_array\n",
    "number_of_control_points = length(control_indices)\n",
    "weights = ones(number_of_control_points)\n",
    "control_values = zeros(number_of_control_points)\n",
    "xcoordinate = zeros(number_of_control_points)\n",
    "ycoordinate = zeros(number_of_control_points)\n",
    "stdx = 50\n",
    "stdy = 50\n",
    "mux = 150\n",
    "muy = 150\n",
    "for i = 1:number_of_control_points\n",
    "    xcoor = mod(control_indices[i], xmax)\n",
    "    ycoor = floor(control_indices[i]/xmax) - 1\n",
    "    control_values[i] = exp(-((xcoor - mux)/stdx)^2 - ((ycoor - muy)/stdy)^2)\n",
    "    xcoordinate[i] = xcoor\n",
    "    ycoordinate[i] = ycoor\n",
    "end\n",
    "scatter3D(xcoordinate,ycoordinate,control_values,color=\"m\")\n"
   ]
  },
  {
   "cell_type": "code",
   "execution_count": null,
   "metadata": {},
   "outputs": [],
   "source": [
    "function evaluate_rbfkernel(r)\n",
    "    if(r <= 1e-13)\n",
    "        return 0\n",
    "    else\n",
    "        return r*r*log(r)*0.217147241\n",
    "    end\n",
    "end"
   ]
  },
  {
   "cell_type": "code",
   "execution_count": null,
   "metadata": {},
   "outputs": [],
   "source": [
    "fvalues = zeros(length_array)\n",
    "count =1\n",
    "\n",
    "for i = 1:ymax\n",
    "    for j = 1:xmax\n",
    "        xcoor = j-1\n",
    "        ycoor = i-1\n",
    "        for k = 1:number_of_control_points\n",
    "            r = sqrt((xcoordinate[k] - xcoor)^2 +  (ycoordinate[k] - ycoor)^2)\n",
    "            fvalues[count] = fvalues[count] + weights[k]*evaluate_rbfkernel(r/100)\n",
    "        end\n",
    "        count = count+1\n",
    "    end\n",
    "end\n",
    "        "
   ]
  },
  {
   "cell_type": "code",
   "execution_count": null,
   "metadata": {},
   "outputs": [],
   "source": [
    "n=300\n",
    "xgrid = ones(n)*range(1,stop=300,length=n)'\n",
    "ygrid = range(1,stop=300,length=n)*ones(n)'\n",
    "fvalues_mat = reshape(fvalues, xmax, ymax)\n",
    "plot_surface(xgrid,ygrid,fvalues_mat,alpha=0.5)"
   ]
  },
  {
   "cell_type": "code",
   "execution_count": null,
   "metadata": {},
   "outputs": [],
   "source": [
    "heatmap(fvalues_mat, c= :balance)"
   ]
  },
  {
   "cell_type": "code",
   "execution_count": null,
   "metadata": {},
   "outputs": [],
   "source": [
    "include(\"../Matern1D2D.jl\")\n",
    "restored_img1, punched_img = Matern2D(300, 300, fvalues_mat[1:300,1:300], 0, [(100,100)], 50);"
   ]
  },
  {
   "cell_type": "code",
   "execution_count": null,
   "metadata": {},
   "outputs": [],
   "source": [
    "heatmap(restored_img1, c=:balance)"
   ]
  },
  {
   "cell_type": "code",
   "execution_count": null,
   "metadata": {},
   "outputs": [],
   "source": [
    "plot1 = heatmap(fvalues_mat, c= :balance, title=\"RBF Kernel Data\", pointsize=15);\n",
    "plot2 = heatmap(punched_img, c= :balance, title=\"Data with missing points\");\n",
    "plot3 = heatmap(restored_img1, c= :balance, title=\"Matern Interpolated Image\");\n",
    "plot4 = heatmap(abs.(restored_img1 - fvalues_mat), c= :balance, title=\"Error in Mat Interp\");\n",
    "Plots.plot(plot1, plot2, plot3, plot4, layout = (2, 2), legend = false)\n",
    "png(\"RBF_Errors_Matern.png\")"
   ]
  },
  {
   "cell_type": "markdown",
   "metadata": {},
   "source": [
    "# Verifying PolyharmonicSpline code"
   ]
  },
  {
   "cell_type": "code",
   "execution_count": null,
   "metadata": {},
   "outputs": [],
   "source": [
    "include(\"ThinPlateSplines.jl\")\n",
    "include(\"polyharmonic_splines.jl\") \n",
    "\n",
    "xarray = Float64[]\n",
    "yarray = Float64[]\n",
    "zarray = Float64[]\n",
    "for x in 1:xmax\n",
    "    for y in 1:ymax\n",
    "        if((x -100)^2 + (y-100)^2 > 50^2)\n",
    "            xarray = append!(xarray, x);\n",
    "            yarray = append!(yarray, y);\n",
    "            zarray = append!(zarray, fvalues_mat[y,x]);\n",
    "        end\n",
    "    end\n",
    "end\n",
    "\n",
    "S2 = PolyharmonicSpline(2,[xarray yarray],zarray);\n",
    "\n",
    "zz = interpolate(S2,xgrid,ygrid)\n",
    "zz_reshape = reshape(zz, xmax,ymax)"
   ]
  },
  {
   "cell_type": "markdown",
   "metadata": {},
   "source": [
    "# 3D Example"
   ]
  },
  {
   "cell_type": "code",
   "execution_count": null,
   "metadata": {},
   "outputs": [],
   "source": [
    "function evaluate_rbfkernel3D(r)\n",
    "    return r\n",
    "end"
   ]
  },
  {
   "cell_type": "code",
   "execution_count": null,
   "metadata": {},
   "outputs": [],
   "source": [
    "using PyPlot\n",
    "L = 1:50\n",
    "K = 1:50\n",
    "H = 1:50\n",
    "length_array = length(L)*length(K)*length(H)\n",
    "control_indices = 1:15:length_array\n",
    "number_of_control_points = length(control_indices)\n",
    "weights = ones(number_of_control_points)\n",
    "control_values = zeros(number_of_control_points)\n",
    "xcoordinate = zeros(number_of_control_points)\n",
    "ycoordinate = zeros(number_of_control_points)\n",
    "zcoordinate = zeros(number_of_control_points)\n",
    "\n",
    "stdx = 8\n",
    "stdy = 8\n",
    "mux = 25\n",
    "muy = 25\n",
    "for i = 1:number_of_control_points\n",
    "    xcoor = mod(control_indices[i], xmax)\n",
    "    ycoor = floor(control_indices[i]/xmax) - 1\n",
    "    control_values[i] = exp(-((xcoor - mux)/stdx)^2 - ((ycoor - muy)/stdy)^2)\n",
    "    xcoordinate[i] = xcoor\n",
    "    ycoordinate[i] = ycoor\n",
    "end\n",
    "scatter3D(xcoordinate,ycoordinate,control_values,color=\"m\")"
   ]
  }
 ],
 "metadata": {
  "@webio": {
   "lastCommId": null,
   "lastKernelId": null
  },
  "kernelspec": {
   "display_name": "Julia 1.5.4",
   "language": "julia",
   "name": "julia-1.5"
  },
  "language_info": {
   "file_extension": ".jl",
   "mimetype": "application/julia",
   "name": "julia",
   "version": "1.5.4"
  }
 },
 "nbformat": 4,
 "nbformat_minor": 2
}
