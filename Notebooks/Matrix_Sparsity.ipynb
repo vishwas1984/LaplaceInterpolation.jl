{
 "cells": [
  {
   "cell_type": "code",
   "execution_count": 2,
   "metadata": {},
   "outputs": [],
   "source": [
    "using LinearAlgebra, SparseArrays, LaplaceInterpolation\n",
    "using Plots"
   ]
  },
  {
   "cell_type": "code",
   "execution_count": 3,
   "metadata": {},
   "outputs": [
    {
     "ename": "LoadError",
     "evalue": "\u001b[91mMethodError: no method matching ∇²1d_Grid(::Int64)\u001b[39m\n\u001b[91m\u001b[0mClosest candidates are:\u001b[39m\n\u001b[91m\u001b[0m  ∇²1d_Grid(::Any, \u001b[91m::Any\u001b[39m) at /Users/charlottehaley/.julia/packages/LaplaceInterpolation/bmqYD/src/Matern1D2D.jl:47\u001b[39m",
     "output_type": "error",
     "traceback": [
      "\u001b[91mMethodError: no method matching ∇²1d_Grid(::Int64)\u001b[39m\n\u001b[91m\u001b[0mClosest candidates are:\u001b[39m\n\u001b[91m\u001b[0m  ∇²1d_Grid(::Any, \u001b[91m::Any\u001b[39m) at /Users/charlottehaley/.julia/packages/LaplaceInterpolation/bmqYD/src/Matern1D2D.jl:47\u001b[39m",
      "",
      "Stacktrace:",
      " [1] top-level scope at In[3]:2",
      " [2] include_string(::Function, ::Module, ::String, ::String) at ./loading.jl:1091"
     ]
    }
   ],
   "source": [
    "Nx = 8\n",
    "A = ∇²1d_Grid(Nx)\n",
    "\n",
    "plot(A)"
   ]
  },
  {
   "cell_type": "code",
   "execution_count": null,
   "metadata": {},
   "outputs": [],
   "source": []
  }
 ],
 "metadata": {
  "kernelspec": {
   "display_name": "Julia 1.5.4",
   "language": "julia",
   "name": "julia-1.5"
  },
  "language_info": {
   "file_extension": ".jl",
   "mimetype": "application/julia",
   "name": "julia",
   "version": "1.5.4"
  }
 },
 "nbformat": 4,
 "nbformat_minor": 4
}
