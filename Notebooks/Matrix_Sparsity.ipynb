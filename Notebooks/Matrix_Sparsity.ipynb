{
 "cells": [
  {
   "cell_type": "code",
   "execution_count": null,
   "metadata": {},
   "outputs": [],
   "source": [
    "using LinearAlgebra, SparseArrays, LaplaceInterpolation\n",
    "using Plots"
   ]
  },
  {
   "cell_type": "code",
   "execution_count": null,
   "metadata": {},
   "outputs": [],
   "source": [
    "Nx = 8\n",
    "A = nablasq_grid(8, 1.0)\n",
    "max_neighbors = 2\n",
    "heatmap(Matrix(A), c = :seismic, clims = (-max_neighbors = 2, max_neighbors = 2))"
   ]
  },
  {
   "cell_type": "code",
   "execution_count": null,
   "metadata": {},
   "outputs": [],
   "source": [
    "Ny = 4\n",
    "A2 = nablasq_grid(Nx, Ny, 1.0, 1.0)\n",
    "max_neighbors2 = 4\n",
    "heatmap(Matrix(A2), c = :seismic, clims = (-max_neighbors2, max_neighbors2))"
   ]
  },
  {
   "cell_type": "code",
   "execution_count": null,
   "metadata": {},
   "outputs": [],
   "source": []
  }
 ],
 "metadata": {
  "@webio": {
   "lastCommId": null,
   "lastKernelId": null
  },
  "kernelspec": {
   "display_name": "Julia 1.5.4",
   "language": "julia",
   "name": "julia-1.5"
  },
  "language_info": {
   "file_extension": ".jl",
   "mimetype": "application/julia",
   "name": "julia",
   "version": "1.5.4"
  }
 },
 "nbformat": 4,
 "nbformat_minor": 4
}
