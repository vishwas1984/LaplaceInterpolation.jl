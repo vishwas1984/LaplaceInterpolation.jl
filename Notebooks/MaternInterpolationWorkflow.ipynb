{
 "cells": [
  {
   "cell_type": "markdown",
   "metadata": {},
   "source": [
    "# Molybdenum doped Vanadium Dioxide Data\n",
    "\n",
    "We will be comparing the result of standard punch and fill to that of the technique involving watershed segmentation of the Bragg peaks followed by Laplacian and Matern fill. \n",
    "\n",
    "The data can be found on nxrs:\n",
    "`/data3/GUP-53547/movo2_40/md_54_4b/movo2_40_120K.nxs`\n",
    "\n",
    "From Matt: the most relevant scattering is found half-integer L planes, with only weak size-effect scattering close to the Bragg peaks; a 3D-deltaPDF should show a clear 2D 'X' pattern."
   ]
  },
  {
   "cell_type": "code",
   "execution_count": 1,
   "metadata": {},
   "outputs": [],
   "source": [
    "# Set up directories for {Charlotte,Vishwas}'s machine.\n",
    "from   pathlib import Path\n",
    "home = str(Path.home())\n",
    "\n",
    "# If not Charlotte's home, Vishwas's home\n",
    "if home == '/Users/charlottehaley':\n",
    "    base_dir = home + '/Documents/Data/Xray/md_54_4b/'\n",
    "    repo_dir = home + '/Documents/Repos/laplaceinterpolation/'\n",
    "else:\n",
    "    base_dir = home +'/Research/BES_Project/Data/'\n",
    "    repo_dir = home + '/Research/BES_Project/Repo/laplaceinterpolation/'\n",
    "\n",
    "save_data_dir = base_dir"
   ]
  },
  {
   "cell_type": "code",
   "execution_count": 2,
   "metadata": {
    "ExecuteTime": {
     "end_time": "2020-08-06T02:46:10.438983Z",
     "start_time": "2020-08-06T02:45:46.546478Z"
    }
   },
   "outputs": [],
   "source": [
    "# loads libraries and functions that are usually used\n",
    "# functions included: flipaxis, getbraggs, getstencil, peel, \n",
    "# standard_punch, laplacian_fill & matern_fill (using Laplacians.jl, not Vishwas's code, YET)\n",
    "import sys\n",
    "sys.path.insert(1, repo_dir)\n",
    "from utils import *\n",
    "julia.include(repo_dir+\"/MaternKernelApproximation.jl\")"
   ]
  },
  {
   "cell_type": "code",
   "execution_count": 3,
   "metadata": {
    "ExecuteTime": {
     "end_time": "2020-08-06T02:46:12.030433Z",
     "start_time": "2020-08-06T02:46:10.442322Z"
    }
   },
   "outputs": [],
   "source": [
    "# Load data, print tree\n",
    "\n",
    "filename = base_dir + 'movo2_40_120K.nxs'\n",
    "data = nxload(filename)\n",
    "data.unlock()\n",
    "\n",
    "filename_background = base_dir + 'movo2_40_background.nxs'\n",
    "\n",
    "movo2_40_background = nxload(filename_background)\n",
    "movo2_40_background.unlock()\n",
    "\n",
    "#print(data.tree)"
   ]
  },
  {
   "cell_type": "markdown",
   "metadata": {},
   "source": [
    "## Generate the symmetric transform data"
   ]
  },
  {
   "cell_type": "code",
   "execution_count": 4,
   "metadata": {
    "ExecuteTime": {
     "end_time": "2020-08-06T02:46:16.012909Z",
     "start_time": "2020-08-06T02:46:13.735010Z"
    }
   },
   "outputs": [
    {
     "name": "stderr",
     "output_type": "stream",
     "text": [
      "<ipython-input-4-76a52b13ec2b>:4: RuntimeWarning: divide by zero encountered in log\n",
      "  z3dl = np.log(z3d)\n"
     ]
    }
   ],
   "source": [
    "z3d = data.entry.symm_transform[-0.2:6.2,-0.2:8.2,-0.2:8.2].data.nxvalue \n",
    "# - movo2_40_background.entry.symm_transform[-0.2:6.2,-0.2:8.2,-0.2:8.2].data.nxdata Extending the data to\n",
    "# 6.2, 8.2, 8.2 for convenience during the interpolation step.\n",
    "z3dl = np.log(z3d)\n",
    "# Truncate the logarithm (simpler)\n",
    "z3dl[z3dl < 0.0] = 0.0\n",
    "\n",
    "# Take the laplacian of the data\n",
    "elevation_mapz = laplace(-z3dl)"
   ]
  },
  {
   "cell_type": "markdown",
   "metadata": {},
   "source": [
    "## Initialize X, Y, Z and dX, dY, and dZ"
   ]
  },
  {
   "cell_type": "code",
   "execution_count": 5,
   "metadata": {
    "ExecuteTime": {
     "end_time": "2020-08-06T02:46:23.950815Z",
     "start_time": "2020-08-06T02:46:19.188956Z"
    }
   },
   "outputs": [],
   "source": [
    "# The markers should be the Bragg locations\n",
    "x = data.entry.symm_transform[-0.2:6.2,-0.2:8.2,-0.2:8.2].Ql.nxvalue\n",
    "x2 = data.entry.symm_transform[-0.2:6.,-0.2:8.2,-0.2:8.2].Qk.nxvalue\n",
    "x3 = data.entry.symm_transform[-0.2:6.,-0.2:8.2,-0.2:8.2].Qh.nxvalue\n",
    "\n",
    "dx = x[1] - x[0]\n",
    "dx2 = x2[1] - x2[0]\n",
    "dx3 = x3[1] - x3[0]"
   ]
  },
  {
   "cell_type": "markdown",
   "metadata": {},
   "source": [
    "## Define the symmetrizing operation and the standard punch"
   ]
  },
  {
   "cell_type": "code",
   "execution_count": 6,
   "metadata": {
    "ExecuteTime": {
     "end_time": "2020-08-06T02:51:11.217214Z",
     "start_time": "2020-08-06T02:51:11.207505Z"
    }
   },
   "outputs": [],
   "source": [
    "Qh_lim=8\n",
    "Qk_lim=8\n",
    "Ql_lim=6\n",
    "\n",
    "kmin=50*(6-Ql_lim)\n",
    "kmax=50*(6+Ql_lim)\n",
    "jmin=50*(8-Qk_lim)\n",
    "jmax=50*(8+Qk_lim)\n",
    "imin=50*(8-Qh_lim)\n",
    "imax=50*(8+Qh_lim)\n",
    "\n",
    "def symmetrize(res):\n",
    "    # Convolultion happens over a single octant of the dataset\n",
    "    # This is a bit ad-hoc as the indices are hard-coded.\n",
    "    vvals=np.zeros((601,801,801))\n",
    "    vvals[290:601,390:801,390:801] = res\n",
    "    vvals[300:601,400:801,0:401] = flipaxis(vvals[300:601,400:801,400:801],2)\n",
    "    vvals[300:601,0:401,0:801] = flipaxis(vvals[300:601,400:801,0:801],1)\n",
    "    vvals[0:301,0:801,0:801] = flipaxis(vvals[300:601,0:801,0:801],0)\n",
    "    # background subtraction - what is the minimum spherically symmetric background - not\n",
    "    # rigorously based on anything\n",
    "    # vvals=vvals[kmin:kmax,jmin:jmax,imin:imax]-movo2_40_background.entry.symm_transform[-6.:5.98,-8.:7.98,-8.:7.98].data.nxdata-2\n",
    "    # Anything less than zero is set to zero. No intensity should be less than zero\n",
    "    # vvals[vvals < 0] = 0\n",
    "    return vvals[0:600,0:800,0:800]"
   ]
  },
  {
   "cell_type": "code",
   "execution_count": 10,
   "metadata": {
    "scrolled": true
   },
   "outputs": [
    {
     "name": "stdout",
     "output_type": "stream",
     "text": [
      "Time taken : 188.64757240400002\n"
     ]
    }
   ],
   "source": [
    "# Matern Interpolation happens here. \n",
    "epsilon = 0. #Regularization parameter\n",
    "m = 2 #Matern parameter\n",
    "radius = 0.200; # Punch radius\n",
    "h = 0.02; # approximate grid spacing. For MoVO2, the grid spacing along all directions are the same.\n",
    "#For other Crystals, this might not be so. In that case, we have separate values of h,k,l.\n",
    "# including the boundaries to see how things work\n",
    "xmin = 0\n",
    "xmax = 7\n",
    "ymin = 0\n",
    "ymax = 9\n",
    "zmin = 0\n",
    "zmax = 9\n",
    "xbegin = ybegin = zbegin =-0.2\n",
    "z3d_copy =np.copy(z3d) #Creating a copy to ensure the original is not overwritten.\n",
    "z3d_restored = np.copy(z3d) #Creating a copy to ensure the original is not overwritten.\n",
    "stride = 10; # This is used to send chunks of the volume data for processing.\n",
    "#Interpolating across entire data can be time consuming. Instead, dividing into small chunks\n",
    "#results in smaller but a large number of linear systems. Currently, \"stride\" is chosen adhoc. \n",
    "#For MoVO2, I chose 10 to ensure that the length of the cube of the data that is sent is slightly\n",
    "#larger than the diameter of the punch. In case of Matern, different \"stride\" values will result \n",
    "#in different interpolation results.  Larger stride values might result in \"better\" interpolation\n",
    "#but this comes at a cost. For Laplace, however, interpolation results are independent of the value\n",
    "#of stride as long as length of the cube of the data that is sent is slightly larger than the\n",
    "#diameter of the punch. In summary, value of \"stride\" depends somewhat on the problem. \n",
    "\n",
    "starttime = timeit.default_timer()\n",
    "for i in range(zmin, zmax):\n",
    "    i1 = int((i-zbegin) /h)-stride #(i2-i1)*h will be the length of the cube\n",
    "    i2 = i1+2*stride+1 #Here we are sending only the cube surrounding the punch\n",
    "    #for interpolation.\n",
    "    #print(i1,i2)\n",
    "    for j in range(ymin, ymax):\n",
    "        j1 = int((j-ybegin)/h)-stride;\n",
    "        j2 = j1+2*stride+1 #(j2-j1)*h will be the length of the cube. For some crystals\n",
    "        # (j2-j1)*h != (i2-i1)*h because of different aspect ratios.\n",
    "        #print(j1,j2)\n",
    "        for k in range(xmin, xmax):\n",
    "            k1 = int((k-ybegin)/h) - stride\n",
    "            k2 = k1+2*stride+1 #(k2-k1)*h will be the length of the cube. \n",
    "            z3temp = z3d_copy[k1:k2,j1:j2,i1:i2] #Instead of sending the entire z3d, We are just sending a \n",
    "    #small section of it for interpolation.\n",
    "            restored_img, punched_image = julia.Matern3D_Grid(x[k1:k2], x2[j1:j2], x3[i1:i2], z3temp,\n",
    "                                                              epsilon, radius, h, h, h, m) #h=k=l here\n",
    "#             print(np.shape(restored_img))\n",
    "            \n",
    "            restored_img_reshape = np.reshape(restored_img, (2*stride+1,2*stride+1,2*stride+1))\n",
    "            z3d_restored[k1:k2, j1:j2, i1:i2] = restored_img_reshape.T #Image needs to be transposed because\n",
    "            #of a different ordering in Julia\n",
    "print(\"Time taken :\", timeit.default_timer() - starttime)\n",
    "\n",
    "# The result of the Matern interpolation is in z3d_restored"
   ]
  },
  {
   "cell_type": "code",
   "execution_count": 13,
   "metadata": {},
   "outputs": [
    {
     "name": "stdout",
     "output_type": "stream",
     "text": [
      "Time taken : 48.13238372300003\n"
     ]
    }
   ],
   "source": [
    "# Laplace interpolation happens here.\n",
    "# Interpolated data is in z3d_restored_laplace. Original in z3d.\n",
    "\n",
    "z3d_copy =np.copy(z3d)\n",
    "z3d_restored_laplace = np.copy(z3d)\n",
    "starttime = timeit.default_timer()\n",
    "for i in range(zmin, zmax):\n",
    "    i1 = int((i-zbegin) /h)-stride #Please see the comments in the Matern interpolation cell.\n",
    "    i2 = i1+2*stride+1\n",
    "    for j in range(ymin, ymax):\n",
    "        j1 = int((j-ybegin)/h)-stride;\n",
    "        j2 = j1+2*stride+1\n",
    "        for k in range(xmin, xmax):\n",
    "            k1 = int((k-ybegin)/h) - stride\n",
    "            k2 = k1+2*stride+1\n",
    "            z3temp = z3d_copy[k1:k2,j1:j2,i1:i2] #Instead of sending the entire z3d, We are just passing a \n",
    "    #small section of it for interpolation.\n",
    "            restored_img, punched_image = julia.Laplace3D_Grid(x[k1:k2], x2[j1:j2], x3[i1:i2], z3temp, radius, h,\n",
    "                                                              h, h)\n",
    "            restored_img_reshape = np.reshape(restored_img, (2*stride+1,2*stride+1,2*stride+1))\n",
    "            z3d_restored_laplace[k1:k2, j1:j2, i1:i2] = restored_img_reshape.T\n",
    "print(\"Time taken :\", timeit.default_timer() - starttime)"
   ]
  },
  {
   "cell_type": "code",
   "execution_count": 51,
   "metadata": {},
   "outputs": [
    {
     "data": {
      "text/plain": [
       "(1e-05, 2338.091552734375)"
      ]
     },
     "execution_count": 51,
     "metadata": {},
     "output_type": "execute_result"
    },
    {
     "data": {
      "image/png": "[encoded data removed]",
      "text/plain": [
       "<Figure size 1080x360 with 3 Axes>"
      ]
     },
     "metadata": {
      "needs_background": "light"
     },
     "output_type": "display_data"
    }
   ],
   "source": [
    "# Taking a 1D slice\n",
    "\n",
    "# Index in x and y\n",
    "idx = 60;\n",
    "idy = 10;\n",
    "\n",
    "# Find the maximum of the data on the slice common to both z3d_copy and z3d (are these different?) and add 10 for good measure\n",
    "max1 = np.max(z3d_copy[:,idy,idx])\n",
    "max2 = np.max(z3d[:,idy,idx])\n",
    "max_y = np.max([max1, max2])+10\n",
    "\n",
    "# Plot original data, matern and laplace interpolations\n",
    "fig,ax=plt.subplots(1,3, figsize=(15,5))\n",
    "ax[0].semilogy((z3d[:,idy, idx]))\n",
    "ax[0].set_ylim([0.00001, max_y])\n",
    "ax[0].set_title(\"Original data\")\n",
    "ax[1].semilogy((z3d_restored[:, idy,idx]))\n",
    "ax[1].set_title(\"Matern interpolated\")\n",
    "ax[1].set_ylim([0.00001, max_y])\n",
    "ax[2].semilogy((z3d_restored_laplace[:, idy,idx]))\n",
    "ax[2].set_title(\"Laplace interpolated\")\n",
    "ax[2].set_ylim([0.00001, max_y])"
   ]
  },
  {
   "cell_type": "markdown",
   "metadata": {},
   "source": [
    "## Save the watershed and standard punch locations to an .nxs file "
   ]
  },
  {
   "cell_type": "code",
   "execution_count": 71,
   "metadata": {
    "ExecuteTime": {
     "end_time": "2020-08-06T02:51:28.819663Z",
     "start_time": "2020-08-06T02:51:27.989952Z"
    }
   },
   "outputs": [],
   "source": [
    "expt_data = nxload(save_data_dir + 'movo2_40_120K.nxs')['entry'] # or root['entry/masked_transform']"
   ]
  },
  {
   "cell_type": "code",
   "execution_count": 72,
   "metadata": {
    "ExecuteTime": {
     "end_time": "2020-08-06T02:51:44.157600Z",
     "start_time": "2020-08-06T02:51:28.825859Z"
    }
   },
   "outputs": [
    {
     "ename": "ValueError",
     "evalue": "could not broadcast input array from shape (321,421,421) into shape (311,411,411)",
     "output_type": "error",
     "traceback": [
      "\u001b[0;31m---------------------------------------------------------------------------\u001b[0m",
      "\u001b[0;31mValueError\u001b[0m                                Traceback (most recent call last)",
      "\u001b[0;32m<ipython-input-72-8994ff88c406>\u001b[0m in \u001b[0;36m<module>\u001b[0;34m\u001b[0m\n\u001b[1;32m      3\u001b[0m \u001b[0mroot\u001b[0m \u001b[0;34m=\u001b[0m \u001b[0mNXroot\u001b[0m\u001b[0;34m(\u001b[0m\u001b[0mNXentry\u001b[0m\u001b[0;34m(\u001b[0m\u001b[0;34m)\u001b[0m\u001b[0;34m)\u001b[0m\u001b[0;34m\u001b[0m\u001b[0;34m\u001b[0m\u001b[0m\n\u001b[1;32m      4\u001b[0m \u001b[0;31m# Make a nexus field for the Standard punch\u001b[0m\u001b[0;34m\u001b[0m\u001b[0;34m\u001b[0m\u001b[0;34m\u001b[0m\u001b[0m\n\u001b[0;32m----> 5\u001b[0;31m \u001b[0mstdpunch\u001b[0m \u001b[0;34m=\u001b[0m \u001b[0mNXfield\u001b[0m\u001b[0;34m(\u001b[0m\u001b[0msymmetrize\u001b[0m\u001b[0;34m(\u001b[0m\u001b[0mnan_locs\u001b[0m\u001b[0;34m)\u001b[0m\u001b[0;34m,\u001b[0m \u001b[0mname\u001b[0m\u001b[0;34m=\u001b[0m\u001b[0;34m'standard_punch_locs'\u001b[0m\u001b[0;34m)\u001b[0m\u001b[0;34m\u001b[0m\u001b[0;34m\u001b[0m\u001b[0m\n\u001b[0m\u001b[1;32m      6\u001b[0m \u001b[0mroot\u001b[0m\u001b[0;34m.\u001b[0m\u001b[0mentry\u001b[0m\u001b[0;34m.\u001b[0m\u001b[0msphere_punch\u001b[0m \u001b[0;34m=\u001b[0m \u001b[0mNXdata\u001b[0m\u001b[0;34m(\u001b[0m\u001b[0mstdpunch\u001b[0m\u001b[0;34m,\u001b[0m \u001b[0mexpt_data\u001b[0m\u001b[0;34m.\u001b[0m\u001b[0msymm_transform\u001b[0m\u001b[0;34m[\u001b[0m\u001b[0;34m-\u001b[0m\u001b[0;36m6.\u001b[0m\u001b[0;34m:\u001b[0m\u001b[0;36m5.98\u001b[0m\u001b[0;34m,\u001b[0m\u001b[0;34m-\u001b[0m\u001b[0;36m8.\u001b[0m\u001b[0;34m:\u001b[0m\u001b[0;36m7.98\u001b[0m\u001b[0;34m,\u001b[0m\u001b[0;34m-\u001b[0m\u001b[0;36m8.\u001b[0m\u001b[0;34m:\u001b[0m\u001b[0;36m7.98\u001b[0m\u001b[0;34m]\u001b[0m\u001b[0;34m.\u001b[0m\u001b[0mnxaxes\u001b[0m\u001b[0;34m)\u001b[0m\u001b[0;34m\u001b[0m\u001b[0;34m\u001b[0m\u001b[0m\n\u001b[1;32m      7\u001b[0m \u001b[0;31m#root.save(save_data_dir + 'punched/new_movo2_40_sphere_punch_locs.nxs')\u001b[0m\u001b[0;34m\u001b[0m\u001b[0;34m\u001b[0m\u001b[0;34m\u001b[0m\u001b[0m\n",
      "\u001b[0;32m<ipython-input-39-8404b7237a7d>\u001b[0m in \u001b[0;36msymmetrize\u001b[0;34m(res)\u001b[0m\n\u001b[1;32m     14\u001b[0m     \u001b[0;31m# This is a bit ad-hoc as the indices are hard-coded.\u001b[0m\u001b[0;34m\u001b[0m\u001b[0;34m\u001b[0m\u001b[0;34m\u001b[0m\u001b[0m\n\u001b[1;32m     15\u001b[0m     \u001b[0mvvals\u001b[0m\u001b[0;34m=\u001b[0m\u001b[0mnp\u001b[0m\u001b[0;34m.\u001b[0m\u001b[0mzeros\u001b[0m\u001b[0;34m(\u001b[0m\u001b[0;34m(\u001b[0m\u001b[0;36m601\u001b[0m\u001b[0;34m,\u001b[0m\u001b[0;36m801\u001b[0m\u001b[0;34m,\u001b[0m\u001b[0;36m801\u001b[0m\u001b[0;34m)\u001b[0m\u001b[0;34m)\u001b[0m\u001b[0;34m\u001b[0m\u001b[0;34m\u001b[0m\u001b[0m\n\u001b[0;32m---> 16\u001b[0;31m     \u001b[0mvvals\u001b[0m\u001b[0;34m[\u001b[0m\u001b[0;36m290\u001b[0m\u001b[0;34m:\u001b[0m\u001b[0;36m601\u001b[0m\u001b[0;34m,\u001b[0m\u001b[0;36m390\u001b[0m\u001b[0;34m:\u001b[0m\u001b[0;36m801\u001b[0m\u001b[0;34m,\u001b[0m\u001b[0;36m390\u001b[0m\u001b[0;34m:\u001b[0m\u001b[0;36m801\u001b[0m\u001b[0;34m]\u001b[0m \u001b[0;34m=\u001b[0m \u001b[0mres\u001b[0m\u001b[0;34m\u001b[0m\u001b[0;34m\u001b[0m\u001b[0m\n\u001b[0m\u001b[1;32m     17\u001b[0m     \u001b[0mvvals\u001b[0m\u001b[0;34m[\u001b[0m\u001b[0;36m300\u001b[0m\u001b[0;34m:\u001b[0m\u001b[0;36m601\u001b[0m\u001b[0;34m,\u001b[0m\u001b[0;36m400\u001b[0m\u001b[0;34m:\u001b[0m\u001b[0;36m801\u001b[0m\u001b[0;34m,\u001b[0m\u001b[0;36m0\u001b[0m\u001b[0;34m:\u001b[0m\u001b[0;36m401\u001b[0m\u001b[0;34m]\u001b[0m \u001b[0;34m=\u001b[0m \u001b[0mflipaxis\u001b[0m\u001b[0;34m(\u001b[0m\u001b[0mvvals\u001b[0m\u001b[0;34m[\u001b[0m\u001b[0;36m300\u001b[0m\u001b[0;34m:\u001b[0m\u001b[0;36m601\u001b[0m\u001b[0;34m,\u001b[0m\u001b[0;36m400\u001b[0m\u001b[0;34m:\u001b[0m\u001b[0;36m801\u001b[0m\u001b[0;34m,\u001b[0m\u001b[0;36m400\u001b[0m\u001b[0;34m:\u001b[0m\u001b[0;36m801\u001b[0m\u001b[0;34m]\u001b[0m\u001b[0;34m,\u001b[0m\u001b[0;36m2\u001b[0m\u001b[0;34m)\u001b[0m\u001b[0;34m\u001b[0m\u001b[0;34m\u001b[0m\u001b[0m\n\u001b[1;32m     18\u001b[0m     \u001b[0mvvals\u001b[0m\u001b[0;34m[\u001b[0m\u001b[0;36m300\u001b[0m\u001b[0;34m:\u001b[0m\u001b[0;36m601\u001b[0m\u001b[0;34m,\u001b[0m\u001b[0;36m0\u001b[0m\u001b[0;34m:\u001b[0m\u001b[0;36m401\u001b[0m\u001b[0;34m,\u001b[0m\u001b[0;36m0\u001b[0m\u001b[0;34m:\u001b[0m\u001b[0;36m801\u001b[0m\u001b[0;34m]\u001b[0m \u001b[0;34m=\u001b[0m \u001b[0mflipaxis\u001b[0m\u001b[0;34m(\u001b[0m\u001b[0mvvals\u001b[0m\u001b[0;34m[\u001b[0m\u001b[0;36m300\u001b[0m\u001b[0;34m:\u001b[0m\u001b[0;36m601\u001b[0m\u001b[0;34m,\u001b[0m\u001b[0;36m400\u001b[0m\u001b[0;34m:\u001b[0m\u001b[0;36m801\u001b[0m\u001b[0;34m,\u001b[0m\u001b[0;36m0\u001b[0m\u001b[0;34m:\u001b[0m\u001b[0;36m801\u001b[0m\u001b[0;34m]\u001b[0m\u001b[0;34m,\u001b[0m\u001b[0;36m1\u001b[0m\u001b[0;34m)\u001b[0m\u001b[0;34m\u001b[0m\u001b[0;34m\u001b[0m\u001b[0m\n",
      "\u001b[0;31mValueError\u001b[0m: could not broadcast input array from shape (321,421,421) into shape (311,411,411)"
     ]
    }
   ],
   "source": [
    "# Save the standard punch locations -- Paths and names of the filenames need to be changed. So commenting\n",
    "#out the Save command.\n",
    "root = NXroot(NXentry())\n",
    "# Make a nexus field for the Standard punch \n",
    "stdpunch = NXfield(symmetrize(nan_locs), name='standard_punch_locs')\n",
    "root.entry.sphere_punch = NXdata(stdpunch, expt_data.symm_transform[-6.:5.98,-8.:7.98,-8.:7.98].nxaxes)\n",
    "#root.save(save_data_dir + 'punched/new_movo2_40_sphere_punch_locs.nxs')"
   ]
  },
  {
   "cell_type": "markdown",
   "metadata": {},
   "source": [
    "# Interpolation step"
   ]
  },
  {
   "cell_type": "code",
   "execution_count": 21,
   "metadata": {
    "ExecuteTime": {
     "end_time": "2020-08-06T02:56:21.845817Z",
     "start_time": "2020-08-06T02:51:58.860558Z"
    }
   },
   "outputs": [
    {
     "name": "stdout",
     "output_type": "stream",
     "text": [
      "CPU times: user 7min 28s, sys: 1.21 s, total: 7min 29s\n",
      "Wall time: 7min 30s\n"
     ]
    }
   ],
   "source": [
    "# Conventional punch and Gaussian fill\n",
    "%time res = standard_fill(z3d,punched,nan_locs)"
   ]
  },
  {
   "cell_type": "code",
   "execution_count": 73,
   "metadata": {
    "ExecuteTime": {
     "end_time": "2020-08-06T02:56:22.064841Z",
     "start_time": "2020-08-06T02:56:21.848920Z"
    }
   },
   "outputs": [
    {
     "data": {
      "text/plain": [
       "<matplotlib.image.AxesImage at 0x144852550>"
      ]
     },
     "execution_count": 73,
     "metadata": {},
     "output_type": "execute_result"
    },
    {
     "data": {
      "image/png": "[encoded data removed]",
      "text/plain": [
       "<Figure size 432x288 with 1 Axes>"
      ]
     },
     "metadata": {
      "needs_background": "light"
     },
     "output_type": "display_data"
    }
   ],
   "source": [
    "# plt.imshow(res[:,:,10], origin='lower')\n",
    "plt.imshow(punched[:,:,10], origin='lower')"
   ]
  },
  {
   "cell_type": "code",
   "execution_count": 74,
   "metadata": {},
   "outputs": [
    {
     "ename": "ValueError",
     "evalue": "could not broadcast input array from shape (321,421,421) into shape (311,411,411)",
     "output_type": "error",
     "traceback": [
      "\u001b[0;31m---------------------------------------------------------------------------\u001b[0m",
      "\u001b[0;31mValueError\u001b[0m                                Traceback (most recent call last)",
      "\u001b[0;32m<ipython-input-74-8161044c522d>\u001b[0m in \u001b[0;36m<module>\u001b[0;34m\u001b[0m\n\u001b[1;32m      1\u001b[0m \u001b[0mroot\u001b[0m \u001b[0;34m=\u001b[0m \u001b[0mNXroot\u001b[0m\u001b[0;34m(\u001b[0m\u001b[0mNXentry\u001b[0m\u001b[0;34m(\u001b[0m\u001b[0;34m)\u001b[0m\u001b[0;34m)\u001b[0m\u001b[0;34m\u001b[0m\u001b[0;34m\u001b[0m\u001b[0m\n\u001b[0;32m----> 2\u001b[0;31m \u001b[0mstdinterp\u001b[0m \u001b[0;34m=\u001b[0m \u001b[0mNXfield\u001b[0m\u001b[0;34m(\u001b[0m\u001b[0msymmetrize\u001b[0m\u001b[0;34m(\u001b[0m\u001b[0mz3d_restored\u001b[0m\u001b[0;34m)\u001b[0m\u001b[0;34m,\u001b[0m \u001b[0mname\u001b[0m\u001b[0;34m=\u001b[0m\u001b[0;34m'sphere_punch_matern_interp_data'\u001b[0m\u001b[0;34m)\u001b[0m\u001b[0;34m\u001b[0m\u001b[0;34m\u001b[0m\u001b[0m\n\u001b[0m\u001b[1;32m      3\u001b[0m \u001b[0mroot\u001b[0m\u001b[0;34m.\u001b[0m\u001b[0mentry\u001b[0m\u001b[0;34m.\u001b[0m\u001b[0msphere_matern_data\u001b[0m \u001b[0;34m=\u001b[0m \u001b[0mNXdata\u001b[0m\u001b[0;34m(\u001b[0m\u001b[0mstdinterp\u001b[0m\u001b[0;34m,\u001b[0m \u001b[0mexpt_data\u001b[0m\u001b[0;34m.\u001b[0m\u001b[0msymm_transform\u001b[0m\u001b[0;34m[\u001b[0m\u001b[0;34m-\u001b[0m\u001b[0;36m6.\u001b[0m\u001b[0;34m:\u001b[0m\u001b[0;36m5.98\u001b[0m\u001b[0;34m,\u001b[0m\u001b[0;34m-\u001b[0m\u001b[0;36m8.\u001b[0m\u001b[0;34m:\u001b[0m\u001b[0;36m7.98\u001b[0m\u001b[0;34m,\u001b[0m\u001b[0;34m-\u001b[0m\u001b[0;36m8.\u001b[0m\u001b[0;34m:\u001b[0m\u001b[0;36m7.98\u001b[0m\u001b[0;34m]\u001b[0m\u001b[0;34m.\u001b[0m\u001b[0mnxaxes\u001b[0m\u001b[0;34m)\u001b[0m\u001b[0;34m\u001b[0m\u001b[0;34m\u001b[0m\u001b[0m\n\u001b[1;32m      4\u001b[0m \u001b[0;34m\u001b[0m\u001b[0m\n\u001b[1;32m      5\u001b[0m \u001b[0;31m#root.save(save_data_dir + 'aux/movo2_40_sphere_matern_data.nxs')\u001b[0m\u001b[0;34m\u001b[0m\u001b[0;34m\u001b[0m\u001b[0;34m\u001b[0m\u001b[0m\n",
      "\u001b[0;32m<ipython-input-39-8404b7237a7d>\u001b[0m in \u001b[0;36msymmetrize\u001b[0;34m(res)\u001b[0m\n\u001b[1;32m     14\u001b[0m     \u001b[0;31m# This is a bit ad-hoc as the indices are hard-coded.\u001b[0m\u001b[0;34m\u001b[0m\u001b[0;34m\u001b[0m\u001b[0;34m\u001b[0m\u001b[0m\n\u001b[1;32m     15\u001b[0m     \u001b[0mvvals\u001b[0m\u001b[0;34m=\u001b[0m\u001b[0mnp\u001b[0m\u001b[0;34m.\u001b[0m\u001b[0mzeros\u001b[0m\u001b[0;34m(\u001b[0m\u001b[0;34m(\u001b[0m\u001b[0;36m601\u001b[0m\u001b[0;34m,\u001b[0m\u001b[0;36m801\u001b[0m\u001b[0;34m,\u001b[0m\u001b[0;36m801\u001b[0m\u001b[0;34m)\u001b[0m\u001b[0;34m)\u001b[0m\u001b[0;34m\u001b[0m\u001b[0;34m\u001b[0m\u001b[0m\n\u001b[0;32m---> 16\u001b[0;31m     \u001b[0mvvals\u001b[0m\u001b[0;34m[\u001b[0m\u001b[0;36m290\u001b[0m\u001b[0;34m:\u001b[0m\u001b[0;36m601\u001b[0m\u001b[0;34m,\u001b[0m\u001b[0;36m390\u001b[0m\u001b[0;34m:\u001b[0m\u001b[0;36m801\u001b[0m\u001b[0;34m,\u001b[0m\u001b[0;36m390\u001b[0m\u001b[0;34m:\u001b[0m\u001b[0;36m801\u001b[0m\u001b[0;34m]\u001b[0m \u001b[0;34m=\u001b[0m \u001b[0mres\u001b[0m\u001b[0;34m\u001b[0m\u001b[0;34m\u001b[0m\u001b[0m\n\u001b[0m\u001b[1;32m     17\u001b[0m     \u001b[0mvvals\u001b[0m\u001b[0;34m[\u001b[0m\u001b[0;36m300\u001b[0m\u001b[0;34m:\u001b[0m\u001b[0;36m601\u001b[0m\u001b[0;34m,\u001b[0m\u001b[0;36m400\u001b[0m\u001b[0;34m:\u001b[0m\u001b[0;36m801\u001b[0m\u001b[0;34m,\u001b[0m\u001b[0;36m0\u001b[0m\u001b[0;34m:\u001b[0m\u001b[0;36m401\u001b[0m\u001b[0;34m]\u001b[0m \u001b[0;34m=\u001b[0m \u001b[0mflipaxis\u001b[0m\u001b[0;34m(\u001b[0m\u001b[0mvvals\u001b[0m\u001b[0;34m[\u001b[0m\u001b[0;36m300\u001b[0m\u001b[0;34m:\u001b[0m\u001b[0;36m601\u001b[0m\u001b[0;34m,\u001b[0m\u001b[0;36m400\u001b[0m\u001b[0;34m:\u001b[0m\u001b[0;36m801\u001b[0m\u001b[0;34m,\u001b[0m\u001b[0;36m400\u001b[0m\u001b[0;34m:\u001b[0m\u001b[0;36m801\u001b[0m\u001b[0;34m]\u001b[0m\u001b[0;34m,\u001b[0m\u001b[0;36m2\u001b[0m\u001b[0;34m)\u001b[0m\u001b[0;34m\u001b[0m\u001b[0;34m\u001b[0m\u001b[0m\n\u001b[1;32m     18\u001b[0m     \u001b[0mvvals\u001b[0m\u001b[0;34m[\u001b[0m\u001b[0;36m300\u001b[0m\u001b[0;34m:\u001b[0m\u001b[0;36m601\u001b[0m\u001b[0;34m,\u001b[0m\u001b[0;36m0\u001b[0m\u001b[0;34m:\u001b[0m\u001b[0;36m401\u001b[0m\u001b[0;34m,\u001b[0m\u001b[0;36m0\u001b[0m\u001b[0;34m:\u001b[0m\u001b[0;36m801\u001b[0m\u001b[0;34m]\u001b[0m \u001b[0;34m=\u001b[0m \u001b[0mflipaxis\u001b[0m\u001b[0;34m(\u001b[0m\u001b[0mvvals\u001b[0m\u001b[0;34m[\u001b[0m\u001b[0;36m300\u001b[0m\u001b[0;34m:\u001b[0m\u001b[0;36m601\u001b[0m\u001b[0;34m,\u001b[0m\u001b[0;36m400\u001b[0m\u001b[0;34m:\u001b[0m\u001b[0;36m801\u001b[0m\u001b[0;34m,\u001b[0m\u001b[0;36m0\u001b[0m\u001b[0;34m:\u001b[0m\u001b[0;36m801\u001b[0m\u001b[0;34m]\u001b[0m\u001b[0;34m,\u001b[0m\u001b[0;36m1\u001b[0m\u001b[0;34m)\u001b[0m\u001b[0;34m\u001b[0m\u001b[0;34m\u001b[0m\u001b[0m\n",
      "\u001b[0;31mValueError\u001b[0m: could not broadcast input array from shape (321,421,421) into shape (311,411,411)"
     ]
    }
   ],
   "source": [
    "root = NXroot(NXentry())\n",
    "stdinterp = NXfield(symmetrize(z3d_restored), name='sphere_punch_matern_interp_data')\n",
    "root.entry.sphere_matern_data = NXdata(stdinterp, expt_data.symm_transform[-6.:5.98,-8.:7.98,-8.:7.98].nxaxes)\n",
    "\n",
    "#root.save(save_data_dir + 'aux/movo2_40_sphere_matern_data.nxs')"
   ]
  },
  {
   "cell_type": "code",
   "execution_count": 24,
   "metadata": {},
   "outputs": [],
   "source": [
    "root = NXroot(NXentry())\n",
    "stdinterp = NXfield(symmetrize(z3d_restored_laplace), name='sphere_punch_laplace_interp_data')\n",
    "root.entry.sphere_laplace_data = NXdata(stdinterp, expt_data.symm_transform[-6.:5.98,-8.:7.98,-8.:7.98].nxaxes)\n",
    "\n",
    "#root.save(save_data_dir + 'aux/movo2_40_sphere_laplace_data.nxs')"
   ]
  },
  {
   "cell_type": "code",
   "execution_count": 25,
   "metadata": {},
   "outputs": [],
   "source": [
    "root = NXroot(NXentry())\n",
    "stdinterp = NXfield(symmetrize(z3d_copy), name='original_data')\n",
    "root.entry.sphere_laplace_data = NXdata(stdinterp, expt_data.symm_transform[-6.:5.98,-8.:7.98,-8.:7.98].nxaxes)\n",
    "\n",
    "#root.save(save_data_dir + 'aux/movo2_40_original_data.nxs')"
   ]
  },
  {
   "cell_type": "code",
   "execution_count": 26,
   "metadata": {
    "ExecuteTime": {
     "end_time": "2020-08-06T02:48:44.682542Z",
     "start_time": "2020-08-06T02:45:46.632Z"
    }
   },
   "outputs": [],
   "source": [
    "# Save the standard punch and fill result.\n",
    "root = NXroot(NXentry())\n",
    "stdinterp = NXfield(symmetrize(res), name='sphere_punch_gauss_interp_data')\n",
    "root.entry.sphere_gauss_data = NXdata(stdinterp, expt_data.symm_transform[-6.:5.98,-8.:7.98,-8.:7.98].nxaxes)\n",
    "\n",
    "#root.save(save_data_dir + 'aux/movo2_40_sphere_gauss_data.nxs')"
   ]
  },
  {
   "cell_type": "code",
   "execution_count": null,
   "metadata": {},
   "outputs": [],
   "source": []
  }
 ],
 "metadata": {
  "@webio": {
   "lastCommId": null,
   "lastKernelId": null
  },
  "kernelspec": {
   "display_name": "Python 3",
   "language": "python",
   "name": "python3"
  },
  "language_info": {
   "codemirror_mode": {
    "name": "ipython",
    "version": 3
   },
   "file_extension": ".py",
   "mimetype": "text/x-python",
   "name": "python",
   "nbconvert_exporter": "python",
   "pygments_lexer": "ipython3",
   "version": "3.8.5"
  },
  "notify_time": "10",
  "toc": {
   "base_numbering": 1,
   "nav_menu": {},
   "number_sections": true,
   "sideBar": true,
   "skip_h1_title": false,
   "title_cell": "Table of Contents",
   "title_sidebar": "Contents",
   "toc_cell": false,
   "toc_position": {},
   "toc_section_display": true,
   "toc_window_display": false
  }
 },
 "nbformat": 4,
 "nbformat_minor": 2
}
